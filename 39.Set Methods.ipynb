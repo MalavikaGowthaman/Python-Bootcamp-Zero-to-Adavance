{
 "cells": [
  {
   "cell_type": "markdown",
   "metadata": {},
   "source": [
    "### len/sum/min/max/sorted\n"
   ]
  },
  {
   "cell_type": "code",
   "execution_count": 1,
   "metadata": {},
   "outputs": [
    {
     "name": "stdout",
     "output_type": "stream",
     "text": [
      "5\n",
      "1\n",
      "5\n",
      "15\n",
      "[5, 4, 3, 2, 1]\n"
     ]
    }
   ],
   "source": [
    "s ={1,2,3,4,5}\n",
    "print(len(s))\n",
    "print(min(s))\n",
    "print(max(s))\n",
    "print(sum(s))\n",
    "print(sorted(s,reverse=True))"
   ]
  },
  {
   "cell_type": "markdown",
   "metadata": {},
   "source": [
    "### union/update\n"
   ]
  },
  {
   "cell_type": "code",
   "execution_count": 2,
   "metadata": {},
   "outputs": [
    {
     "data": {
      "text/plain": [
       "{1, 2, 3, 4, 5, 6, 7}"
      ]
     },
     "execution_count": 2,
     "metadata": {},
     "output_type": "execute_result"
    }
   ],
   "source": [
    "s1 ={1,2,3,4,5}\n",
    "s2 ={3,4,5,6,7}\n",
    "\n",
    "s1.union(s2)"
   ]
  },
  {
   "cell_type": "code",
   "execution_count": 4,
   "metadata": {},
   "outputs": [
    {
     "name": "stdout",
     "output_type": "stream",
     "text": [
      "s1: {1, 2, 3, 4, 5, 6, 7}\n",
      "s2: {3, 4, 5, 6, 7}\n"
     ]
    }
   ],
   "source": [
    "s1.update(s2)\n",
    "print('s1:',s1)\n",
    "print('s2:',s2)"
   ]
  },
  {
   "cell_type": "markdown",
   "metadata": {},
   "source": [
    "### intersection/intersection_update\n"
   ]
  },
  {
   "cell_type": "code",
   "execution_count": 8,
   "metadata": {},
   "outputs": [
    {
     "data": {
      "text/plain": [
       "{3, 4, 5}"
      ]
     },
     "execution_count": 8,
     "metadata": {},
     "output_type": "execute_result"
    }
   ],
   "source": [
    "s1 ={1,2,3,4,5}\n",
    "s2 ={3,4,5,6,7}\n",
    "s1.intersection(s2)\n",
    "# print('s1:',s1)\n",
    "# print('s2:',s2)"
   ]
  },
  {
   "cell_type": "code",
   "execution_count": 10,
   "metadata": {},
   "outputs": [
    {
     "name": "stdout",
     "output_type": "stream",
     "text": [
      "s1: {3, 4, 5}\n",
      "s2: {3, 4, 5, 6, 7}\n"
     ]
    }
   ],
   "source": [
    "s1 ={1,2,3,4,5}\n",
    "s2 ={3,4,5,6,7}\n",
    "s1.intersection_update(s2)\n",
    "print('s1:',s1)\n",
    "print('s2:',s2)"
   ]
  },
  {
   "cell_type": "markdown",
   "metadata": {},
   "source": [
    "### difference/difference_update\n"
   ]
  },
  {
   "cell_type": "code",
   "execution_count": 12,
   "metadata": {},
   "outputs": [
    {
     "data": {
      "text/plain": [
       "{1, 2}"
      ]
     },
     "execution_count": 12,
     "metadata": {},
     "output_type": "execute_result"
    }
   ],
   "source": [
    "s1 ={1,2,3,4,5}\n",
    "s2 ={3,4,5,6,7}\n",
    "s1.difference(s2)\n",
    "# print('s1:',s1)\n",
    "# print('s2:',s2)"
   ]
  },
  {
   "cell_type": "code",
   "execution_count": 14,
   "metadata": {},
   "outputs": [
    {
     "data": {
      "text/plain": [
       "{6, 7}"
      ]
     },
     "execution_count": 14,
     "metadata": {},
     "output_type": "execute_result"
    }
   ],
   "source": [
    "s2.difference(s1)\n"
   ]
  },
  {
   "cell_type": "code",
   "execution_count": 17,
   "metadata": {},
   "outputs": [
    {
     "name": "stdout",
     "output_type": "stream",
     "text": [
      "s1: {1, 2}\n",
      "s2: {3, 4, 5, 6, 7}\n"
     ]
    }
   ],
   "source": [
    "s1 ={1,2,3,4,5}\n",
    "s2 ={3,4,5,6,7}\n",
    "s1.difference_update(s2)\n",
    "print('s1:',s1)\n",
    "print('s2:',s2)"
   ]
  },
  {
   "cell_type": "markdown",
   "metadata": {},
   "source": [
    "### symmetric_difference/symmetric_difference_update\n"
   ]
  },
  {
   "cell_type": "code",
   "execution_count": 18,
   "metadata": {},
   "outputs": [
    {
     "data": {
      "text/plain": [
       "{1, 2, 6, 7}"
      ]
     },
     "execution_count": 18,
     "metadata": {},
     "output_type": "execute_result"
    }
   ],
   "source": [
    "s1 ={1,2,3,4,5}\n",
    "s2 ={3,4,5,6,7}\n",
    "s1.symmetric_difference(s2)\n",
    "# print('s1:',s1)\n",
    "# print('s2:',s2)"
   ]
  },
  {
   "cell_type": "code",
   "execution_count": 19,
   "metadata": {},
   "outputs": [
    {
     "name": "stdout",
     "output_type": "stream",
     "text": [
      "s1: {1, 2, 6, 7}\n",
      "s2: {3, 4, 5, 6, 7}\n"
     ]
    }
   ],
   "source": [
    "s1 ={1,2,3,4,5}\n",
    "s2 ={3,4,5,6,7}\n",
    "s1.symmetric_difference_update(s2)\n",
    "print('s1:',s1)\n",
    "print('s2:',s2)"
   ]
  },
  {
   "cell_type": "markdown",
   "metadata": {},
   "source": [
    "### isdisjoint/issubset/issuperset\n"
   ]
  },
  {
   "cell_type": "code",
   "execution_count": 21,
   "metadata": {},
   "outputs": [
    {
     "data": {
      "text/plain": [
       "False"
      ]
     },
     "execution_count": 21,
     "metadata": {},
     "output_type": "execute_result"
    }
   ],
   "source": [
    "s1 ={1,2,3,4,5}\n",
    "s2 ={3,4,5,6,7}\n",
    "\n",
    "s1.isdisjoint(s2) # will check if same value present false elase true"
   ]
  },
  {
   "cell_type": "code",
   "execution_count": 22,
   "metadata": {},
   "outputs": [
    {
     "data": {
      "text/plain": [
       "True"
      ]
     },
     "execution_count": 22,
     "metadata": {},
     "output_type": "execute_result"
    }
   ],
   "source": [
    "s1 ={1,2,3,4,5}\n",
    "s2 ={8,9,10,6,7}\n",
    "\n",
    "s1.isdisjoint(s2)"
   ]
  },
  {
   "cell_type": "code",
   "execution_count": 25,
   "metadata": {},
   "outputs": [
    {
     "data": {
      "text/plain": [
       "False"
      ]
     },
     "execution_count": 25,
     "metadata": {},
     "output_type": "execute_result"
    }
   ],
   "source": [
    "s1 ={1,2,3,4,5}\n",
    "s2 ={3,4,5}\n",
    "\n",
    "s1.issubset(s2)"
   ]
  },
  {
   "cell_type": "code",
   "execution_count": 26,
   "metadata": {},
   "outputs": [
    {
     "data": {
      "text/plain": [
       "True"
      ]
     },
     "execution_count": 26,
     "metadata": {},
     "output_type": "execute_result"
    }
   ],
   "source": [
    "s1 = {1,2,3,4,5}\n",
    "s2 = {3,4,5}\n",
    "\n",
    "s2.issubset(s1)"
   ]
  },
  {
   "cell_type": "code",
   "execution_count": 27,
   "metadata": {},
   "outputs": [
    {
     "data": {
      "text/plain": [
       "False"
      ]
     },
     "execution_count": 27,
     "metadata": {},
     "output_type": "execute_result"
    }
   ],
   "source": [
    "s1 = {1,2,3,4,5}\n",
    "s2 = {3,4,5}\n",
    "\n",
    "s2.issuperset(s1)"
   ]
  },
  {
   "cell_type": "code",
   "execution_count": 28,
   "metadata": {},
   "outputs": [
    {
     "data": {
      "text/plain": [
       "True"
      ]
     },
     "execution_count": 28,
     "metadata": {},
     "output_type": "execute_result"
    }
   ],
   "source": [
    "s1 = {1,2,3,4,5}\n",
    "s2 = {3,4,5}\n",
    "\n",
    "s1.issuperset(s2)"
   ]
  },
  {
   "cell_type": "markdown",
   "metadata": {},
   "source": [
    "### copy()"
   ]
  },
  {
   "cell_type": "code",
   "execution_count": 31,
   "metadata": {},
   "outputs": [
    {
     "name": "stdout",
     "output_type": "stream",
     "text": [
      "{1, 2, 3, 4}\n"
     ]
    }
   ],
   "source": [
    "s1 = {1,2,3,4}\n",
    "s2 =s1.copy()\n",
    "print(s2)"
   ]
  },
  {
   "cell_type": "code",
   "execution_count": null,
   "metadata": {},
   "outputs": [],
   "source": []
  }
 ],
 "metadata": {
  "kernelspec": {
   "display_name": "base",
   "language": "python",
   "name": "python3"
  },
  "language_info": {
   "codemirror_mode": {
    "name": "ipython",
    "version": 3
   },
   "file_extension": ".py",
   "mimetype": "text/x-python",
   "name": "python",
   "nbconvert_exporter": "python",
   "pygments_lexer": "ipython3",
   "version": "3.12.4"
  }
 },
 "nbformat": 4,
 "nbformat_minor": 2
}
