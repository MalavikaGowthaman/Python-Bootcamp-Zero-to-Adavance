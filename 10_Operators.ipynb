{
  "nbformat": 4,
  "nbformat_minor": 0,
  "metadata": {
    "colab": {
      "provenance": []
    },
    "kernelspec": {
      "name": "python3",
      "display_name": "Python 3"
    },
    "language_info": {
      "name": "python"
    }
  },
  "cells": [
    {
      "cell_type": "markdown",
      "source": [
        "# **Operators in Python**\n",
        "\n",
        "1. Arithmetic operator -> +,-,*,/,//,%\n",
        "2. Logical operator -> and, or, not\n",
        "3. Bitwise operator --> & -and,| -or, ^ -XOR,\t~\t-NOT,<<\t-Zero fill left shift, >> - Zero fill right shift\n",
        "4. Relational operator/Comparison operator --> ==\tEqual,!=\tNot equal,>\tGreater than,<\tLess than,>=\tGreater than or equal to, <= Less than or equal to\n",
        "5. Assignment operator --> =, +=, -=, *= etc\n",
        "6. Membership operator --> in, not in\n",
        "7. Identity operator --> is , not is"
      ],
      "metadata": {
        "id": "6SY49cS9i4XM"
      }
    },
    {
      "cell_type": "markdown",
      "source": [
        "### 1. Arithmetic operator\n",
        "\n",
        "\n",
        "Operator\t --> Name\n",
        "'+'\t -->           Addition\n",
        "'-'\t -->          Subtraction\n",
        "'*'\t -->           Multiplication\n",
        "\n",
        "'/'\t -->           Division\n",
        "'%'\t -->           Modulus\n",
        "'**' -->          Exponentiation\n",
        "'//'\t-->          Floor division\n"
      ],
      "metadata": {
        "id": "xDuwlAM8lOjH"
      }
    },
    {
      "cell_type": "code",
      "execution_count": 3,
      "metadata": {
        "colab": {
          "base_uri": "https://localhost:8080/"
        },
        "id": "8rwgy3Moiwhw",
        "outputId": "fc2e99c1-9b4d-4274-b39a-00e4f0f7efe0"
      },
      "outputs": [
        {
          "output_type": "stream",
          "name": "stdout",
          "text": [
            "add 8\n",
            "sub 2\n",
            "mul 15\n",
            "div 1.6666666666666667\n",
            "floor div 1\n",
            "mod 2\n",
            "exp 125\n"
          ]
        }
      ],
      "source": [
        "x = 5\n",
        "y = 3\n",
        "# add\n",
        "print('add', x + y)\n",
        "# sub\n",
        "print('sub', x - y)\n",
        "# mul\n",
        "print('mul',x * y)\n",
        "# div\n",
        "print('div', x / y)\n",
        "# floor div\n",
        "print('floor div', x // y)\n",
        "# mod\n",
        "print('mod', x % y)\n",
        "# exp\n",
        "print('exp', x ** y)\n"
      ]
    },
    {
      "cell_type": "markdown",
      "source": [
        "### 2. Logical operator\n",
        "\n",
        "And Gate --> if two gates are open ---> 1\n",
        "\n",
        "Or Gate --> if atleast one gate open ---> 1\n",
        "\n",
        "Not Gate --> if all gates closed ---> 0\n",
        "\n",
        "![Logic-Gates-and-Truth-tables.jpg](data:image/jpeg;base64,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)\n",
        "\n",
        "\n",
        "\n"
      ],
      "metadata": {
        "id": "-vL34jz0i3Px"
      }
    },
    {
      "cell_type": "code",
      "source": [
        "x = 5 # 8421 --> 0101\n",
        "y = 3 # 8421 --> 0011\n",
        "# output --> 0,0,0,1\n",
        "print(x and y) # it will check truthy of x and y, so 1 is the value of output here so it will return y value"
      ],
      "metadata": {
        "colab": {
          "base_uri": "https://localhost:8080/"
        },
        "id": "qx7SD40JlZyg",
        "outputId": "f20c89cf-7175-406f-c1ca-d030413962e8"
      },
      "execution_count": 5,
      "outputs": [
        {
          "output_type": "stream",
          "name": "stdout",
          "text": [
            "3\n"
          ]
        }
      ]
    },
    {
      "cell_type": "code",
      "source": [
        "x = 5 # 8421 --> 0101\n",
        "y = 3 # 8421 --> 0011\n",
        "# output --> 0,0,0,1\n",
        "print(x or y) # it will check truthy of x and y, so 1 is the value of output here so it will return y value"
      ],
      "metadata": {
        "colab": {
          "base_uri": "https://localhost:8080/"
        },
        "id": "eqMFp2M-nZ2_",
        "outputId": "b206d4bb-ad22-462d-9838-65a36c6b123a"
      },
      "execution_count": 6,
      "outputs": [
        {
          "output_type": "stream",
          "name": "stdout",
          "text": [
            "5\n"
          ]
        }
      ]
    },
    {
      "cell_type": "code",
      "source": [
        "x = 5 # 8421 --> 0101\n",
        "y = 3 # 8421 --> 0011\n",
        "# output --> 0,0,0,1\n",
        "print(not(x and y))# it will check truthy of x and y, so 1 is the value of output here so it will return y value"
      ],
      "metadata": {
        "colab": {
          "base_uri": "https://localhost:8080/"
        },
        "id": "6FVB5P42oRFk",
        "outputId": "d887bb42-a122-4c3c-ceff-f3083f355938"
      },
      "execution_count": 10,
      "outputs": [
        {
          "output_type": "stream",
          "name": "stdout",
          "text": [
            "False\n"
          ]
        }
      ]
    },
    {
      "cell_type": "markdown",
      "source": [
        "### 3. Bitwise operator\n",
        "\n",
        "1. '&'  - and,\n",
        "2. '|' -  or,\n",
        "3. '^' -XOR,\n",
        "4. '~'\t-NOT,\n",
        "5. '<<'\t-Zero fill left shift,\n",
        "6. '>>' - Zero fill right shift\n"
      ],
      "metadata": {
        "id": "k_k0TkUdop0p"
      }
    },
    {
      "cell_type": "code",
      "source": [
        "x = 5 # 8421 --> 0101\n",
        "y = 3 # 8421 --> 0011\n",
        "# output --> 0,0,0,1\n",
        "print('XOR', x ^ y)\n",
        "print('And',x & y)\n",
        "print('Or',x | y)\n",
        "print('Right shift',x << y)\n",
        "print('Left shift',x >> y)\n",
        "print('Not',~x)"
      ],
      "metadata": {
        "colab": {
          "base_uri": "https://localhost:8080/"
        },
        "id": "Hppg98mBoVWc",
        "outputId": "1c6cec6f-467b-4d1c-f207-5bdfe592e5a8"
      },
      "execution_count": 15,
      "outputs": [
        {
          "output_type": "stream",
          "name": "stdout",
          "text": [
            "XOR 6\n",
            "And 1\n",
            "Or 7\n",
            "Right shift 40\n",
            "Left shift 0\n",
            "Not -6\n"
          ]
        }
      ]
    },
    {
      "cell_type": "markdown",
      "source": [
        "### 4. Relational operator/Comparison operator\n",
        "\n",
        "1. '=='\tEqual,\n",
        "2. '!='\tNot equal,\n",
        "3. '>'\tGreater than,\n",
        "4. '<'\tLess than,\n",
        "5. '>='\tGreater than or equal to,\n",
        "6. '<=' Less than or equal to"
      ],
      "metadata": {
        "id": "uUsl7xDfplYq"
      }
    },
    {
      "cell_type": "code",
      "source": [
        "x = 5\n",
        "y = 3\n",
        "\n",
        "print(x == y)\n",
        "print(x != y)\n",
        "print(x > y)\n",
        "print(x < y)\n",
        "print(x >= y)\n",
        "print(x <= y)"
      ],
      "metadata": {
        "colab": {
          "base_uri": "https://localhost:8080/"
        },
        "id": "J5Or890XpJLR",
        "outputId": "c909adc2-f248-44e4-d4fa-bcf343876829"
      },
      "execution_count": 16,
      "outputs": [
        {
          "output_type": "stream",
          "name": "stdout",
          "text": [
            "False\n",
            "True\n",
            "True\n",
            "False\n",
            "True\n",
            "False\n"
          ]
        }
      ]
    },
    {
      "cell_type": "markdown",
      "source": [
        "### 5. Assignment operator\n",
        "\n",
        "1.  =,\n",
        "2. +=,\n",
        "3. -=,\n",
        "4. *=,\n",
        "5. /= etc\n"
      ],
      "metadata": {
        "id": "kG9LZ4vpqBVY"
      }
    },
    {
      "cell_type": "code",
      "source": [
        "x = 4\n",
        "y = 3\n",
        "x += y\n",
        "print(x)\n",
        "x -= y\n",
        "print(x)\n",
        "x *= y\n",
        "print(x)\n",
        "x /= y\n",
        "print(x)"
      ],
      "metadata": {
        "colab": {
          "base_uri": "https://localhost:8080/"
        },
        "id": "DP8SDG9Ep9Bo",
        "outputId": "83b8db1e-605b-4ab6-e0c7-280c5f31efda"
      },
      "execution_count": 18,
      "outputs": [
        {
          "output_type": "stream",
          "name": "stdout",
          "text": [
            "7\n",
            "4\n",
            "12\n",
            "4.0\n"
          ]
        }
      ]
    },
    {
      "cell_type": "markdown",
      "source": [
        "### 6. Membership operator\n",
        "\n",
        "in,\n",
        "not in\n"
      ],
      "metadata": {
        "id": "_4Q3taDtqWSD"
      }
    },
    {
      "cell_type": "code",
      "source": [
        "x = 'M' in 'Malavika'\n",
        "print(x)\n",
        "y = 'M' not in 'Malavika'\n",
        "print(y)"
      ],
      "metadata": {
        "colab": {
          "base_uri": "https://localhost:8080/"
        },
        "id": "uiXXUU6AqLpL",
        "outputId": "9dcb6d8f-7a7d-48f4-8533-a441c921ea44"
      },
      "execution_count": 21,
      "outputs": [
        {
          "output_type": "stream",
          "name": "stdout",
          "text": [
            "True\n",
            "False\n"
          ]
        }
      ]
    },
    {
      "cell_type": "markdown",
      "source": [
        "### 7. Identity operator\n",
        "is , is not"
      ],
      "metadata": {
        "id": "jSDgJZobqnPe"
      }
    },
    {
      "cell_type": "code",
      "source": [
        "x = [\"apple\", \"banana\"]\n",
        "y = [\"apple\", \"banana\"]\n",
        "z = x\n",
        "\n",
        "print(x is not z)\n",
        "# returns False because z is the same object as x\n",
        "print(x is not y)\n",
        "# returns True because x is not the same object as y, even if they have the same content\n",
        "print(x != y)\n",
        "# to demonstrate the difference betweeen \"is not\" and \"!=\": this comparison returns False because x is equal to y\n"
      ],
      "metadata": {
        "colab": {
          "base_uri": "https://localhost:8080/"
        },
        "id": "NdHukekDqcoE",
        "outputId": "c3151767-fb16-4af3-faed-38a3fe076f4c"
      },
      "execution_count": 25,
      "outputs": [
        {
          "output_type": "stream",
          "name": "stdout",
          "text": [
            "False\n",
            "True\n",
            "False\n"
          ]
        }
      ]
    },
    {
      "cell_type": "code",
      "source": [
        "345//100"
      ],
      "metadata": {
        "colab": {
          "base_uri": "https://localhost:8080/"
        },
        "id": "CkoPZHL3qs3B",
        "outputId": "5e5e8c86-de27-4ce5-d6f6-c2ad1ac9a0c9"
      },
      "execution_count": 1,
      "outputs": [
        {
          "output_type": "execute_result",
          "data": {
            "text/plain": [
              "3"
            ]
          },
          "metadata": {},
          "execution_count": 1
        }
      ]
    },
    {
      "cell_type": "code",
      "source": [
        "345//10"
      ],
      "metadata": {
        "colab": {
          "base_uri": "https://localhost:8080/"
        },
        "id": "kA5vG2ypkDB_",
        "outputId": "e3e73723-ed15-4ee4-f6ee-0dfb374a2ea7"
      },
      "execution_count": 2,
      "outputs": [
        {
          "output_type": "execute_result",
          "data": {
            "text/plain": [
              "34"
            ]
          },
          "metadata": {},
          "execution_count": 2
        }
      ]
    },
    {
      "cell_type": "code",
      "source": [
        "345%10"
      ],
      "metadata": {
        "colab": {
          "base_uri": "https://localhost:8080/"
        },
        "id": "5UVZK4cqkHSz",
        "outputId": "694eedbc-342e-4c7b-a803-ca512c0ae9b2"
      },
      "execution_count": 3,
      "outputs": [
        {
          "output_type": "execute_result",
          "data": {
            "text/plain": [
              "5"
            ]
          },
          "metadata": {},
          "execution_count": 3
        }
      ]
    },
    {
      "cell_type": "code",
      "source": [
        "34%10"
      ],
      "metadata": {
        "colab": {
          "base_uri": "https://localhost:8080/"
        },
        "id": "yh1jg7lAkLqs",
        "outputId": "e83f934c-e7b3-4633-fd2f-e5f98eb11ff9"
      },
      "execution_count": 4,
      "outputs": [
        {
          "output_type": "execute_result",
          "data": {
            "text/plain": [
              "4"
            ]
          },
          "metadata": {},
          "execution_count": 4
        }
      ]
    },
    {
      "cell_type": "markdown",
      "source": [
        "**Operator Exercise to add three numbers**\n",
        "\n",
        "Steps:\n",
        "\n",
        "1. collect input from user in a single input\n",
        "2. perform using floor and mod operator\n",
        "3. print the result"
      ],
      "metadata": {
        "id": "WA4tgp5LmCvv"
      }
    },
    {
      "cell_type": "code",
      "source": [
        "number = int(input(\"Enter the numbers to add: \"))\n",
        "\n",
        "a = number//100 #floor division will return the first number,\n",
        "#the floor division // rounds the result down to the nearest whole number\n",
        "\n",
        "b = number%10 # mod will return the reminder that is last number\n",
        "x = number//10\n",
        "c = x%10\n",
        "print(a+b+c)"
      ],
      "metadata": {
        "colab": {
          "base_uri": "https://localhost:8080/"
        },
        "id": "6H1vn984kRd5",
        "outputId": "0a6def32-884e-42f3-a017-3b7a4b3ed866"
      },
      "execution_count": 20,
      "outputs": [
        {
          "output_type": "stream",
          "name": "stdout",
          "text": [
            "Enter the numbers to add: 675\n",
            "18\n"
          ]
        }
      ]
    },
    {
      "cell_type": "code",
      "source": [
        "a = number //100\n",
        "a"
      ],
      "metadata": {
        "colab": {
          "base_uri": "https://localhost:8080/"
        },
        "id": "6VCd0bSMkZ6e",
        "outputId": "002055b4-f573-4415-91b3-9aa81cbd22d0"
      },
      "execution_count": 21,
      "outputs": [
        {
          "output_type": "execute_result",
          "data": {
            "text/plain": [
              "6"
            ]
          },
          "metadata": {},
          "execution_count": 21
        }
      ]
    },
    {
      "cell_type": "code",
      "source": [
        "b = number%10\n",
        "b"
      ],
      "metadata": {
        "colab": {
          "base_uri": "https://localhost:8080/"
        },
        "id": "znhn1HnGkkca",
        "outputId": "f8602242-0d33-4f2d-a678-672a3b708983"
      },
      "execution_count": 22,
      "outputs": [
        {
          "output_type": "execute_result",
          "data": {
            "text/plain": [
              "5"
            ]
          },
          "metadata": {},
          "execution_count": 22
        }
      ]
    },
    {
      "cell_type": "code",
      "source": [
        "x = number//10\n",
        "x\n",
        "c = x%10\n",
        "c"
      ],
      "metadata": {
        "colab": {
          "base_uri": "https://localhost:8080/"
        },
        "id": "zjtlT-Jmkpth",
        "outputId": "8e7a4790-dc41-4a49-a3f7-c4c704e159af"
      },
      "execution_count": 23,
      "outputs": [
        {
          "output_type": "execute_result",
          "data": {
            "text/plain": [
              "7"
            ]
          },
          "metadata": {},
          "execution_count": 23
        }
      ]
    },
    {
      "cell_type": "code",
      "source": [],
      "metadata": {
        "id": "d7wqejlUktg6"
      },
      "execution_count": null,
      "outputs": []
    }
  ]
}