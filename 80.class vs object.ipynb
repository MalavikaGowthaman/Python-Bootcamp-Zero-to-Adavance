{
 "cells": [
  {
   "cell_type": "markdown",
   "metadata": {},
   "source": [
    "## Class vs Object in OOP\n",
    "\n",
    "\n",
    "#### class - is a blueprint\n",
    "\n",
    "list(), str(), mobile()\n",
    "\n",
    "\n",
    "#### object - is instance of class\n",
    "\n",
    "L = list(), s= str(), samsung = mobile()\n",
    "\n",
    "L,s,samsumg is a object\n",
    "\n",
    "\n"
   ]
  },
  {
   "cell_type": "code",
   "execution_count": null,
   "metadata": {},
   "outputs": [],
   "source": [
    "# syntax\n",
    "\n",
    "# objectname = class"
   ]
  },
  {
   "cell_type": "markdown",
   "metadata": {},
   "source": [
    "## class \n",
    "\n",
    "contains \n",
    "\n",
    "-- data/property\n",
    "\n",
    "-- functions/behaviour"
   ]
  },
  {
   "cell_type": "markdown",
   "metadata": {},
   "source": [
    "sample code"
   ]
  },
  {
   "cell_type": "code",
   "execution_count": null,
   "metadata": {},
   "outputs": [],
   "source": [
    "class car():\n",
    "    # data/property\n",
    "    color = \"red\"\n",
    "    model = \"sports\"\n",
    "     # functions/behaviour\n",
    "    def calculate_avg_speed(km,time):\n",
    "        #codes\n",
    "       "
   ]
  },
  {
   "cell_type": "markdown",
   "metadata": {},
   "source": [
    "## Object"
   ]
  },
  {
   "cell_type": "code",
   "execution_count": null,
   "metadata": {},
   "outputs": [],
   "source": [
    "tata = car() # tata is an object"
   ]
  },
  {
   "cell_type": "code",
   "execution_count": null,
   "metadata": {},
   "outputs": [],
   "source": []
  }
 ],
 "metadata": {
  "language_info": {
   "name": "python"
  }
 },
 "nbformat": 4,
 "nbformat_minor": 2
}
