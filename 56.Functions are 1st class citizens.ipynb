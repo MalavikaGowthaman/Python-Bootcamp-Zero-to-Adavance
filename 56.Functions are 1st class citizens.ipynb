{
 "cells": [
  {
   "cell_type": "markdown",
   "metadata": {},
   "source": [
    "\n",
    "### Functions are 1st class citizens\n",
    "\n",
    "It acts like data types\n",
    "\n",
    "https://en.wikipedia.org/wiki/First-class_citizen"
   ]
  },
  {
   "cell_type": "code",
   "execution_count": 4,
   "metadata": {},
   "outputs": [
    {
     "name": "stdout",
     "output_type": "stream",
     "text": [
      "<class 'function'>\n",
      "2232648053312\n"
     ]
    }
   ],
   "source": [
    "# type and id\n",
    "\n",
    "def square(num):\n",
    "    return num **2\n",
    "\n",
    "x = square # square function will get store in a x var\n",
    "print(type(x)) # this holds the type of x \n",
    "print(id(x))"
   ]
  },
  {
   "cell_type": "code",
   "execution_count": 3,
   "metadata": {},
   "outputs": [
    {
     "name": "stdout",
     "output_type": "stream",
     "text": [
      "9\n"
     ]
    }
   ],
   "source": [
    "print(x(3)) # x contains the square function so it will perfomr the operation"
   ]
  },
  {
   "cell_type": "code",
   "execution_count": 7,
   "metadata": {},
   "outputs": [
    {
     "name": "stdout",
     "output_type": "stream",
     "text": [
      "2232648053312\n",
      "16\n"
     ]
    }
   ],
   "source": [
    "# reassign\n",
    "\n",
    "x = square\n",
    "print(id(x))\n",
    "print(x(4))"
   ]
  },
  {
   "cell_type": "code",
   "execution_count": 8,
   "metadata": {},
   "outputs": [
    {
     "ename": "NameError",
     "evalue": "name 'square' is not defined",
     "output_type": "error",
     "traceback": [
      "\u001b[1;31m---------------------------------------------------------------------------\u001b[0m",
      "\u001b[1;31mNameError\u001b[0m                                 Traceback (most recent call last)",
      "Cell \u001b[1;32mIn[8], line 4\u001b[0m\n\u001b[0;32m      1\u001b[0m \u001b[38;5;66;03m# deleting a function\u001b[39;00m\n\u001b[0;32m      3\u001b[0m \u001b[38;5;28;01mdel\u001b[39;00m square\n\u001b[1;32m----> 4\u001b[0m \u001b[38;5;28mprint\u001b[39m(square)\n",
      "\u001b[1;31mNameError\u001b[0m: name 'square' is not defined"
     ]
    }
   ],
   "source": [
    "# deleting a function\n",
    "del square\n",
    "print(square) # already deleted"
   ]
  },
  {
   "cell_type": "code",
   "execution_count": 13,
   "metadata": {},
   "outputs": [
    {
     "data": {
      "text/plain": [
       "64"
      ]
     },
     "execution_count": 13,
     "metadata": {},
     "output_type": "execute_result"
    }
   ],
   "source": [
    "x(8)"
   ]
  },
  {
   "cell_type": "code",
   "execution_count": 16,
   "metadata": {},
   "outputs": [
    {
     "data": {
      "text/plain": [
       "100"
      ]
     },
     "execution_count": 16,
     "metadata": {},
     "output_type": "execute_result"
    }
   ],
   "source": [
    "# storing --> can also store the function in list\n",
    "\n",
    "L = [1,2,3,4,x] # x stores the squ func\n",
    "L[-1](10) # accessing x func and giving 10 as an input"
   ]
  },
  {
   "cell_type": "code",
   "execution_count": 18,
   "metadata": {},
   "outputs": [
    {
     "data": {
      "text/plain": [
       "{<function __main__.square(num)>}"
      ]
     },
     "execution_count": 18,
     "metadata": {},
     "output_type": "execute_result"
    }
   ],
   "source": [
    "## function is an immutable\n",
    "s = {x}\n",
    "s"
   ]
  },
  {
   "cell_type": "code",
   "execution_count": 21,
   "metadata": {},
   "outputs": [
    {
     "data": {
      "text/plain": [
       "3"
      ]
     },
     "execution_count": 21,
     "metadata": {},
     "output_type": "execute_result"
    }
   ],
   "source": [
    "# returning a function\n",
    "\n",
    "def f():\n",
    "    def g(a,b):\n",
    "        return a + b\n",
    "    return g\n",
    "\n",
    "val = f()\n",
    "val(1,2)"
   ]
  },
  {
   "cell_type": "code",
   "execution_count": 22,
   "metadata": {},
   "outputs": [
    {
     "name": "stdout",
     "output_type": "stream",
     "text": [
      "20\n"
     ]
    }
   ],
   "source": [
    "def f():\n",
    "    def g(a,b):\n",
    "        return a + b\n",
    "    return g\n",
    "\n",
    "val = f()(10,10)\n",
    "print(val)\n"
   ]
  },
  {
   "cell_type": "code",
   "execution_count": 26,
   "metadata": {},
   "outputs": [
    {
     "name": "stdout",
     "output_type": "stream",
     "text": [
      "Inside funciton b\n",
      "Inside function a\n",
      "None\n"
     ]
    }
   ],
   "source": [
    "# function as arguments\n",
    "\n",
    "def func_a():\n",
    "    print(\"Inside function a\")\n",
    "\n",
    "def func_b(z):\n",
    "    print(\"Inside funciton b\")\n",
    "    return z()\n",
    "\n",
    "print(func_b(func_a))\n",
    "    "
   ]
  },
  {
   "cell_type": "code",
   "execution_count": null,
   "metadata": {},
   "outputs": [],
   "source": []
  }
 ],
 "metadata": {
  "kernelspec": {
   "display_name": "base",
   "language": "python",
   "name": "python3"
  },
  "language_info": {
   "codemirror_mode": {
    "name": "ipython",
    "version": 3
   },
   "file_extension": ".py",
   "mimetype": "text/x-python",
   "name": "python",
   "nbconvert_exporter": "python",
   "pygments_lexer": "ipython3",
   "version": "3.12.4"
  }
 },
 "nbformat": 4,
 "nbformat_minor": 2
}
