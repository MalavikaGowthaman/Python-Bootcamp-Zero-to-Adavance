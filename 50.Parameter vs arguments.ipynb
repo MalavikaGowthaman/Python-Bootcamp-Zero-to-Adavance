{
 "cells": [
  {
   "cell_type": "code",
   "execution_count": 1,
   "metadata": {},
   "outputs": [
    {
     "name": "stdout",
     "output_type": "stream",
     "text": [
      "The Entered number is 78 and it is an Even number\n"
     ]
    }
   ],
   "source": [
    "### to give some details about the function\n",
    "\n",
    "def odd_even(num): # num is an parameter (i.e) passsing input in an fun (parameter)\n",
    "    \n",
    "    \"\"\" This function will help to get an odd or even number.\n",
    "    Input : Enter an input as number / integer\n",
    "    Output : Odd number/Even number\n",
    "    Created by - Malavika \"\"\"\n",
    "    \n",
    "    if type(num) == int:\n",
    "        if num %2 ==0:\n",
    "            print(f\"The Entered number is {num} and it is an Even number\")\n",
    "        else:\n",
    "            print(f\"The Entered number is {num} and it is an Odd number\")\n",
    "    else:\n",
    "        print('Wrong input')\n",
    "        \n",
    "        \n",
    "# function call\n",
    "\n",
    "odd_even(78) # value passed inside a function call is arguments\n"
   ]
  },
  {
   "cell_type": "markdown",
   "metadata": {},
   "source": [
    "###  Types of Arguments\n",
    "\n",
    "- Default Argument\n",
    "\n",
    "- Positional Argument\n",
    "\n",
    "- Keyword Argument"
   ]
  },
  {
   "cell_type": "code",
   "execution_count": 13,
   "metadata": {},
   "outputs": [
    {
     "data": {
      "text/plain": [
       "8"
      ]
     },
     "execution_count": 13,
     "metadata": {},
     "output_type": "execute_result"
    }
   ],
   "source": [
    "def power(a,b):\n",
    "    return a ** b\n",
    "\n",
    "power(2,3)"
   ]
  },
  {
   "cell_type": "code",
   "execution_count": 12,
   "metadata": {},
   "outputs": [
    {
     "data": {
      "text/plain": [
       "8"
      ]
     },
     "execution_count": 12,
     "metadata": {},
     "output_type": "execute_result"
    }
   ],
   "source": [
    "# default parameter\n",
    "\n",
    "def power(a= 2, b = 3):\n",
    "    return a ** b\n",
    "\n",
    "power() # already we assigned the default value in power so it will take that as input"
   ]
  },
  {
   "cell_type": "code",
   "execution_count": 16,
   "metadata": {},
   "outputs": [
    {
     "data": {
      "text/plain": [
       "8"
      ]
     },
     "execution_count": 16,
     "metadata": {},
     "output_type": "execute_result"
    }
   ],
   "source": [
    "# default parameter\n",
    "\n",
    "def power(a= 2, b = 3):\n",
    "    return a ** b\n",
    "\n",
    "power(2,3) "
   ]
  },
  {
   "cell_type": "code",
   "execution_count": 7,
   "metadata": {},
   "outputs": [
    {
     "data": {
      "text/plain": [
       "27"
      ]
     },
     "execution_count": 7,
     "metadata": {},
     "output_type": "execute_result"
    }
   ],
   "source": [
    "# Positional Argument\n",
    "\n",
    "def power(a= 2, b = 3):\n",
    "    return a ** b\n",
    "\n",
    "power(3)  # now one arguemnts is passsed it will consider a = 3 and b =3"
   ]
  },
  {
   "cell_type": "code",
   "execution_count": 14,
   "metadata": {},
   "outputs": [
    {
     "data": {
      "text/plain": [
       "1024"
      ]
     },
     "execution_count": 14,
     "metadata": {},
     "output_type": "execute_result"
    }
   ],
   "source": [
    "#Keyword Argument\n",
    "\n",
    "def power(a= 2, b = 3):\n",
    "    return a ** b\n",
    "\n",
    "power(b = 10) # it will consider b value as assigned"
   ]
  },
  {
   "cell_type": "code",
   "execution_count": 17,
   "metadata": {},
   "outputs": [
    {
     "data": {
      "text/plain": [
       "9765625"
      ]
     },
     "execution_count": 17,
     "metadata": {},
     "output_type": "execute_result"
    }
   ],
   "source": [
    "def power(a= 2, b = 3):\n",
    "    return a ** b\n",
    "\n",
    "power(a = 5 ,b = 10)"
   ]
  }
 ],
 "metadata": {
  "kernelspec": {
   "display_name": "base",
   "language": "python",
   "name": "python3"
  },
  "language_info": {
   "codemirror_mode": {
    "name": "ipython",
    "version": 3
   },
   "file_extension": ".py",
   "mimetype": "text/x-python",
   "name": "python",
   "nbconvert_exporter": "python",
   "pygments_lexer": "ipython3",
   "version": "3.12.4"
  }
 },
 "nbformat": 4,
 "nbformat_minor": 2
}
