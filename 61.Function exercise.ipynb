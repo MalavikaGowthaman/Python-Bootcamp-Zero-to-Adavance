{
 "cells": [
  {
   "cell_type": "markdown",
   "metadata": {},
   "source": [
    "### Problem-1: Write a Python function that takes a list and returns a new list with unique elements of the first list.\n",
    "\n",
    "Example:\n",
    "\n",
    "Input:\n",
    "\n",
    "[1,2,3,3,3,3,4,5]\n",
    "\n",
    "Output:\n",
    "\n",
    "[1, 2, 3, 4, 5]\n"
   ]
  },
  {
   "cell_type": "code",
   "execution_count": 2,
   "metadata": {},
   "outputs": [
    {
     "data": {
      "text/plain": [
       "[1, 2, 3, 4, 5]"
      ]
     },
     "execution_count": 2,
     "metadata": {},
     "output_type": "execute_result"
    }
   ],
   "source": [
    "def unique(L):\n",
    "    result = []\n",
    "    for i in L:\n",
    "        if i not in result:\n",
    "            result.append(i)\n",
    "    return result\n",
    "\n",
    "L = [1,2,3,3,3,3,4,5]\n",
    "unique(L)\n",
    "            "
   ]
  },
  {
   "cell_type": "markdown",
   "metadata": {},
   "source": [
    "### Problem-2: Write a Python function that accepts a hyphen-separated sequence of words as parameter and returns the words in a hyphen-separated sequence after sorting them alphabetically.\n",
    "\n",
    "Example:\n",
    "\n",
    "Input:\n",
    "\n",
    "green-red-yellow-black-white\n",
    "\n",
    "Output:\n",
    "\n",
    "black-green-red-white-yellow"
   ]
  },
  {
   "cell_type": "code",
   "execution_count": 4,
   "metadata": {},
   "outputs": [
    {
     "data": {
      "text/plain": [
       "['black', 'green', 'red', 'white', 'yellow']"
      ]
     },
     "execution_count": 4,
     "metadata": {},
     "output_type": "execute_result"
    }
   ],
   "source": [
    "string = \"green-red-yellow-black-white\"\n",
    "sorted(string.split('-'))\n"
   ]
  },
  {
   "cell_type": "code",
   "execution_count": 7,
   "metadata": {},
   "outputs": [
    {
     "name": "stdout",
     "output_type": "stream",
     "text": [
      "black-green-red-white-yellow\n"
     ]
    }
   ],
   "source": [
    "def hyphen_separated_seq(string):\n",
    "    temp = []\n",
    "    for i in sorted(string.split('-')):\n",
    "        temp.append(i)\n",
    "    return \"-\".join(temp)\n",
    "\n",
    "\n",
    "string = \"green-red-yellow-black-white\"\n",
    "output = hyphen_separated_seq(string)    \n",
    "print(output)\n"
   ]
  },
  {
   "cell_type": "markdown",
   "metadata": {},
   "source": [
    "### Problem 3- A dictionary contains following information about 5 employees:\n",
    "\n",
    "First name\n",
    "\n",
    "Last name\n",
    "\n",
    "Age\n",
    "\n",
    "Grade(Skilled,Semi-skilled,Highly skilled)\n",
    "\n",
    "Write a program using map/filter/reduce to a list of employees(first name + last name) who are highly skilled"
   ]
  },
  {
   "cell_type": "code",
   "execution_count": 8,
   "metadata": {},
   "outputs": [],
   "source": [
    "employees = [\n",
    "    {\n",
    "        'fname':'Malavika',\n",
    "        'lname':'Gowthaman',\n",
    "        'age' : 26,\n",
    "        'grade':'skilled'\n",
    "    },\n",
    "    {\n",
    "        'fname':'Alex',\n",
    "        'lname':'Musk',\n",
    "        'age' : 34,\n",
    "        'grade':'semi-skilled'\n",
    "    },\n",
    "    {\n",
    "        'fname':'Bunny',\n",
    "        'lname':'Singh',\n",
    "        'age' : 35,\n",
    "        'grade':'highly-skilled'\n",
    "    },\n",
    "    {\n",
    "        'fname':'Anurag',\n",
    "        'lname':'Kumar',\n",
    "        'age' : 30,\n",
    "        'grade':'skilled'\n",
    "    },\n",
    "    {\n",
    "        'fname':'Abhinav',\n",
    "        'lname':'Sharma',\n",
    "        'age' : 37,\n",
    "        'grade':'highly-skilled'\n",
    "    }\n",
    "    \n",
    "]"
   ]
  },
  {
   "cell_type": "code",
   "execution_count": 15,
   "metadata": {},
   "outputs": [
    {
     "data": {
      "text/plain": [
       "[{'fname': 'Bunny', 'lname': 'Singh', 'age': 35, 'grade': 'highly-skilled'},\n",
       " {'fname': 'Abhinav', 'lname': 'Sharma', 'age': 37, 'grade': 'highly-skilled'}]"
      ]
     },
     "execution_count": 15,
     "metadata": {},
     "output_type": "execute_result"
    }
   ],
   "source": [
    "skilled_names = list(filter(lambda x : True if x['grade'] == 'highly-skilled' else False, employees))\n",
    "skilled_names"
   ]
  },
  {
   "cell_type": "code",
   "execution_count": 17,
   "metadata": {},
   "outputs": [
    {
     "data": {
      "text/plain": [
       "['Malavika Gowthaman',\n",
       " 'Alex Musk',\n",
       " 'Bunny Singh',\n",
       " 'Anurag Kumar',\n",
       " 'Abhinav Sharma']"
      ]
     },
     "execution_count": 17,
     "metadata": {},
     "output_type": "execute_result"
    }
   ],
   "source": [
    "list(map(lambda x:x['fname'] + \" \" + x['lname'],employees))\n",
    "names_alonenames_alone = \n"
   ]
  },
  {
   "cell_type": "code",
   "execution_count": 21,
   "metadata": {},
   "outputs": [
    {
     "data": {
      "text/plain": [
       "['Bunny Singh', 'Abhinav Sharma']"
      ]
     },
     "execution_count": 21,
     "metadata": {},
     "output_type": "execute_result"
    }
   ],
   "source": [
    "high_skilled_names = list(map(lambda x:x['fname'] + \" \" + x['lname'], list(filter(lambda x: True if x['grade'] == \"highly-skilled\" else False,employees))))\n",
    "\n",
    "high_skilled_names"
   ]
  },
  {
   "cell_type": "code",
   "execution_count": null,
   "metadata": {},
   "outputs": [],
   "source": []
  }
 ],
 "metadata": {
  "kernelspec": {
   "display_name": "base",
   "language": "python",
   "name": "python3"
  },
  "language_info": {
   "codemirror_mode": {
    "name": "ipython",
    "version": 3
   },
   "file_extension": ".py",
   "mimetype": "text/x-python",
   "name": "python",
   "nbconvert_exporter": "python",
   "pygments_lexer": "ipython3",
   "version": "3.12.4"
  }
 },
 "nbformat": 4,
 "nbformat_minor": 2
}
