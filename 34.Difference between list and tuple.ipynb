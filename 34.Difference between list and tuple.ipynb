{
 "cells": [
  {
   "cell_type": "markdown",
   "metadata": {},
   "source": [
    "### Difference between Lists and Tuples\n",
    "\n",
    "* Syntax\n",
    "\n",
    "* Mutability\n",
    "\n",
    "* Speed\n",
    "\n",
    "* Memory\n",
    "\n",
    "* Built in functionality\n",
    "\n",
    "* Error prone\n",
    "\n",
    "* Usability"
   ]
  },
  {
   "cell_type": "markdown",
   "metadata": {},
   "source": [
    "## List \n",
    "\n",
    "* Syntax - []\n",
    "\n",
    "* Mutability - Mutable\n",
    "\n",
    "* Speed - lesser then tuple because its mutable it will occupy more space and speed is less\n",
    "\n",
    "* Memory - need more memory space than tuple\n",
    "\n",
    "* Built in functionality - more built in functions are there \n",
    "\n",
    "* Error prone - not an error prone \n",
    "\n",
    "* Usability - easy to use "
   ]
  },
  {
   "cell_type": "markdown",
   "metadata": {},
   "source": [
    "## Tuple\n",
    "\n",
    "* Syntax - ()\n",
    "\n",
    "* Mutability - immutable\n",
    "\n",
    "* Speed - faster then list because its immutable it will occupy less space and speed is fast\n",
    "\n",
    "* Memory - need less memory space than list\n",
    "\n",
    "* Built in functionality - less built in functions are there \n",
    "\n",
    "* Error prone - error prone \n",
    "\n",
    "* Usability - easy to use "
   ]
  },
  {
   "cell_type": "code",
   "execution_count": 5,
   "metadata": {},
   "outputs": [
    {
     "name": "stdout",
     "output_type": "stream",
     "text": [
      "List space 1656\n",
      "Tuple space 1640\n"
     ]
    }
   ],
   "source": [
    "import sys\n",
    "\n",
    "l = list(range(200))\n",
    "t = tuple(range(200))\n",
    "\n",
    "print(\"List space\",sys.getsizeof(l))\n",
    "print(\"Tuple space\",sys.getsizeof(t))"
   ]
  },
  {
   "cell_type": "markdown",
   "metadata": {},
   "source": [
    "Error prone eg"
   ]
  },
  {
   "cell_type": "code",
   "execution_count": 6,
   "metadata": {},
   "outputs": [
    {
     "name": "stdout",
     "output_type": "stream",
     "text": [
      "[1, 2, 3, 4, 100]\n",
      "[1, 2, 3, 4, 100]\n"
     ]
    }
   ],
   "source": [
    "a = [1,2,3,4]\n",
    "b = a\n",
    "\n",
    "a.append(100)\n",
    "\n",
    "print(a)\n",
    "print(b)"
   ]
  },
  {
   "cell_type": "code",
   "execution_count": 11,
   "metadata": {},
   "outputs": [
    {
     "name": "stdout",
     "output_type": "stream",
     "text": [
      "a = (1, 2, 3, 4, 1000)\n",
      "b = (1, 2, 3, 4)\n"
     ]
    }
   ],
   "source": [
    "a = (1,2,3,4)\n",
    "b = a\n",
    "\n",
    "a = a+(1000,)\n",
    "print(\"a =\",a)\n",
    "print(\"b =\",b)"
   ]
  },
  {
   "cell_type": "code",
   "execution_count": null,
   "metadata": {},
   "outputs": [],
   "source": []
  }
 ],
 "metadata": {
  "kernelspec": {
   "display_name": "base",
   "language": "python",
   "name": "python3"
  },
  "language_info": {
   "codemirror_mode": {
    "name": "ipython",
    "version": 3
   },
   "file_extension": ".py",
   "mimetype": "text/x-python",
   "name": "python",
   "nbconvert_exporter": "python",
   "pygments_lexer": "ipython3",
   "version": "3.12.4"
  }
 },
 "nbformat": 4,
 "nbformat_minor": 2
}
