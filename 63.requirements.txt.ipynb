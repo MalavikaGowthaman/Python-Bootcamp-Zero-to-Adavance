{
 "cells": [
  {
   "cell_type": "markdown",
   "metadata": {},
   "source": [
    "#### to install many packges\n",
    "\n",
    "#### need to mention all the package name in txt file\n",
    "#### eg \n",
    "\n",
    "pandas\n",
    "\n",
    "numpy\n",
    "\n",
    "sklearn\n",
    "\n",
    "matplotlib\n",
    "\n",
    "streamlit\n",
    "\n",
    "\n",
    "#### to to execute the command\n",
    "\n",
    "pip install -r requirements.txt"
   ]
  }
 ],
 "metadata": {
  "language_info": {
   "name": "python"
  }
 },
 "nbformat": 4,
 "nbformat_minor": 2
}
