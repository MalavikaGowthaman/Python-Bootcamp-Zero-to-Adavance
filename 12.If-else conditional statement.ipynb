{
 "cells": [
  {
   "cell_type": "code",
   "execution_count": 1,
   "metadata": {},
   "outputs": [
    {
     "name": "stdout",
     "output_type": "stream",
     "text": [
      "hello\n"
     ]
    }
   ],
   "source": [
    "print('hello')"
   ]
  },
  {
   "cell_type": "markdown",
   "metadata": {},
   "source": [
    "### Facebook login example\n",
    "\n",
    "-- user should enter input email and password\n",
    "\n",
    "-- if both are correct login success\n",
    "\n",
    "-- if not correct login unsuccessfull\n",
    "\n",
    "#### Syntax\n",
    "\n",
    "if <condition>:\n",
    "\n",
    "    write something\n",
    "\n",
    "else:\n",
    "\n",
    "    write something"
   ]
  },
  {
   "cell_type": "code",
   "execution_count": 7,
   "metadata": {},
   "outputs": [
    {
     "data": {
      "text/plain": [
       "'email : malavikag115@gmail.com\\npassword: 12345'"
      ]
     },
     "execution_count": 7,
     "metadata": {},
     "output_type": "execute_result"
    }
   ],
   "source": [
    "# Login details for facebook\n",
    "\n",
    "\"\"\"email : malavikag115@gmail.com\n",
    "password: 12345\"\"\""
   ]
  },
  {
   "cell_type": "markdown",
   "metadata": {},
   "source": [
    "#### If condition\n",
    "\n",
    "-- if the given condition is correct print the output"
   ]
  },
  {
   "cell_type": "code",
   "execution_count": null,
   "metadata": {},
   "outputs": [],
   "source": [
    "email = input(\"Enter your email: \")\n",
    "password = input(\"Enter your password: \")\n",
    "\n",
    "if email == 'malavikag115@gmail.com' and password == '12345':\n",
    "    print(\"Login Sucessfull\") "
   ]
  },
  {
   "cell_type": "markdown",
   "metadata": {},
   "source": [
    "#### If else condition\n",
    "\n",
    "-- if the given condition is correct print the output or else print the else output"
   ]
  },
  {
   "cell_type": "code",
   "execution_count": null,
   "metadata": {},
   "outputs": [],
   "source": [
    "email = input(\"Enter your email: \")\n",
    "password = input(\"Enter your password: \")\n",
    "\n",
    "if email == 'malavikag115@gmail.com' and password == '12345':\n",
    "    print(\"Login Sucessfull\") \n",
    "else:\n",
    "    print(\"Login Unsucessfull\")"
   ]
  },
  {
   "cell_type": "markdown",
   "metadata": {},
   "source": [
    "#### if elif else\n",
    "\n",
    "-- if the given condition is correct print the statement or else check the elif or else and print the result"
   ]
  },
  {
   "cell_type": "code",
   "execution_count": 8,
   "metadata": {},
   "outputs": [
    {
     "name": "stdout",
     "output_type": "stream",
     "text": [
      "Your Password is wrong\n"
     ]
    }
   ],
   "source": [
    "email = input(\"Enter your email: \")\n",
    "password = input(\"Enter your password: \")\n",
    "\n",
    "if email == 'malavikag115@gmail.com' and password == '12345':\n",
    "    print(\"Login Sucessfull\") \n",
    "\n",
    "elif email =='malavikag115@gmail.com' and password != '12345':\n",
    "    print('Your Password is wrong')\n",
    "    \n",
    "else:\n",
    "    print(\"Login Unsucessfull\")"
   ]
  },
  {
   "cell_type": "markdown",
   "metadata": {},
   "source": [
    "#### Nested condition\n",
    "\n",
    "-- if \n",
    "elif\n",
    "\n",
    "if\n",
    "else\n",
    "\n",
    "elif\n",
    "\n",
    "if \n",
    "else\n",
    "\n",
    "else\n"
   ]
  },
  {
   "cell_type": "code",
   "execution_count": 9,
   "metadata": {},
   "outputs": [
    {
     "name": "stdout",
     "output_type": "stream",
     "text": [
      "Your Password is wrong\n",
      "Correct password, Login Successfull\n"
     ]
    }
   ],
   "source": [
    "email = input(\"Enter your email: \")\n",
    "password = input(\"Enter your password: \")\n",
    "\n",
    "if email == 'malavikag115@gmail.com' and password == '12345':\n",
    "    print(\"Login Sucessfull\") \n",
    "\n",
    "elif email =='malavikag115@gmail.com' and password != '12345':\n",
    "    print('Your Password is wrong')\n",
    "    \n",
    "    password = input(\"Enter the correct password: \")\n",
    "    if password == '12345':\n",
    "        print(\"Correct password, Login Successfull\")\n",
    "    else:\n",
    "        print(\"Wrong password\")\n",
    "    \n",
    "else:\n",
    "    print(\"Login Unsucessfull\")"
   ]
  },
  {
   "cell_type": "code",
   "execution_count": 10,
   "metadata": {},
   "outputs": [
    {
     "name": "stdout",
     "output_type": "stream",
     "text": [
      "Your have entered a Wrong email\n",
      "Entered details are correct. Login in successfull\n"
     ]
    }
   ],
   "source": [
    "email = input(\"Enter your email: \")\n",
    "password = input(\"Enter your password: \")\n",
    "\n",
    "if email == 'malavikag115@gmail.com' and password == '12345':\n",
    "    print(\"Login Sucessfull\") \n",
    "\n",
    "elif email != 'malavikag115@gmail.com' and password =='12345':\n",
    "    print('Your have entered a Wrong email')\n",
    "\n",
    "    email = input(\"Please enter your correct email: \")\n",
    "    if email == 'malavikag115@gmail.com':\n",
    "        print('Entered details are correct. Login in successfull')\n",
    "    else:\n",
    "        print(\"Wrong email address\")\n",
    "\n",
    "elif email =='malavikag115@gmail.com' and password != '12345':\n",
    "    print('Your Password is wrong')\n",
    "    \n",
    "    password = input(\"Enter the correct password: \")\n",
    "    if password == '12345':\n",
    "        print(\"Correct password, Login Successfull\")\n",
    "    else:\n",
    "        print(\"Wrong password\")\n",
    "    \n",
    "else:\n",
    "    print(\"Login Unsucessfull\")"
   ]
  },
  {
   "cell_type": "code",
   "execution_count": null,
   "metadata": {},
   "outputs": [],
   "source": []
  }
 ],
 "metadata": {
  "kernelspec": {
   "display_name": "Python 3",
   "language": "python",
   "name": "python3"
  },
  "language_info": {
   "codemirror_mode": {
    "name": "ipython",
    "version": 3
   },
   "file_extension": ".py",
   "mimetype": "text/x-python",
   "name": "python",
   "nbconvert_exporter": "python",
   "pygments_lexer": "ipython3",
   "version": "3.12.4"
  }
 },
 "nbformat": 4,
 "nbformat_minor": 2
}
