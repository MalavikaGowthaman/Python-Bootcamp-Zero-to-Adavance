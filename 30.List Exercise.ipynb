{
 "cells": [
  {
   "cell_type": "markdown",
   "metadata": {},
   "source": [
    "### Exercise  - 1. Update no of items available\n"
   ]
  },
  {
   "cell_type": "code",
   "execution_count": 3,
   "metadata": {},
   "outputs": [
    {
     "name": "stdout",
     "output_type": "stream",
     "text": [
      "Audi = 10\n",
      "BMW = 3\n",
      "Ceyana = 5\n",
      "Nissan = 8\n",
      "Kia = 9\n"
     ]
    }
   ],
   "source": [
    "car_names =['Audi','BMW', 'Ceyana','Nissan','Kia']\n",
    "no_of_items =[10,3,5,8,9]\n",
    "\n",
    "for i,j in zip(car_names,no_of_items):\n",
    "    print(f\"{i} = {j}\")"
   ]
  },
  {
   "cell_type": "code",
   "execution_count": 6,
   "metadata": {},
   "outputs": [
    {
     "data": {
      "text/plain": [
       "['Audi = 10', 'BMW = 3', 'Ceyana = 5', 'Nissan = 8', 'Kia = 9']"
      ]
     },
     "execution_count": 6,
     "metadata": {},
     "output_type": "execute_result"
    }
   ],
   "source": [
    "car_names =['Audi','BMW', 'Ceyana','Nissan','Kia']\n",
    "no_of_items =[10,3,5,8,9]\n",
    "\n",
    "LC= [f\"{i} = {j}\" for i,j in zip(car_names,no_of_items)]\n",
    "LC\n",
    "    # print(f\"{i} = {j}\")"
   ]
  },
  {
   "cell_type": "code",
   "execution_count": 22,
   "metadata": {},
   "outputs": [
    {
     "name": "stdout",
     "output_type": "stream",
     "text": [
      "[22, 20, 16, 10, 23]\n"
     ]
    }
   ],
   "source": [
    "l = [2,4,6,10,1]\n",
    "\n",
    "result =[]\n",
    "for i in l:\n",
    "    output =0\n",
    "    for j in l:\n",
    "        if i<=j:\n",
    "            output =output +j\n",
    "    result.append(output)\n",
    "print(result)"
   ]
  },
  {
   "cell_type": "code",
   "execution_count": 26,
   "metadata": {},
   "outputs": [
    {
     "name": "stdout",
     "output_type": "stream",
     "text": [
      "[3, 4, 5]\n"
     ]
    }
   ],
   "source": [
    "l = [1,2,3,4,5]\n",
    "l2 = [3,4,5,6,7]\n",
    "common=[]\n",
    "for i in l:\n",
    "    if i in l2:\n",
    "        if i not in common:\n",
    "            common.append(i)\n",
    "print(common)"
   ]
  },
  {
   "cell_type": "code",
   "execution_count": 30,
   "metadata": {},
   "outputs": [
    {
     "name": "stdout",
     "output_type": "stream",
     "text": [
      "[3, 4, 5]\n"
     ]
    }
   ],
   "source": [
    "l = [1,2,3,4,5]\n",
    "l2 = [3,4,5,6,7]\n",
    "L = []\n",
    "for i in l:\n",
    "    if i in l2:\n",
    "        L.append(i)\n",
    "print(L)"
   ]
  },
  {
   "cell_type": "code",
   "execution_count": null,
   "metadata": {},
   "outputs": [],
   "source": []
  }
 ],
 "metadata": {
  "kernelspec": {
   "display_name": "base",
   "language": "python",
   "name": "python3"
  },
  "language_info": {
   "codemirror_mode": {
    "name": "ipython",
    "version": 3
   },
   "file_extension": ".py",
   "mimetype": "text/x-python",
   "name": "python",
   "nbconvert_exporter": "python",
   "pygments_lexer": "ipython3",
   "version": "3.12.4"
  }
 },
 "nbformat": 4,
 "nbformat_minor": 2
}
