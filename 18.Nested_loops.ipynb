{
 "cells": [
  {
   "cell_type": "code",
   "execution_count": 1,
   "metadata": {},
   "outputs": [],
   "source": [
    "# nested loops\n",
    "\n",
    "# syntax\n",
    "\n",
    "# for i in condition:\n",
    "#     for j in condition:\n",
    "#         print()"
   ]
  },
  {
   "cell_type": "markdown",
   "metadata": {},
   "source": [
    "##### to get a possible pair value"
   ]
  },
  {
   "cell_type": "code",
   "execution_count": 3,
   "metadata": {},
   "outputs": [
    {
     "name": "stdout",
     "output_type": "stream",
     "text": [
      "1 1\n",
      "1 2\n",
      "1 3\n",
      "1 4\n",
      "1 5\n",
      "\n",
      "2 1\n",
      "2 2\n",
      "2 3\n",
      "2 4\n",
      "2 5\n",
      "\n",
      "3 1\n",
      "3 2\n",
      "3 3\n",
      "3 4\n",
      "3 5\n",
      "\n",
      "4 1\n",
      "4 2\n",
      "4 3\n",
      "4 4\n",
      "4 5\n",
      "\n",
      "5 1\n",
      "5 2\n",
      "5 3\n",
      "5 4\n",
      "5 5\n",
      "\n"
     ]
    }
   ],
   "source": [
    "for i in range(1,6):\n",
    "    for j in range(1,6):\n",
    "        print(i,j)\n",
    "    print('')"
   ]
  },
  {
   "cell_type": "markdown",
   "metadata": {},
   "source": [
    "#### Exercise -1  \n",
    "Shape based on number"
   ]
  },
  {
   "cell_type": "code",
   "execution_count": 6,
   "metadata": {},
   "outputs": [
    {
     "name": "stdout",
     "output_type": "stream",
     "text": [
      "*\n",
      "**\n",
      "***\n",
      "****\n",
      "*****\n"
     ]
    }
   ],
   "source": [
    "# to get a shape based on number\n",
    "\n",
    "number = int(input('Enter the number :'))\n",
    "\n",
    "for i in range(1,number+1):\n",
    "    for j in range(1,i+1):\n",
    "        print('*',end='')\n",
    "    print('')"
   ]
  },
  {
   "cell_type": "code",
   "execution_count": 19,
   "metadata": {},
   "outputs": [
    {
     "name": "stdout",
     "output_type": "stream",
     "text": [
      "The number is:  5\n",
      "*****\n",
      "****\n",
      "***\n",
      "**\n",
      "*\n"
     ]
    }
   ],
   "source": [
    "number = int(input('Enter the number :'))\n",
    "print('The number is: ',number)\n",
    "\n",
    "for i in range(number,0,-1):\n",
    "    for j in range(i,0,-1):\n",
    "        print('*',end='')\n",
    "    print('')"
   ]
  },
  {
   "cell_type": "code",
   "execution_count": 41,
   "metadata": {},
   "outputs": [
    {
     "name": "stdout",
     "output_type": "stream",
     "text": [
      "The number is:  6\n",
      "     *\n",
      "    ***\n",
      "   *****\n",
      "  *******\n",
      " *********\n",
      "***********\n"
     ]
    }
   ],
   "source": [
    "number = int(input('Enter the number :'))\n",
    "print('The number is: ',number)\n",
    "\n",
    "for i in range(1,number+1):\n",
    "    for j in range(number - i):\n",
    "        print('',end =' ')\n",
    "    # print(\"\")\n",
    "\n",
    "    # Print stars for the left side of the hill\n",
    "    for j in range(i):\n",
    "        print('*', end='')\n",
    "\n",
    "    # Print stars for the right side of the hill\n",
    "    for j in range(i - 1):\n",
    "        print('*', end='')\n",
    "\n",
    "    # Move to the next line\n",
    "    print('')\n"
   ]
  },
  {
   "cell_type": "code",
   "execution_count": 43,
   "metadata": {},
   "outputs": [
    {
     "name": "stdout",
     "output_type": "stream",
     "text": [
      "The number is:  6\n",
      "*\n",
      "***\n",
      "*****\n",
      "*******\n",
      "*********\n",
      "***********\n"
     ]
    }
   ],
   "source": [
    "number = int(input('Enter the number :'))\n",
    "print('The number is: ',number)\n",
    "\n",
    "# Outer loop for each row\n",
    "for i in range(number + 1,-1): # i = 1\n",
    "    \n",
    "    # # Print leading spaces\n",
    "    # for j in range(number - i): # 5-1 = 4 spaces\n",
    "    #     print('', end='')\n",
    "\n",
    "    # Print stars for the left side of the hill\n",
    "    for j in range(i): # i = 1\n",
    "        print('*', end='') \n",
    "\n",
    "    # Print stars for the right side of the hill\n",
    "    for j in range(i - 1): # 1-1 =0 \n",
    "        print('*', end='')\n",
    "\n",
    "    # Move to the next line\n",
    "    print('')\n"
   ]
  },
  {
   "cell_type": "code",
   "execution_count": 39,
   "metadata": {},
   "outputs": [
    {
     "name": "stdout",
     "output_type": "stream",
     "text": [
      "Number:  6\n",
      "     *\n",
      "    ***\n",
      "   *****\n",
      "  *******\n",
      " *********\n",
      "***********\n"
     ]
    }
   ],
   "source": [
    "number = int(input('Number: '))\n",
    "print('Number: ',number)\n",
    "\n",
    "for i in range(1,number+ 1): \n",
    "    # print(i)\n",
    "    for j in range(number-i): # 5-1 = 4\n",
    "        print(' ',end='')\n",
    "        \n",
    "    for j in range(i): #1\n",
    "        print('*',end='')\n",
    "            \n",
    "    for j in range(i-1):#1-1\n",
    "        print('*',end='')\n",
    "            \n",
    "    print('')\n",
    "            \n",
    "        \n",
    "            \n",
    "            "
   ]
  },
  {
   "cell_type": "code",
   "execution_count": null,
   "metadata": {},
   "outputs": [],
   "source": []
  },
  {
   "cell_type": "code",
   "execution_count": null,
   "metadata": {},
   "outputs": [],
   "source": []
  }
 ],
 "metadata": {
  "kernelspec": {
   "display_name": "base",
   "language": "python",
   "name": "python3"
  },
  "language_info": {
   "codemirror_mode": {
    "name": "ipython",
    "version": 3
   },
   "file_extension": ".py",
   "mimetype": "text/x-python",
   "name": "python",
   "nbconvert_exporter": "python",
   "pygments_lexer": "ipython3",
   "version": "3.12.4"
  }
 },
 "nbformat": 4,
 "nbformat_minor": 2
}
