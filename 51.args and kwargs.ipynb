{
 "cells": [
  {
   "cell_type": "markdown",
   "metadata": {},
   "source": [
    "### * args and ** kwargs\n",
    "\n",
    "*args and **kwargs are special Python keywords that are used to pass the variable length of arguments to a function"
   ]
  },
  {
   "cell_type": "markdown",
   "metadata": {},
   "source": [
    "### *args\n",
    "\n",
    "allows us to pass a variable number of non-keyword arguments to a function.\n"
   ]
  },
  {
   "cell_type": "code",
   "execution_count": 1,
   "metadata": {},
   "outputs": [
    {
     "data": {
      "text/plain": [
       "24"
      ]
     },
     "execution_count": 1,
     "metadata": {},
     "output_type": "execute_result"
    }
   ],
   "source": [
    "def mul(a,b,c,d): # if u need to multiple infinite number u can't do that in that place *args will work\n",
    "    return a*b*c*d\n",
    "\n",
    "mul(1,2,3,4)"
   ]
  },
  {
   "cell_type": "code",
   "execution_count": 6,
   "metadata": {},
   "outputs": [
    {
     "name": "stdout",
     "output_type": "stream",
     "text": [
      "3600\n"
     ]
    }
   ],
   "source": [
    "def multiply (*args):\n",
    "    product = 3\n",
    "    for i in args:\n",
    "        product *= i\n",
    "    return product\n",
    "\n",
    "result = multiply (10,2,3,4,5)\n",
    "print(result)"
   ]
  },
  {
   "cell_type": "code",
   "execution_count": 8,
   "metadata": {},
   "outputs": [
    {
     "name": "stdout",
     "output_type": "stream",
     "text": [
      "3600\n"
     ]
    }
   ],
   "source": [
    "def multiply (*malu): # can also use any number instead args, but advisible is args \n",
    "    product = 3\n",
    "    for i in malu:\n",
    "        product *= i\n",
    "    return product\n",
    "\n",
    "result = multiply (10,2,3,4,5)\n",
    "print(result)"
   ]
  },
  {
   "cell_type": "markdown",
   "metadata": {},
   "source": [
    "### **kwargs\n",
    "\n",
    "### **kwargs allows us to pass any number of keyword arguments.\n",
    "\n",
    "Keyword arguments mean that they contain a key-value pair, like a Python dictionary."
   ]
  },
  {
   "cell_type": "code",
   "execution_count": 9,
   "metadata": {},
   "outputs": [
    {
     "data": {
      "text/plain": [
       "{'a': 'apple', 'b': 'bat', 'c': 'cat', 'd': 'dog'}"
      ]
     },
     "execution_count": 9,
     "metadata": {},
     "output_type": "execute_result"
    }
   ],
   "source": [
    "def display(**kwargs):\n",
    "    return kwargs\n",
    "\n",
    "display(a='apple',b ='bat',c='cat',d='dog')"
   ]
  },
  {
   "cell_type": "code",
   "execution_count": 13,
   "metadata": {},
   "outputs": [
    {
     "name": "stdout",
     "output_type": "stream",
     "text": [
      "a -> apple\n",
      "b -> bat\n",
      "c -> cat\n",
      "d -> dog\n"
     ]
    }
   ],
   "source": [
    "def display(**kwargs):\n",
    "    for key,val in kwargs.items():\n",
    "        print(f\"{key} -> {val}\")\n",
    "        \n",
    "result =display(a='apple',b ='bat',c='cat',d='dog')\n",
    "# print(result)"
   ]
  },
  {
   "cell_type": "code",
   "execution_count": 14,
   "metadata": {},
   "outputs": [
    {
     "name": "stdout",
     "output_type": "stream",
     "text": [
      "a -> apple\n",
      "b -> bat\n",
      "c -> cat\n",
      "d -> dog\n"
     ]
    }
   ],
   "source": [
    "def display(**malu):\n",
    "    for key,val in malu.items():\n",
    "        print(f\"{key} -> {val}\")\n",
    "        \n",
    "result =display(a='apple',b ='bat',c='cat',d='dog')\n",
    "# print(result)"
   ]
  },
  {
   "cell_type": "code",
   "execution_count": null,
   "metadata": {},
   "outputs": [],
   "source": []
  }
 ],
 "metadata": {
  "kernelspec": {
   "display_name": "base",
   "language": "python",
   "name": "python3"
  },
  "language_info": {
   "codemirror_mode": {
    "name": "ipython",
    "version": 3
   },
   "file_extension": ".py",
   "mimetype": "text/x-python",
   "name": "python",
   "nbconvert_exporter": "python",
   "pygments_lexer": "ipython3",
   "version": "3.12.4"
  }
 },
 "nbformat": 4,
 "nbformat_minor": 2
}
