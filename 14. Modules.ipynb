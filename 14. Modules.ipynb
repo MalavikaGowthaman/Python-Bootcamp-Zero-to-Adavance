{
 "cells": [
  {
   "cell_type": "markdown",
   "metadata": {},
   "source": [
    "1. Built -in Module/packages \n",
    "\n",
    "-- Built in Modules are from python itself and we can directly import by using import keyword option\n",
    "\n",
    "2. External Modules/packages\n",
    "\n",
    "-- Need to install using pip"
   ]
  },
  {
   "cell_type": "markdown",
   "metadata": {},
   "source": [
    "1. Built -in Module/packages "
   ]
  },
  {
   "cell_type": "code",
   "execution_count": 2,
   "metadata": {},
   "outputs": [
    {
     "name": "stdout",
     "output_type": "stream",
     "text": [
      "5.477225575051661\n"
     ]
    }
   ],
   "source": [
    "import math\n",
    "\n",
    "print(math.sqrt(30))"
   ]
  },
  {
   "cell_type": "code",
   "execution_count": 3,
   "metadata": {},
   "outputs": [
    {
     "name": "stdout",
     "output_type": "stream",
     "text": [
      "0.8939966636005579\n"
     ]
    }
   ],
   "source": [
    "import math\n",
    "print(math.sin(90))"
   ]
  },
  {
   "cell_type": "code",
   "execution_count": 5,
   "metadata": {},
   "outputs": [
    {
     "data": {
      "text/plain": [
       "['False',\n",
       " 'None',\n",
       " 'True',\n",
       " 'and',\n",
       " 'as',\n",
       " 'assert',\n",
       " 'async',\n",
       " 'await',\n",
       " 'break',\n",
       " 'class',\n",
       " 'continue',\n",
       " 'def',\n",
       " 'del',\n",
       " 'elif',\n",
       " 'else',\n",
       " 'except',\n",
       " 'finally',\n",
       " 'for',\n",
       " 'from',\n",
       " 'global',\n",
       " 'if',\n",
       " 'import',\n",
       " 'in',\n",
       " 'is',\n",
       " 'lambda',\n",
       " 'nonlocal',\n",
       " 'not',\n",
       " 'or',\n",
       " 'pass',\n",
       " 'raise',\n",
       " 'return',\n",
       " 'try',\n",
       " 'while',\n",
       " 'with',\n",
       " 'yield']"
      ]
     },
     "execution_count": 5,
     "metadata": {},
     "output_type": "execute_result"
    }
   ],
   "source": [
    "import keyword\n",
    "keyword.kwlist"
   ]
  },
  {
   "cell_type": "code",
   "execution_count": 9,
   "metadata": {},
   "outputs": [
    {
     "data": {
      "text/plain": [
       "datetime.datetime(2024, 9, 7, 13, 2, 44, 398303)"
      ]
     },
     "execution_count": 9,
     "metadata": {},
     "output_type": "execute_result"
    }
   ],
   "source": [
    "import datetime\n",
    "datetime.datetime.now()"
   ]
  },
  {
   "cell_type": "code",
   "execution_count": 10,
   "metadata": {},
   "outputs": [
    {
     "name": "stdout",
     "output_type": "stream",
     "text": [
      "\n",
      "Please wait a moment while I gather a list of all available modules...\n",
      "\n"
     ]
    },
    {
     "name": "stderr",
     "output_type": "stream",
     "text": [
      "c:\\Users\\kathi\\anaconda3\\Lib\\site-packages\\paramiko\\transport.py:219: CryptographyDeprecationWarning: Blowfish has been deprecated and will be removed in a future release\n",
      "  \"class\": algorithms.Blowfish,\n",
      "c:\\Users\\kathi\\anaconda3\\Lib\\site-packages\\nltk\\twitter\\__init__.py:20: UserWarning: The twython library has not been installed. Some functionality from the twitter package will not be available.\n",
      "  warnings.warn(\n",
      "c:\\Users\\kathi\\anaconda3\\Lib\\pkgutil.py:78: UserWarning: The numpy.array_api submodule is still experimental. See NEP 47.\n",
      "  __import__(info.name)\n",
      "No QCoreApplication instance found. Application patches not applied. You have to call load_stylesheet function after instantiation of QApplication to take effect. \n"
     ]
    },
    {
     "name": "stdout",
     "output_type": "stream",
     "text": [
      "7f0197f6d050da244d93__mypyc colorsys            menuinst            sndhdr\n",
      "IPython             comm                mimetypes           sniffio\n",
      "OpenSSL             commctrl            mistune             snowballstemmer\n",
      "PIL                 compileall          mkl                 socket\n",
      "PyQt5               concurrent          mkl_fft             socketserver\n",
      "__future__          conda               mmap                socks\n",
      "__hello__           conda_build         mmapfile            sockshandler\n",
      "__phello__          conda_content_trust mmsystem            sortedcontainers\n",
      "_abc                conda_env           modulefinder        soupsieve\n",
      "_aix_support        conda_index         more_itertools      sphinx\n",
      "_argon2_cffi_bindings conda_libmamba_solver mpmath              spyder\n",
      "_ast                conda_pack          msgpack             spyder_kernels\n",
      "_asyncio            conda_package_handling msilib              sqlalchemy\n",
      "_bisect             conda_package_streaming msvcrt              sqlite3\n",
      "_black_version      conda_token         multidict           sre_compile\n",
      "_blake2             configparser        multipledispatch    sre_constants\n",
      "_brotli             constantly          multiprocessing     sre_parse\n",
      "_bz2                contextlib          mypy                ssl\n",
      "_cffi_backend       contextvars         mypy_extensions     sspi\n",
      "_codecs             contourpy           mypyc               sspicon\n",
      "_codecs_cn          cookiecutter        nacl                stack_data\n",
      "_codecs_hk          copy                navigator_updater   stat\n",
      "_codecs_iso2022     copyreg             nbclient            statistics\n",
      "_codecs_jp          cpuinfo             nbconvert           statsmodels\n",
      "_codecs_kr          crypt               nbformat            streamlit\n",
      "_codecs_tw          cryptography        nest_asyncio        string\n",
      "_collections        cssselect           netbios             stringprep\n",
      "_collections_abc    csv                 netrc               struct\n",
      "_compat_pickle      ctypes              networkx            subprocess\n",
      "_compression        curl                nltk                sunau\n",
      "_contextvars        curses              nntplib             sympy\n",
      "_csv                cwp                 notebook            symtable\n",
      "_ctypes             cycler              notebook_shim       sys\n",
      "_ctypes_test        cytoolz             nt                  sysconfig\n",
      "_datetime           dask                ntpath              tables\n",
      "_decimal            dask_expr           ntsecuritycon       tabnanny\n",
      "_distutils_hack     dataclasses         nturl2path          tabulate\n",
      "_elementtree        datashader          numba               tarfile\n",
      "_functools          datetime            numbergen           tblib\n",
      "_hashlib            dateutil            numbers             telnetlib\n",
      "_heapq              dbi                 numexpr             tempfile\n",
      "_imp                dbm                 numpy               tenacity\n",
      "_io                 dde                 numpydoc            terminado\n",
      "_json               debugpy             odbc                test\n",
      "_locale             decimal             opcode              test_pycosat\n",
      "_lsprof             decorator           openpyxl            text_unidecode\n",
      "_lzma               defusedxml          operator            textdistance\n",
      "_markupbase         diff_match_patch    optparse            textwrap\n",
      "_md5                difflib             os                  this\n",
      "_msi                dill                overrides           threading\n",
      "_multibytecodec     dis                 packaging           threadpoolctl\n",
      "_multiprocessing    distributed         pandas              three_merge\n",
      "_nsis               distro              pandocfilters       tifffile\n",
      "_opcode             docstring_to_markdown panel               time\n",
      "_operator           doctest             param               timeit\n",
      "_osx_support        docutils            paramiko            timer\n",
      "_overlapped         dotenv              parsel              tinycss2\n",
      "_pickle             email               parso               tkinter\n",
      "_plotly_future_     encodings           partd               tldextract\n",
      "_plotly_utils       ensurepip           pathlib             tlz\n",
      "_py_abc             entrypoints         pathspec            token\n",
      "_pydatetime         enum                patsy               tokenize\n",
      "_pydecimal          erfa                pdb                 toml\n",
      "_pyio               errno               perfmon             tomli\n",
      "_pylong             et_xmlfile          pexpect             tomlkit\n",
      "_pytest             executing           pickle              tomllib\n",
      "_queue              fastjsonschema      pickleshare         toolz\n",
      "_random             faulthandler        pickletools         tornado\n",
      "_sha1               filecmp             pip                 tqdm\n",
      "_sha2               fileinput           pipes               trace\n",
      "_sha3               filelock            pkce                traceback\n",
      "_signal             flake8              pkg_resources       tracemalloc\n",
      "_sitebuiltins       flask               pkginfo             traitlets\n",
      "_socket             fnmatch             pkgutil             truststore\n",
      "_sqlite3            fontTools           platform            tty\n",
      "_sre                fractions           platformdirs        turtle\n",
      "_ssl                frozendict          plistlib            turtledemo\n",
      "_stat               frozenlist          plotly              twisted\n",
      "_statistics         fsspec              pluggy              types\n",
      "_string             ftplib              ply                 typing\n",
      "_strptime           functools           poplib              typing_extensions\n",
      "_struct             gc                  posixpath           tzdata\n",
      "_symtable           genericpath         pprint              uc_micro\n",
      "_system_path        gensim              profile             ujson\n",
      "_testbuffer         getopt              prometheus_client   unicodedata\n",
      "_testcapi           getpass             prompt_toolkit      unicodedata2\n",
      "_testclinic         gettext             protego             unidecode\n",
      "_testconsole        git                 pstats              unittest\n",
      "_testimportmultiple gitdb               psutil              urllib\n",
      "_testinternalcapi   glob                pty                 urllib3\n",
      "_testmultiphase     graphlib            ptyprocess          uu\n",
      "_testsinglephase    greenlet            pure_eval           uuid\n",
      "_thread             gzip                py                  venv\n",
      "_threading_local    h5py                py_compile          w3lib\n",
      "_tkinter            hashlib             pyarrow             warnings\n",
      "_tokenize           heapdict            pyasn1              watchdog\n",
      "_tracemalloc        heapq               pyasn1_modules      wave\n",
      "_typing             hmac                pyclbr              wcwidth\n",
      "_uuid               holoviews           pycodestyle         weakref\n",
      "_warnings           html                pycosat             webbrowser\n",
      "_weakref            http                pycparser           webencodings\n",
      "_weakrefset         hvplot              pyct                websocket\n",
      "_win32sysloader     hyperlink           pycurl              werkzeug\n",
      "_winapi             idlelib             pydantic            whatthepatch\n",
      "_winxptheme         idna                pydantic_core       wheel\n",
      "_wmi                imagecodecs         pydeck              widgetsnbextension\n",
      "_xxinterpchannels   imageio             pydispatch          win2kras\n",
      "_xxsubinterpreters  imagesize           pydoc               win32api\n",
      "_yaml               imaplib             pydoc_data          win32clipboard\n",
      "_zoneinfo           imblearn            pydocstyle          win32com\n",
      "abc                 imghdr              pyexpat             win32con\n",
      "adodbapi            importlib           pyflakes            win32console\n",
      "afxres              importlib_metadata  pygments            win32cred\n",
      "aifc                incremental         pylab               win32crypt\n",
      "aiobotocore         inflection          pylint              win32cryptcon\n",
      "aiohttp             iniconfig           pylint_venv         win32ctypes\n",
      "aioitertools        inspect             pyls_spyder         win32event\n",
      "aiosignal           intake              pylsp               win32evtlog\n",
      "alabaster           intervaltree        pylsp_black         win32evtlogutil\n",
      "altair              io                  pylsp_jsonrpc       win32file\n",
      "anaconda_anon_usage ipaddress           pyodbc              win32gui\n",
      "anaconda_catalogs   ipykernel           pyparsing           win32gui_struct\n",
      "anaconda_cloud_auth ipykernel_launcher  pytest              win32help\n",
      "anaconda_navigator  ipython_genutils    pythoncom           win32inet\n",
      "anaconda_project    ipywidgets          pythonjsonlogger    win32inetcon\n",
      "annotated_types     isapi               pytoolconfig        win32job\n",
      "antigravity         isort               pytz                win32lz\n",
      "anyio               isympy              pyviz_comms         win32net\n",
      "appdirs             itemadapter         pywin               win32netcon\n",
      "archspec            itemloaders         pywin32_bootstrap   win32pdh\n",
      "argon2              itertools           pywin32_testutil    win32pdhquery\n",
      "argparse            itsdangerous        pywintypes          win32pdhutil\n",
      "array               jedi                pywt                win32pipe\n",
      "arrow               jellyfish           qdarkstyle          win32print\n",
      "ast                 jinja2              qstylizer           win32process\n",
      "astroid             jmespath            qtawesome           win32profile\n",
      "astropy             joblib              qtconsole           win32ras\n",
      "astropy_iers_data   json                qtpy                win32rcparser\n",
      "asttokens           json5               queue               win32security\n",
      "async_lru           jsonpatch           queuelib            win32service\n",
      "asyncio             jsonpointer         quopri              win32serviceutil\n",
      "atexit              jsonschema          random              win32timezone\n",
      "atomicwrites        jsonschema_specifications rasutil             win32trace\n",
      "attr                jupyter             re                  win32traceutil\n",
      "attrs               jupyter_client      referencing         win32transaction\n",
      "audioop             jupyter_console     regcheck            win32ts\n",
      "automat             jupyter_core        regex               win32ui\n",
      "autopep8            jupyter_events      regutil             win32uiole\n",
      "babel               jupyter_lsp         repo_cli            win32verstamp\n",
      "base64              jupyter_server      reprlib             win32wnet\n",
      "bcrypt              jupyter_server_terminals requests            win_inet_pton\n",
      "bdb                 jupyterlab          requests_file       winerror\n",
      "binaryornot         jupyterlab_plotly   requests_toolbelt   winioctlcon\n",
      "binascii            jupyterlab_pygments rfc3339_validator   winnt\n",
      "binstar_client      jupyterlab_server   rfc3986_validator   winperf\n",
      "bisect              jupyterlab_widgets  rich                winpty\n",
      "black               jwt                 rlcompleter         winreg\n",
      "blackd              keyring             rope                winsound\n",
      "bleach              keyword             rpds                winxpgui\n",
      "blib2to3            kiwisolver          rtree               winxptheme\n",
      "blinker             lazy_loader         ruamel_yaml         wrapt\n",
      "bokeh               lazy_object_proxy   runpy               wsgiref\n",
      "boltons             lckr_jupyterlab_variableinspector s3fs                xarray\n",
      "botocore            lib2to3             sched               xdrlib\n",
      "bottleneck          libarchive          scipy               xlwings\n",
      "brotli              libmambapy          scrapy              xlwingsjs\n",
      "bs4                 lief                seaborn             xml\n",
      "builtins            linecache           secrets             xmlrpc\n",
      "bz2                 linkify_it          select              xxlimited\n",
      "cProfile            llvmlite            selectors           xxlimited_35\n",
      "cachetools          lmdb                semver              xxsubtype\n",
      "calendar            locale              send2trash          xyzservices\n",
      "certifi             locket              service_identity    yaml\n",
      "cffi                logging             servicemanager      yapf\n",
      "cgi                 lxml                setuptools          yapf_third_party\n",
      "cgitb               lz4                 shelve              yapftests\n",
      "chardet             lzma                shlex               yarl\n",
      "charset_normalizer  mailbox             shutil              zict\n",
      "chunk               mailcap             signal              zipapp\n",
      "click               markdown            sipbuild            zipfile\n",
      "cloudpickle         markdown_it         site                zipimport\n",
      "cmath               markupsafe          six                 zipp\n",
      "cmd                 marshal             skimage             zlib\n",
      "code                math                sklearn             zmq\n",
      "codecs              matplotlib          slugify             zoneinfo\n",
      "codeop              matplotlib_inline   smart_open          zope\n",
      "collections         mccabe              smmap               zstandard\n",
      "colorama            mdit_py_plugins     smtplib             \n",
      "colorcet            mdurl               snappy              \n",
      "\n",
      "Enter any module name to get more help.  Or, type \"modules spam\" to search\n",
      "for modules whose name or summary contain the string \"spam\".\n",
      "\n"
     ]
    }
   ],
   "source": [
    "help('modules')"
   ]
  },
  {
   "cell_type": "code",
   "execution_count": 15,
   "metadata": {},
   "outputs": [
    {
     "data": {
      "text/plain": [
       "6"
      ]
     },
     "execution_count": 15,
     "metadata": {},
     "output_type": "execute_result"
    }
   ],
   "source": [
    "import random\n",
    "\n",
    "random.randint(1,10)"
   ]
  },
  {
   "cell_type": "markdown",
   "metadata": {},
   "source": [
    "2. External Modules/packages\n",
    "\n",
    "! need to use this symbol while installing in jupyter notebook"
   ]
  },
  {
   "cell_type": "code",
   "execution_count": 16,
   "metadata": {},
   "outputs": [
    {
     "name": "stdout",
     "output_type": "stream",
     "text": [
      "Requirement already satisfied: pandas in c:\\users\\kathi\\anaconda3\\lib\\site-packages (2.2.2)\n",
      "Requirement already satisfied: numpy>=1.26.0 in c:\\users\\kathi\\anaconda3\\lib\\site-packages (from pandas) (1.26.4)\n",
      "Requirement already satisfied: python-dateutil>=2.8.2 in c:\\users\\kathi\\anaconda3\\lib\\site-packages (from pandas) (2.9.0.post0)\n",
      "Requirement already satisfied: pytz>=2020.1 in c:\\users\\kathi\\anaconda3\\lib\\site-packages (from pandas) (2024.1)\n",
      "Requirement already satisfied: tzdata>=2022.7 in c:\\users\\kathi\\anaconda3\\lib\\site-packages (from pandas) (2023.3)\n",
      "Requirement already satisfied: six>=1.5 in c:\\users\\kathi\\anaconda3\\lib\\site-packages (from python-dateutil>=2.8.2->pandas) (1.16.0)\n"
     ]
    }
   ],
   "source": [
    "!pip install pandas"
   ]
  },
  {
   "cell_type": "code",
   "execution_count": 17,
   "metadata": {},
   "outputs": [
    {
     "name": "stdout",
     "output_type": "stream",
     "text": [
      "Collecting fastapi\n",
      "  Downloading fastapi-0.114.0-py3-none-any.whl.metadata (27 kB)\n",
      "Collecting starlette<0.39.0,>=0.37.2 (from fastapi)\n",
      "  Downloading starlette-0.38.4-py3-none-any.whl.metadata (6.0 kB)\n",
      "Requirement already satisfied: pydantic!=1.8,!=1.8.1,!=2.0.0,!=2.0.1,!=2.1.0,<3.0.0,>=1.7.4 in c:\\users\\kathi\\anaconda3\\lib\\site-packages (from fastapi) (2.5.3)\n"
     ]
    },
    {
     "name": "stdout",
     "output_type": "stream",
     "text": [
      "Requirement already satisfied: typing-extensions>=4.8.0 in c:\\users\\kathi\\anaconda3\\lib\\site-packages (from fastapi) (4.11.0)\n",
      "Requirement already satisfied: annotated-types>=0.4.0 in c:\\users\\kathi\\anaconda3\\lib\\site-packages (from pydantic!=1.8,!=1.8.1,!=2.0.0,!=2.0.1,!=2.1.0,<3.0.0,>=1.7.4->fastapi) (0.6.0)\n",
      "Requirement already satisfied: pydantic-core==2.14.6 in c:\\users\\kathi\\anaconda3\\lib\\site-packages (from pydantic!=1.8,!=1.8.1,!=2.0.0,!=2.0.1,!=2.1.0,<3.0.0,>=1.7.4->fastapi) (2.14.6)\n",
      "Requirement already satisfied: anyio<5,>=3.4.0 in c:\\users\\kathi\\anaconda3\\lib\\site-packages (from starlette<0.39.0,>=0.37.2->fastapi) (4.2.0)\n",
      "Requirement already satisfied: idna>=2.8 in c:\\users\\kathi\\anaconda3\\lib\\site-packages (from anyio<5,>=3.4.0->starlette<0.39.0,>=0.37.2->fastapi) (3.7)\n",
      "Requirement already satisfied: sniffio>=1.1 in c:\\users\\kathi\\anaconda3\\lib\\site-packages (from anyio<5,>=3.4.0->starlette<0.39.0,>=0.37.2->fastapi) (1.3.0)\n",
      "Downloading fastapi-0.114.0-py3-none-any.whl (94 kB)\n",
      "   ---------------------------------------- 0.0/94.0 kB ? eta -:--:--\n",
      "   ----------------- ---------------------- 41.0/94.0 kB 991.0 kB/s eta 0:00:01\n",
      "   ---------------------------------------- 94.0/94.0 kB 1.4 MB/s eta 0:00:00\n",
      "Downloading starlette-0.38.4-py3-none-any.whl (71 kB)\n",
      "   ---------------------------------------- 0.0/71.4 kB ? eta -:--:--\n",
      "   ---------------------------------------- 71.4/71.4 kB 3.8 MB/s eta 0:00:00\n",
      "Installing collected packages: starlette, fastapi\n",
      "Successfully installed fastapi-0.114.0 starlette-0.38.4\n"
     ]
    }
   ],
   "source": [
    "!pip install fastapi"
   ]
  },
  {
   "cell_type": "code",
   "execution_count": null,
   "metadata": {},
   "outputs": [],
   "source": []
  }
 ],
 "metadata": {
  "kernelspec": {
   "display_name": "base",
   "language": "python",
   "name": "python3"
  },
  "language_info": {
   "codemirror_mode": {
    "name": "ipython",
    "version": 3
   },
   "file_extension": ".py",
   "mimetype": "text/x-python",
   "name": "python",
   "nbconvert_exporter": "python",
   "pygments_lexer": "ipython3",
   "version": "3.12.4"
  }
 },
 "nbformat": 4,
 "nbformat_minor": 2
}
