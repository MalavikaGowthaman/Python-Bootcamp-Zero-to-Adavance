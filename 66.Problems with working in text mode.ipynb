{
 "cells": [
  {
   "cell_type": "markdown",
   "metadata": {},
   "source": [
    "### Problems with working in text mode\n",
    "\n",
    "- can't work with binary files like images\n",
    "- not good for other data types like int/float/list/tuples"
   ]
  },
  {
   "cell_type": "code",
   "execution_count": 2,
   "metadata": {},
   "outputs": [
    {
     "ename": "UnicodeDecodeError",
     "evalue": "'utf-8' codec can't decode byte 0x89 in position 0: invalid start byte",
     "output_type": "error",
     "traceback": [
      "\u001b[1;31m---------------------------------------------------------------------------\u001b[0m",
      "\u001b[1;31mUnicodeDecodeError\u001b[0m                        Traceback (most recent call last)",
      "Cell \u001b[1;32mIn[2], line 3\u001b[0m\n\u001b[0;32m      1\u001b[0m \u001b[38;5;66;03m# working with images \u001b[39;00m\n\u001b[0;32m      2\u001b[0m \u001b[38;5;28;01mwith\u001b[39;00m \u001b[38;5;28mopen\u001b[39m(\u001b[38;5;124m\"\u001b[39m\u001b[38;5;124mfiles/download.png\u001b[39m\u001b[38;5;124m\"\u001b[39m,\u001b[38;5;124m'\u001b[39m\u001b[38;5;124mr\u001b[39m\u001b[38;5;124m'\u001b[39m) \u001b[38;5;28;01mas\u001b[39;00m f:\n\u001b[1;32m----> 3\u001b[0m     \u001b[38;5;28mprint\u001b[39m(f\u001b[38;5;241m.\u001b[39mread())\n",
      "File \u001b[1;32m<frozen codecs>:322\u001b[0m, in \u001b[0;36mdecode\u001b[1;34m(self, input, final)\u001b[0m\n",
      "\u001b[1;31mUnicodeDecodeError\u001b[0m: 'utf-8' codec can't decode byte 0x89 in position 0: invalid start byte"
     ]
    }
   ],
   "source": [
    "# working with images \n",
    "with open(\"files/download.png\",'r') as f:\n",
    "    print(f.read()) # not able to read in read mode need to use rb - read binary mode"
   ]
  },
  {
   "cell_type": "code",
   "execution_count": 3,
   "metadata": {},
   "outputs": [
    {
     "name": "stdout",
     "output_type": "stream",
     "text": [
      "b'\\x89PNG\\r\\n\\x1a\\n\\x00\\x00\\x00\\rIHDR\\x00\\x00\\x01\\x13\\x00\\x00\\x00\\xb7\\x08\\x03\\x00\\x00\\x00\\x06\\x8dJ\\xc6\\x00\\x00\\x00\\xedPLTE\\xff\\xff\\xffdddYYY^^^UUUaaa\\xff\\xe8s\\xb9\\xb9\\xb9\\xa9\\xa9\\xa9\\xf2\\xf2\\xf20i\\x98\\xd1\\xd1\\xd1___\\xd4\\xd4\\xd4\\xf5\\xf5\\xf5\\xd9\\xd9\\xd9\\x9e\\x9e\\x9e>{\\xac~~~\\xc2\\xc2\\xc2\\xff\\xd4;9u\\xa5\\xff\\xe2b\\xff\\xdfYC\\x81\\xb35o\\x9f\\xff\\xff\\xf6@~\\xaf;w\\xa8\\xff\\xddU\\xff\\xdaLQQQ\\x97\\x97\\x97\\xc9\\xd5\\xe2\\xff\\xfa\\xebuuu\\x83\\x83\\x83I\\x89\\xbc\\xff\\xe5j\\xff\\xf7\\xde\\xff\\xd8E\\xe3\\xe3\\xe3\\xc9\\xc9\\xc9\\x1b_\\x92\\xff\\xf4\\xc3\\xff\\xd37\\xff\\xd2\\'\\xbc\\xbc\\xbc\\xe6\\xec\\xf1\\xb5\\xcb\\xe0\\x8f\\x8f\\x8fHHH\\xff\\xf2\\xbf\\xa9\\xc2\\xda\\x94\\xb4\\xd2\\x86\\xaa\\xccy\\xa1\\xc6o\\x9f\\xc83\\x7f\\xb7\\'p\\xa6Z\\x94\\xc3\\xd9\\xe2\\xeb\\x15f\\x9cW\\x85\\xae\\xff\\xf0\\xae\\xff\\xe8\\x94\\xff\\xe7xy\\x98\\xb6\\x8f\\xab\\xc6\\xce\\xda\\xe6\\xff\\xf6\\xd0\\xff\\xdce\\x00U\\x91\\xff\\xd0\\x18\\xff\\xddo\\xff\\xe8\\xa4\\xff\\xe3\\x8d\\xff\\xf5\\xd4\\xff\\xe6\\x9b^X\\xaf\\xe5\\x00\\x00\\x07\\xf4IDATx\\x9c\\xed\\x9b\\x0b[\\xdaH\\x1b\\x86\\'\\x93I\\x93\\x94\\x08Q\\x10\\xb4\\x05\\x12\\x05\\x94PA\\xa5b-T\\xb7\\xdb=\\xb8\\xddn\\xbf\\xff\\xffs\\xbe\\x99\\x9cg8hK@\\xdd}\\xee\\xab\\xd7%\\x87L\\xc8\\xdc\\xbc\\xf3\\xbe3\\x13J\\x08\\x00\\x00\\x00\\x00\\x00\\x00\\x00\\x00\\x00\\x00\\x00\\x00\\x00\\x00\\x00\\x00\\x00\\x00\\x00\\x00\\x00\\x00\\x00\\x00\\x00\\x00\\x00\\x00\\x00\\x00\\x00\\x00\\x00\\x00\\x00\\x00\\x00\\x00\\x00\\x00\\xf8\\xf7\\x13\\x98\\x9d\\xf3\\xa7\\xbe\\x86\\x07\\xb9=\\x9a\\\\\\x7f\\xb8\\xb9\\xb9\\xf9p=9\\xba\\xdd\\xf8\\xa7\\x99\\x9eN\\xab\\x1b\\xff\\x94\\xb58\\xfa8\\x9dN\\x0f\\x04oww\\x9b\\xb3\\xd9\\xec\\xf7\\xf2f?\\xd0\\xd4\\xb5\\xe7\\xed\\xa4\\xfci\\xda\\xe3\\x1cDR\\xb8\\x15\\xa1e\\xb3\\xb1\\xf2\\xec\\x9d|\\xec\\xf5\\xa6\\xbdiN\\xc9n\\xb3\\xb9\\x7fw\\xb1\\xc9\\x8f|\\xeeN.\\xb8\\x10\\x1e\\x157\\x91\\x92\\xb7\\x91\\x92\\xfd\\xc3_6\\xf9\\x99\\xc591M\\xd3\\n\\x06\\x84\\x94\\xecBN\\x17s4\\xed]\\xf3?\\xe5i\\xac\\xa4)\\x94\\xec\\x17\\x1f(\\xe5j\\xa7\\x94<.0N\\x02\\x93\\x04\\x8c\\x10=(\\xe6t\\x11\\x97\\xd3\\x83\\x89\\xf8;\\x93\\x94\\x1c\\xde\\x1d\\x15\\xf9!\\xa2\\xd4P\\xb6\\x93>)\\xd4I\\xc5\\xad\\xf0\\x7f\\xc5\\x9c.\\xe2\\xf2\\xa0\\xf7I\\xfc\\xd9M\\x94l\\xc6\\x89\\xc55l\\xcaI\\xc9\\xb2JE;9\\xe8M>\\xcc\\xde\\xa6\\xf9U(yQNv,sP\\xb0\\x930\\xb9\\x1e\\xc8J\\x0e\\xdf\\xbd\\x10\\'\\xe5\\x80\\xd8!\\xc5\\x9c.\\xe2\\x92\\xcf\\xd7\\xa213\\x9b5S%/\\xc6\\xc9F\\xb8\\xbd\\xcc\\xb8\\xd9O\\x94\\xfc\\xb7\\x9d\\xe4\\x99\\xccb#\\x87\\xaf\\x1f\\xe1$\\xa8Z\\xaekU\\xe5*X]R\\x14\\x85\\x93E\\xb58\\x08\\xe6\\x1b\\xec\\x98\\xae\\xef\\x9a\\x0bNT9\\xb7|\\xdf\\xaa\\x16:N\\xf2\\\\\\\\\\x7f\\x9a\\xc6\\xcc\\x12\\x0e\\x93(y\\xcd\\x9d\\xbci\\x9cp\\xbe|^\\xdc\\xbc4f\\x94\\xea\\x1c\\xca\\xf6\\xd2k\\xac\\x8c\\x99\\xb7\\x93;\\xc8\\xf7\\xd8{\\xf1|\\xe7=\\xd35M\\xa3\\x8cy\\x1d\\xf1z\\xec$\\xb0:\\x8c\\x9f\\xc5\\xebJ\\xdd\\xb7\\xc4y\\x1d]g\\x9a\\x1cJ\\x83.\\x8b\\xde\\xe1\\r6ce\\x12.rz\\x07\\xe9\\xf4\\xb5\\x99K&\\xafC\\'\\xf5W\\x82\\x93\\x937\\xf3\\xad+\\x1a5\\x1c\\xca\\xa8C\\xa9\\xa1\\x19\\xa9\\x07\\x97\\xe6\\x06\\x88x\\xce\\xfb.\\n\\xc2\\x8e\\xc7\\x0f\\xd34\\x9dR\\x9a:\\x19\\xd8c&\\x94rY\\x86g\\xa6M\\x02C\\xd7\\x0c.\\x8fQ\\xfeg/;U\\xd5\\xa0\\\\\\xbf\\xc3\\xbd\\xf2\\x06\\x0e+\\xb4\\xcc\\xc4\\\\\\xabJr%G(I\\x9d\\xf0Py5\\xd7\\xda\\xf2\\x0c\\x83\\x8dKb\\xf5\\x1ct\\xa9\\xa6yA\\xe6`\\x91\\x13{P\\x1a\\x1b\\x9an\\x95\\x06\\x83\\x9d\\xd8\\x89\\xd1\\x15B\\xc7f\\xd5\\xd2\\xb9./\\x19V\\x01346\\xae\\x94\\x89]\\xd5t\\xcd\\xd1\\xe2\\x97\\xed\\x0e5X7\\xfa@\\x97q\\xbd\\xac\\xf8H9\\xca)Q\\xab\\xb0\\xe4D\\x0c\\x9f\\xc6\\x99\\xd2\\xdad\\x9a1N\\xb7\\x13|\\xdeAm\\xb5\\x13\\x12\\xe5\\x93\\xf4\\xcb5Ep\\xe8z\\xbc\\xad\\xd4\\xe1Rh\\xf4\\xb0\\xcc\\xe3\\x89%~\\xba\\\\J\\x14)\\xe5\\xf7\\xfc\\x90\\xb4\\xf5\\x80K\\xd1\\xfd\\xb5\\x1d\\xa8|\\xea\\xa9a\\xa2(\\x89\\x9d\\x08%\\xf5\\xfa\\x89\\xd2\\xda\\x92\\xbb.2E4\\xf4\\x1fp\\x92\\xaf;\\x1au\\x93ge\\x96\\x9e`\\xec\\xe4\\x0b\\x12\\x97E\\xc3Qe\\xf3/!7\\x8e\\\\1|\\xd6\\xea\\xff\\x02n\\x17$\\x13YI\\xe8$2R\\xaf\\xb7\\x8f\\xe5\\xe6R\\r\\xe1C\\x9d&\\x81\\xf2\\x03NtS:\\xcc\\xf1\\xc5\\x83\\x80\\xf7\\xbd\\x93\\xbd\\x1e\\xb08\\x80\\x14\\'\\xfc\\xa9\\xc6\\xd6\\xe8\\xfeB&\\x0b\\x95\\x1c\\xe6\\x94\\xbc~w{\\\\\\x8f\\x95\\xd4[Wrs\\xc5\\x89\\xf8\\x9eY\\x10w\\xee\\xb1N\\xf2\\xf3\\x93\\n\\x8d\\xbb\\xec;\\xf2\\xbcE\\x04\\x8ax\\xae8!t\\x03Nn\\x1e\\x8a\\x12\\xee\\x84\\x9c\\xd5#%\\x8dF\\xebW\\xb9\\xb9\\xe2\\x84\\xf00\\x89\\xbe\\xf6\\x9ftb\\'\\xe1A\\x95\\xe4\\x19\\xe6b2\\xefD\\xdb\\x80\\x13E\\x89RrB%\\x13\\xf2%\\x8c\\x11\\xae\\xa4\\xd1\\xba\\x97\\x9b\\xabNxM1\\xc6\\xe2\\xc1O:)\\xc7]\\x0eh\\x9al#*q@l\\xc3\\xc9tY\\x15NG\\xceo\\xe4\\xac\\x11\\x1bi\\xb4Z}\\xb9\\xb9\\xea\\xc4J*\\xcf\\x9aN\\x06TJ\\'q\\xe2\\xb0\\xb7\\xe2\\xe4b\\xaaT\\xe1\\xc3\\xd9]\\xc8\\xbb\\x84Kr\\x9a(iqj\\xf2\\xb4Mu\\x12\\x96\\x11\\xf1`M\\'\\xe74\\x1a*\\x19\"\\xc9\\x06[qr;\\x95\\xaa\\xf0l\\xf6\\xfb\\x91\\xc4-\\xc9\\xa2\\x84\\x1bi\\xb7k\\xa7R\\xfbEN\\xc2k\\\\\\xd3I\\x92>2\\xb6\\xe9$\\x9f_\\xef\\xc4v\\xec\\x9b<\\xc7g_\\x1aY\\x90\\xb4\\xb7\\xe6\\xe4\\x9c\\xca]\\xdf\\xa6\\x93\\x8bi^\\xc9\\x1f\\xe4\\xf4\\xd7p*\\x92LG\\x1a\\x8dz]R\\xd2\\x1e\\xaevb\\x154v\\x9e2\\x9f\\x88=\\xfaD\\xc9\\xec\\x92\\\\E\\x8b\\xbdW\\xf1\\x92/\\x11\\x13\\x8f\\x9bv\\xbb\\xdf\\x1f\\xad\\xce\\'b^YD\\x8e\\r\\xd4yG\\xb0\\xcd\\xba\\x93\\x95\\x9c_\\xc8\\x9f\\xf5y#\\xf9 \\xe9s\\'rs\\xd5I\\xb7\\xa0ZL\\xd2\\xc9_\\xcc\\x80no~\\xf21\\xdd~\\x9d\\x1d\\x91\\x05AR\\xcf\\x82D(\\xa9=0?\\xe1\\xdf\\xe6Zs\\xb6\\xd4\\xc9\\xd8\\x90\\xe7\\xb1n\\xbc\\x06\\xd8\\x86\\x93\\xc9nR\\x85\\xef\\xca\\xa7\\'y#\\'\\xf3A\\xd2\\xaf\\r\\xbf\\xc9\\xcd\\x15\\'\\xe1\\xcc*\\x88\\xdf\\xc8\\xafc~\\xd8III(|5\\xcc\\xc4\\xfa{\\x1bN\\xfe\\x98%k\\xe1;rv\\xb2z\\xdc\\xf4k\\xb5\\xafr\\x8aU\\xd7\\xc5b\\xe8DW,\\x8ai\\xbeO\\x8a\\x93e\\xf7\\x01S\\'b\\x95\\x90\\xdb.\\xe2\\x8a\\xf4p\\xf5\\xbc\\r\\'d\\xb6\\x1b\\xafr2\\'\\x0b\\x93k\\xa8d\\xd8VZ\\xf3\\xfe9\\xe9J_,\\x8b5/\\xeaH\\xe0\\xf1\\x02d\\xa5\\xef\\xd8b\\rWI\\x8f\\xcaBh\\xa9\\x93\\x8a\\x97\\xee\\xc5\\x900L\\xa2\\xa9\\xfeV\\x9c\\\\7\\xe3\\x85_\\xe2dy\\x90\\xd4j#eY\\x1c\\xd6^]7\\xa3]%\\x93\\xe5\\xf6B\\xc6\\xa2*\\xfb\\xd1\\x1b\\x81\\xcfD\\xa7b\\'6\\xd7e$\\'X\\xea\\x84X4\\xd9G\\n\\x8d\\xc6\\xae\\xb7\\xe2\\x844\\x9b\\x92\\x93%\\xc95T2\\xec\\xab\\x8d#\\':\\xdbs\\xad\\xb1.,d\\xd7\\xdb\\twK\\xf9\\x1b\\xbe\\xc6tG\\xcf\\x9c\\x88\\xde\\x1aZ\\xbc\\xab\\xbf\\xdc\\t\\xf1\\xf9cj\\x95v\\x06\\xdc\\xa8\\x91lIn\\xc7\\xc9\\xc5l?\\xfa\\xf9\\x80p\\xb24\\xb9\\x86J\\xd4l\\x12\\xa5\\xd2\\xaa\\xeb\\x89\\xcdu\\x1e\\t\\x8e\\xe7\\xe6\\xde\\x1b3\\'\\xdcW\\x14\\x1b\\xfa\\xbe\\xb4\\xe1\\xc8\\x1b\\x18\\x94E{\\xd4Lgy\\'\\x9e\\xae\\xa7i\\xa8\\xca\\xa8!6\\xb3u\\x87v\\x92\\xbal{z~\\xbf\\x9a\\xf0\\xb3{\\x05\\x89\\xc8c\\xff\\x16\\xae\\xfa\\xfe\\xe2N\\xb2 i%*\\x86\\xc3Q\\xcc\\xd7\\xfb\\xe3\\xb9\\xb6Q\\xbe\\xb4\\xcd\\x8e\\'\\xf6\\xd7}\\xf9FL\\xc5\\xd7\\xf9\\xabN\\xd7*\\x85\\xf3\\x0b\\x9a\\xbd\\x1b\\xb8\\x9d\\xf8^F\\xc9w\\xfd\\\\\\x92.\\xfb\\xae\\x9be!b\\xee\\xf1\\x130}\\\\Zv\\x00q]\\xd7_\\xaf\\xfb\\xcb\\xb8\\x10\\x84[G\\xc9\\xde\\xd1\\xe7\\xe39\\x16\\xdc\\xc8\\xc8\\xd5\\x10;X\\xf9\\xcb\\xb7\\xaa\\xe4\\xe4\\x07(o\\xec\\xb6\\xd6\\xa3\\xb8\\xaa\\xa7\\x99\\xa4\\xfd\\xf94c\\x91\\x8c\\x18u\\xce\\xb6\\x94s}\\x137\\x1d6\\xcfU\\xb6\\x9d&\\x86\\x8e\\x187b\\xe0|U\\x8bM\\x8eG;\\xe1\\x07n \\x17n\\x9e\\xab\\xc6\\\\r\\r\\x0b\\xb0zS\\'\\xc7\\xa3\\x9d\\xf8Nn\\xb6\\xf1\\x82\\x10N$%\\xc3\\xd6\\xdf\\xa3\\x82\\x9ch\\xf1=\\x8a\\x97\\xc6UC\\x9e\\xb9\\x8a\\xc5\\xcd\\xf1\\xa8\\x10\\'|!D\\x07\\x85]\\xe8\\x16\\xb9j\\xc9\\x93\\x92\\xa1x\\xf1\\x9f\\xe1\\xe8\\xcf\\xe5M\\x1e\\xeb\\x84O\\xd2\\xe8\\xc3G=C\\xbe\\xb7\\xe5\\x99k\\xb8W\\xf2\\xcf\\x82\\x99Z\\xc6\\xe3\\x9c\\x04\\\\\\x89\\xf7\"\\xc3\\x84\\x10e\\xe6:\\n\\xc7\\xce\\xfc\\x84>\\xc7#\\x9c\\xd8\\x83=17\\x7f\\xfe\\xff\\xf9b1\\xa75iyS\\x1b\\xdd\\xff=Z\\x19&\\x0f9\\xb1\\xdd\\xae\\xce\\'\\xe8\\x06\\xd5\\n\\xfd!\\xefV9\\xed\\xf7\\x93m\\x81h\\x853\\x1c\\rW)!\\xe7\\x1ee\\xab\\xe2\\xc4s\\x0c\\xf1\\xf3\\xa5\\x17:nb\\xbe\\xd5\\x86\\xb5\\x04>aS\\xf7\\xd5\\xe6\\x19\\xac\\xec\\xf0\\x9e\\xd6u\\x07/q\\xfe*\\xf3\\xfd\\x7f\\xf7\\xd1\\x92ot\\xff\\xed\\xfbS_\\xcc3\\xe2\\xcd\\xf1\\xe9\\xc2%\\x1f\\x00\\x00\\x80u(\\xab<\\xf5\\x05=9\\xa1\\x05;\\x07\\xac\\x10U\\t\\x9c\\x080v\\x00\\x00\\x00\\x00\\x00\\x00\\x00\\x00\\x00\\x00\\x00\\x00\\x00\\x00\\x00\\x00\\x00\\x00\\x00\\x00\\x00\\x00\\x00\\x00\\x00\\x00\\x00\\x00\\x00\\x00\\x00\\x00\\x00\\x00\\x00\\x00\\x00\\x00\\x00\\x00\\x00\\xf8)\\xfe\\x0f\\x9dQ\\x11\\xc2m\\x9e\\xad\\xda\\x00\\x00\\x00\\x00IEND\\xaeB`\\x82'\n"
     ]
    }
   ],
   "source": [
    "# working with binary files \n",
    "with open(\"files/download.png\",'rb') as f:\n",
    "    print(f.read())  # it will return as binary output not an image"
   ]
  },
  {
   "cell_type": "code",
   "execution_count": 4,
   "metadata": {},
   "outputs": [],
   "source": [
    "# to get an image output\n",
    "\n",
    "with open(\"files/download.png\",'rb') as f:\n",
    "    with open(\"files/download_copy.png\",'wb') as wf:\n",
    "        wf.write(f.read())"
   ]
  },
  {
   "cell_type": "code",
   "execution_count": 6,
   "metadata": {},
   "outputs": [
    {
     "ename": "TypeError",
     "evalue": "write() argument must be str, not int",
     "output_type": "error",
     "traceback": [
      "\u001b[1;31m---------------------------------------------------------------------------\u001b[0m",
      "\u001b[1;31mTypeError\u001b[0m                                 Traceback (most recent call last)",
      "Cell \u001b[1;32mIn[6], line 4\u001b[0m\n\u001b[0;32m      1\u001b[0m \u001b[38;5;66;03m# working with other datatype\u001b[39;00m\n\u001b[0;32m      3\u001b[0m \u001b[38;5;28;01mwith\u001b[39;00m \u001b[38;5;28mopen\u001b[39m(\u001b[38;5;124m'\u001b[39m\u001b[38;5;124msample.txt\u001b[39m\u001b[38;5;124m'\u001b[39m,\u001b[38;5;124m'\u001b[39m\u001b[38;5;124mw\u001b[39m\u001b[38;5;124m'\u001b[39m) \u001b[38;5;28;01mas\u001b[39;00m f:\n\u001b[1;32m----> 4\u001b[0m     f\u001b[38;5;241m.\u001b[39mwrite(\u001b[38;5;241m5\u001b[39m)\n",
      "\u001b[1;31mTypeError\u001b[0m: write() argument must be str, not int"
     ]
    }
   ],
   "source": [
    "# working with other datatype\n",
    "\n",
    "with open('sample.txt','w') as f:\n",
    "    f.write(5) # not able to write int can able to enter string alone"
   ]
  },
  {
   "cell_type": "code",
   "execution_count": 17,
   "metadata": {},
   "outputs": [],
   "source": [
    "# working with other datatype\n",
    "\n",
    "with open('files/sample.txt','w') as f:\n",
    "    f.write('5') # not able to write int can able to enter string alone"
   ]
  },
  {
   "cell_type": "code",
   "execution_count": 18,
   "metadata": {},
   "outputs": [
    {
     "ename": "TypeError",
     "evalue": "write() argument must be str, not dict",
     "output_type": "error",
     "traceback": [
      "\u001b[1;31m---------------------------------------------------------------------------\u001b[0m",
      "\u001b[1;31mTypeError\u001b[0m                                 Traceback (most recent call last)",
      "Cell \u001b[1;32mIn[18], line 9\u001b[0m\n\u001b[0;32m      2\u001b[0m d \u001b[38;5;241m=\u001b[39m {\n\u001b[0;32m      3\u001b[0m     \u001b[38;5;124m'\u001b[39m\u001b[38;5;124mname\u001b[39m\u001b[38;5;124m'\u001b[39m:\u001b[38;5;124m'\u001b[39m\u001b[38;5;124mBappy\u001b[39m\u001b[38;5;124m'\u001b[39m,\n\u001b[0;32m      4\u001b[0m      \u001b[38;5;124m'\u001b[39m\u001b[38;5;124mage\u001b[39m\u001b[38;5;124m'\u001b[39m:\u001b[38;5;241m23\u001b[39m,\n\u001b[0;32m      5\u001b[0m      \u001b[38;5;124m'\u001b[39m\u001b[38;5;124mgender\u001b[39m\u001b[38;5;124m'\u001b[39m:\u001b[38;5;124m'\u001b[39m\u001b[38;5;124mmale\u001b[39m\u001b[38;5;124m'\u001b[39m\n\u001b[0;32m      6\u001b[0m }\n\u001b[0;32m      8\u001b[0m \u001b[38;5;28;01mwith\u001b[39;00m \u001b[38;5;28mopen\u001b[39m(\u001b[38;5;124m'\u001b[39m\u001b[38;5;124mfiles/sample1.txt\u001b[39m\u001b[38;5;124m'\u001b[39m,\u001b[38;5;124m'\u001b[39m\u001b[38;5;124mw\u001b[39m\u001b[38;5;124m'\u001b[39m) \u001b[38;5;28;01mas\u001b[39;00m f:\n\u001b[1;32m----> 9\u001b[0m   f\u001b[38;5;241m.\u001b[39mwrite(d)\n",
      "\u001b[1;31mTypeError\u001b[0m: write() argument must be str, not dict"
     ]
    }
   ],
   "source": [
    "\n",
    "# more complex data\n",
    "d = {\n",
    "    'name':'Bappy',\n",
    "     'age':23,\n",
    "     'gender':'male'\n",
    "}\n",
    "\n",
    "with open('files/sample1.txt','w') as f:\n",
    "  f.write(d)"
   ]
  },
  {
   "cell_type": "code",
   "execution_count": 19,
   "metadata": {},
   "outputs": [],
   "source": [
    "\n",
    "# more complex data\n",
    "d = {\n",
    "    'name':'Malavika',\n",
    "     'age':26,\n",
    "     'gender':'Female'\n",
    "}\n",
    "\n",
    "with open('files/sample1.txt','w') as f:\n",
    "  f.write(str(d))"
   ]
  },
  {
   "cell_type": "code",
   "execution_count": 20,
   "metadata": {},
   "outputs": [
    {
     "name": "stdout",
     "output_type": "stream",
     "text": [
      "{'name': 'Malavika', 'age': 26, 'gender': 'Female'}\n",
      "<class 'str'>\n"
     ]
    }
   ],
   "source": [
    "with open('files/sample1.txt','r') as f:\n",
    "  s = f.read()\n",
    "  print(s)\n",
    "  print(type(s))"
   ]
  },
  {
   "cell_type": "code",
   "execution_count": 15,
   "metadata": {},
   "outputs": [
    {
     "ename": "ValueError",
     "evalue": "dictionary update sequence element #0 has length 1; 2 is required",
     "output_type": "error",
     "traceback": [
      "\u001b[1;31m---------------------------------------------------------------------------\u001b[0m",
      "\u001b[1;31mValueError\u001b[0m                                Traceback (most recent call last)",
      "Cell \u001b[1;32mIn[15], line 3\u001b[0m\n\u001b[0;32m      1\u001b[0m \u001b[38;5;28;01mwith\u001b[39;00m \u001b[38;5;28mopen\u001b[39m(\u001b[38;5;124m'\u001b[39m\u001b[38;5;124mfiles/sample1.txt\u001b[39m\u001b[38;5;124m'\u001b[39m,\u001b[38;5;124m'\u001b[39m\u001b[38;5;124mr\u001b[39m\u001b[38;5;124m'\u001b[39m) \u001b[38;5;28;01mas\u001b[39;00m f:\n\u001b[0;32m      2\u001b[0m   s \u001b[38;5;241m=\u001b[39m f\u001b[38;5;241m.\u001b[39mread()\n\u001b[1;32m----> 3\u001b[0m   \u001b[38;5;28mprint\u001b[39m(\u001b[38;5;28mdict\u001b[39m(s))\n",
      "\u001b[1;31mValueError\u001b[0m: dictionary update sequence element #0 has length 1; 2 is required"
     ]
    }
   ],
   "source": [
    "with open('files/sample1.txt','r') as f:\n",
    "  s = f.read()\n",
    "  print(dict(s))"
   ]
  },
  {
   "cell_type": "code",
   "execution_count": null,
   "metadata": {},
   "outputs": [],
   "source": []
  }
 ],
 "metadata": {
  "kernelspec": {
   "display_name": "base",
   "language": "python",
   "name": "python3"
  },
  "language_info": {
   "codemirror_mode": {
    "name": "ipython",
    "version": 3
   },
   "file_extension": ".py",
   "mimetype": "text/x-python",
   "name": "python",
   "nbconvert_exporter": "python",
   "pygments_lexer": "ipython3",
   "version": "3.12.4"
  }
 },
 "nbformat": 4,
 "nbformat_minor": 2
}
