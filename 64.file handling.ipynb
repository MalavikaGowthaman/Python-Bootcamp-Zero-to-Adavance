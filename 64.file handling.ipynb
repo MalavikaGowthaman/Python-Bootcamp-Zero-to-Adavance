{
 "cells": [
  {
   "cell_type": "markdown",
   "metadata": {},
   "source": [
    "### File Handling in Python\n",
    "\n",
    "Types of data used for I/O:\n",
    "\n",
    "- Text - '12345' as a sequence of unicode chars\n",
    "- Binary - 12345 as a sequence of bytes of its \n",
    "binary equivalent\n",
    "\n",
    "Hence there are 2 file types to deal with\n",
    "\n",
    "- Text files - All program files are text files\n",
    "- Binary Files - Images,music,video,exe files\n",
    "\n",
    "How File I/O is done in most programming languages\n",
    "\n",
    "- Open a file\n",
    "- Read/Write data\n",
    "- Close the file"
   ]
  },
  {
   "cell_type": "markdown",
   "metadata": {},
   "source": [
    "### Writing to a file"
   ]
  },
  {
   "cell_type": "code",
   "execution_count": 3,
   "metadata": {},
   "outputs": [],
   "source": [
    "# if file is not present\n",
    "f = open(\"files/sample1.txt\",\"w\")"
   ]
  },
  {
   "cell_type": "code",
   "execution_count": 4,
   "metadata": {},
   "outputs": [],
   "source": [
    "f = open(\"files/sample.txt\",\"w\")\n",
    "f.write(\"Hello World\")\n",
    "f.close()"
   ]
  },
  {
   "cell_type": "code",
   "execution_count": 7,
   "metadata": {},
   "outputs": [],
   "source": [
    "f = open(\"files/sample.txt\",\"w\")\n",
    "f.write(\"Hello World\")\n",
    "f.write(\"How are you?\") # this will come next to the word need next line so /n needed\n",
    "f.close()"
   ]
  },
  {
   "cell_type": "code",
   "execution_count": 15,
   "metadata": {},
   "outputs": [],
   "source": [
    "f = open(\"files/sample.txt\",\"w\")\n",
    "f.write(\"Hello World\")\n",
    "f.write(\"\\nHow are you?\") # this will come next to the word need next line so /n needed\n",
    "f.close()"
   ]
  },
  {
   "cell_type": "code",
   "execution_count": 13,
   "metadata": {},
   "outputs": [],
   "source": [
    "# write multiline strings\n",
    "f = open('files/sample1.txt','w')\n",
    "f.write('hello world')\n",
    "f.write('\\nhow are you?')\n",
    "f.close()"
   ]
  },
  {
   "cell_type": "code",
   "execution_count": 18,
   "metadata": {},
   "outputs": [],
   "source": [
    "# if file already present to rewrite\n",
    "# write multiline strings\n",
    "f = open('files/sample1.txt','w')\n",
    "f.write('My name is Malavika')\n",
    "f.write('\\nI am 26 years old')\n",
    "f.close() # here the file gets rewrite if u want the old and need to add new txt need to use append 'a'"
   ]
  },
  {
   "cell_type": "code",
   "execution_count": 20,
   "metadata": {},
   "outputs": [],
   "source": [
    "f = open('files/sample.txt','a')\n",
    "f.write('\\nWe are back to form')\n",
    "f.close()"
   ]
  },
  {
   "cell_type": "code",
   "execution_count": 23,
   "metadata": {},
   "outputs": [],
   "source": [
    "# write lines\n",
    "L = ['hello\\n','hi\\n','how are you\\n','I am fine']\n",
    "\n",
    "f = open('files/sample1.txt','w')\n",
    "f.writelines(L)\n",
    "f.close()"
   ]
  },
  {
   "cell_type": "code",
   "execution_count": 24,
   "metadata": {},
   "outputs": [],
   "source": [
    "# to write a lines of code\n",
    "\n",
    "lines = [\"Python is an interpreted, interactive, object-oriented programming language.\" \"\\nIt incorporates modules, exceptions, dynamic typing, very high level dynamic data types, and classes.\" \"\\nIt supports multiple programming paradigms beyond object-oriented programming, such as procedural and functional programming.\"]\n",
    "f = open('files/sample.txt','w')\n",
    "f.writelines(lines)\n",
    "f.close()"
   ]
  },
  {
   "cell_type": "markdown",
   "metadata": {},
   "source": [
    "### To read from files"
   ]
  },
  {
   "cell_type": "code",
   "execution_count": 25,
   "metadata": {},
   "outputs": [
    {
     "name": "stdout",
     "output_type": "stream",
     "text": [
      "Python is an interpreted, interactive, object-oriented programming language.\n",
      "It incorporates modules, exceptions, dynamic typing, very high level dynamic data types, and classes.\n",
      "It supports multiple programming paradigms beyond object-oriented programming, such as procedural and functional programming.\n"
     ]
    }
   ],
   "source": [
    "f = open('files/sample.txt','r')\n",
    "s = f.read()\n",
    "print(s)\n",
    "f.close()"
   ]
  },
  {
   "cell_type": "code",
   "execution_count": 26,
   "metadata": {},
   "outputs": [
    {
     "name": "stdout",
     "output_type": "stream",
     "text": [
      "hello\n",
      "hi\n",
      "how are you\n",
      "I am fine\n"
     ]
    }
   ],
   "source": [
    "f = open('files/sample1.txt','r')\n",
    "s = f.read()\n",
    "print(s)\n",
    "f.close()"
   ]
  },
  {
   "cell_type": "code",
   "execution_count": 27,
   "metadata": {},
   "outputs": [
    {
     "name": "stdout",
     "output_type": "stream",
     "text": [
      "hello\n",
      "hi\n",
      "h\n"
     ]
    }
   ],
   "source": [
    "f = open('files/sample1.txt','r')\n",
    "s = f.read(10) # no of characters\n",
    "print(s)\n",
    "f.close()"
   ]
  },
  {
   "cell_type": "code",
   "execution_count": 28,
   "metadata": {},
   "outputs": [
    {
     "name": "stdout",
     "output_type": "stream",
     "text": [
      "hello\n",
      "hi\n"
     ]
    }
   ],
   "source": [
    "# readline() - to read line by line\n",
    "f = open('files/sample1.txt','r')\n",
    "print(f.readline(),end ='')\n",
    "print(f.readline(),end ='')\n",
    "f.close()\n"
   ]
  },
  {
   "cell_type": "code",
   "execution_count": 30,
   "metadata": {},
   "outputs": [
    {
     "name": "stdout",
     "output_type": "stream",
     "text": [
      "hello\n",
      "hi\n",
      "how are you\n",
      "I am fine"
     ]
    }
   ],
   "source": [
    "# to read all the lines from the txt file\n",
    "f = open('files/sample1.txt','r')\n",
    "\n",
    "while True: \n",
    "    line = f.readline()\n",
    "    \n",
    "    if line == '':\n",
    "        break\n",
    "    else:\n",
    "        print(line,end='')\n",
    "f.close()\n"
   ]
  },
  {
   "cell_type": "code",
   "execution_count": null,
   "metadata": {},
   "outputs": [],
   "source": []
  }
 ],
 "metadata": {
  "kernelspec": {
   "display_name": "base",
   "language": "python",
   "name": "python3"
  },
  "language_info": {
   "codemirror_mode": {
    "name": "ipython",
    "version": 3
   },
   "file_extension": ".py",
   "mimetype": "text/x-python",
   "name": "python",
   "nbconvert_exporter": "python",
   "pygments_lexer": "ipython3",
   "version": "3.12.4"
  }
 },
 "nbformat": 4,
 "nbformat_minor": 2
}
