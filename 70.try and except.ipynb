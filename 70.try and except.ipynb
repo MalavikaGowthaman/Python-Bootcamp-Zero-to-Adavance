{
 "cells": [
  {
   "cell_type": "markdown",
   "metadata": {},
   "source": [
    "### Different types of Exception Handling\n"
   ]
  },
  {
   "cell_type": "code",
   "execution_count": 1,
   "metadata": {},
   "outputs": [
    {
     "name": "stdout",
     "output_type": "stream",
     "text": [
      "hello world\n"
     ]
    }
   ],
   "source": [
    "# let's read a file\n",
    "\n",
    "try:\n",
    "    with open('files/sample.txt','r') as f:\n",
    "        print(f.read())\n",
    "        \n",
    "except FileNotFoundError:\n",
    "    print(\"File not found\")"
   ]
  },
  {
   "cell_type": "code",
   "execution_count": 2,
   "metadata": {},
   "outputs": [
    {
     "name": "stdout",
     "output_type": "stream",
     "text": [
      "File not found\n"
     ]
    }
   ],
   "source": [
    "# let's read a file\n",
    "\n",
    "try:\n",
    "    with open('files/sample10.txt','r') as f:\n",
    "        print(f.read())\n",
    "        \n",
    "except FileNotFoundError:\n",
    "    print(\"File not found\")"
   ]
  },
  {
   "cell_type": "code",
   "execution_count": 3,
   "metadata": {},
   "outputs": [
    {
     "name": "stdout",
     "output_type": "stream",
     "text": [
      "Variable not defined\n"
     ]
    }
   ],
   "source": [
    "# let's read a file\n",
    "\n",
    "try:\n",
    "    a = 10\n",
    "    b = 30\n",
    "    print(a+n)\n",
    "        \n",
    "except NameError:\n",
    "    print(\"Variable not defined\")"
   ]
  },
  {
   "cell_type": "code",
   "execution_count": 4,
   "metadata": {},
   "outputs": [
    {
     "name": "stdout",
     "output_type": "stream",
     "text": [
      "40\n"
     ]
    }
   ],
   "source": [
    "# let's read a file\n",
    "\n",
    "try:\n",
    "    a = 10\n",
    "    b = 30\n",
    "    print(a+b)\n",
    "        \n",
    "except NameError:\n",
    "    print(\"Variable not defined\")"
   ]
  },
  {
   "cell_type": "code",
   "execution_count": 5,
   "metadata": {},
   "outputs": [
    {
     "name": "stdout",
     "output_type": "stream",
     "text": [
      "Index not found\n"
     ]
    }
   ],
   "source": [
    "# let's read a file\n",
    "\n",
    "try:\n",
    "    L = [1,2,3,4,5,6,7]\n",
    "    L[100]   \n",
    "         \n",
    "except IndexError:\n",
    "    print(\"Index not found\")"
   ]
  },
  {
   "cell_type": "code",
   "execution_count": 8,
   "metadata": {},
   "outputs": [
    {
     "name": "stdout",
     "output_type": "stream",
     "text": [
      "3\n"
     ]
    }
   ],
   "source": [
    "# let's read a file\n",
    "\n",
    "try:\n",
    "    L = [1,2,3,4,5,6,7]\n",
    "    r = L[2] \n",
    "    print(r)  \n",
    "         \n",
    "except IndexError:\n",
    "    print(\"Index not found\")"
   ]
  },
  {
   "cell_type": "code",
   "execution_count": 9,
   "metadata": {},
   "outputs": [
    {
     "name": "stdout",
     "output_type": "stream",
     "text": [
      "unsupported operand type(s) for /: 'int' and 'str'\n"
     ]
    }
   ],
   "source": [
    "# let's read a file\n",
    "\n",
    "try:\n",
    "    100/'t'\n",
    "         \n",
    "except Exception as e:\n",
    "    print(e)"
   ]
  },
  {
   "cell_type": "code",
   "execution_count": 11,
   "metadata": {},
   "outputs": [
    {
     "name": "stdout",
     "output_type": "stream",
     "text": [
      "{'name': 'Malavika', 'age': 26, 'gender': 'Female'}\n",
      "13\n",
      "list index out of range\n"
     ]
    }
   ],
   "source": [
    "# let's read a file\n",
    "\n",
    "try:\n",
    "    with open('files/sample1.txt','r') as f:\n",
    "        print(f.read())\n",
    "        \n",
    "        a = 10\n",
    "        b = 3\n",
    "        print(a+b)\n",
    "        \n",
    "        l = [1,2,3,4,5]\n",
    "        r = l[8]\n",
    "        print(r)\n",
    "        \n",
    "        0/I\n",
    "        \n",
    "        \n",
    "except Exception as e:\n",
    "    print(e)"
   ]
  },
  {
   "cell_type": "code",
   "execution_count": 12,
   "metadata": {},
   "outputs": [
    {
     "name": "stdout",
     "output_type": "stream",
     "text": [
      "hello world\n",
      "8\n",
      "unsupported operand type(s) for /: 'int' and 'str'\n"
     ]
    }
   ],
   "source": [
    "# let's read a file\n",
    "try:\n",
    "    with open('files/sample.txt','r') as f:\n",
    "        print(f.read())\n",
    "\n",
    "        a = 4\n",
    "        b = 4\n",
    "        print(a+b)\n",
    "\n",
    "        # L=[1,2,3,4,5,6,7,8,9]\n",
    "        # L[100]\n",
    "\n",
    "        0/\"K\"\n",
    "\n",
    "except FileNotFoundError:\n",
    "    print(\"File not found\")\n",
    "\n",
    "except NameError:\n",
    "    print(\"variable not defined\")\n",
    "\n",
    "except IndexError:\n",
    "    print(\"Index not found\")\n",
    "\n",
    "\n",
    "except Exception as e:\n",
    "    print(e)"
   ]
  },
  {
   "cell_type": "code",
   "execution_count": null,
   "metadata": {},
   "outputs": [],
   "source": []
  }
 ],
 "metadata": {
  "kernelspec": {
   "display_name": "base",
   "language": "python",
   "name": "python3"
  },
  "language_info": {
   "codemirror_mode": {
    "name": "ipython",
    "version": 3
   },
   "file_extension": ".py",
   "mimetype": "text/x-python",
   "name": "python",
   "nbconvert_exporter": "python",
   "pygments_lexer": "ipython3",
   "version": "3.12.4"
  }
 },
 "nbformat": 4,
 "nbformat_minor": 2
}
