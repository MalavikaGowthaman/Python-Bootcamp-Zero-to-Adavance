{
 "cells": [
  {
   "cell_type": "code",
   "execution_count": 2,
   "metadata": {},
   "outputs": [
    {
     "name": "stdout",
     "output_type": "stream",
     "text": [
      "['big.txt', 'download.png', 'download_copy.png', 'function.pkl', 'sample.txt', 'sample1.txt', 'test.json']\n"
     ]
    }
   ],
   "source": [
    "import os\n",
    "import shutil\n",
    "\n",
    "path = input(\"Enter the path: \")\n",
    "\n",
    "files = os.listdir(path)\n",
    "print(files)"
   ]
  },
  {
   "cell_type": "code",
   "execution_count": 5,
   "metadata": {},
   "outputs": [
    {
     "name": "stdout",
     "output_type": "stream",
     "text": [
      ".txt\n",
      ".png\n",
      ".png\n",
      ".pkl\n",
      ".txt\n",
      ".txt\n",
      ".json\n"
     ]
    }
   ],
   "source": [
    "import os\n",
    "import shutil\n",
    "\n",
    "path = input(\"Enter the path: \")\n",
    "\n",
    "files = os.listdir(path)\n",
    "# print(files)\n",
    "\n",
    "\n",
    "for file in files:\n",
    "    filename, extension = os.path.splitext(file)\n",
    "    # print(filename)\n",
    "    print(extension)    "
   ]
  },
  {
   "cell_type": "code",
   "execution_count": 7,
   "metadata": {},
   "outputs": [
    {
     "name": "stdout",
     "output_type": "stream",
     "text": [
      "txt\n",
      "png\n",
      "png\n",
      "pkl\n",
      "txt\n",
      "txt\n",
      "json\n"
     ]
    }
   ],
   "source": [
    "import os\n",
    "import shutil\n",
    "\n",
    "path = input(\"Enter the path: \")\n",
    "\n",
    "files = os.listdir(path)\n",
    "# print(files)\n",
    "\n",
    "\n",
    "for file in files:\n",
    "    filename, extension = os.path.splitext(file)\n",
    "    # print(filename)\n",
    "    print(extension[1:])   "
   ]
  },
  {
   "cell_type": "code",
   "execution_count": 10,
   "metadata": {},
   "outputs": [
    {
     "name": "stdout",
     "output_type": "stream",
     "text": [
      "D:\\HOPE\\Python\\Python-Zero-to-Advance\\files/txt\n",
      "D:\\HOPE\\Python\\Python-Zero-to-Advance\\files/png\n",
      "D:\\HOPE\\Python\\Python-Zero-to-Advance\\files/png\n",
      "D:\\HOPE\\Python\\Python-Zero-to-Advance\\files/pkl\n",
      "D:\\HOPE\\Python\\Python-Zero-to-Advance\\files/txt\n",
      "D:\\HOPE\\Python\\Python-Zero-to-Advance\\files/txt\n",
      "D:\\HOPE\\Python\\Python-Zero-to-Advance\\files/json\n"
     ]
    }
   ],
   "source": [
    "import os\n",
    "import shutil\n",
    "\n",
    "path = input(\"Enter the path: \")\n",
    "\n",
    "files = os.listdir(path)\n",
    "# print(files)\n",
    "\n",
    "\n",
    "for file in files:\n",
    "    filename, extension = os.path.splitext(file)\n",
    "    # print(filename)\n",
    "    # print(extension[1:])   \n",
    "    \n",
    "    extension = extension[1:]\n",
    "    # if os.path.exists(path+\"/\"+extension):\n",
    "    print(path+\"/\"+extension)"
   ]
  },
  {
   "cell_type": "code",
   "execution_count": 14,
   "metadata": {},
   "outputs": [],
   "source": [
    "import os\n",
    "import shutil\n",
    "\n",
    "path = input(\"Enter the path: \")\n",
    "\n",
    "files = os.listdir(path)\n",
    "# print(files)\n",
    "\n",
    "\n",
    "for file in files:\n",
    "    filename, extension = os.path.splitext(file)\n",
    "    # print(filename)\n",
    "    # print(extension[1:])   \n",
    "    \n",
    "    extension = extension[1:]\n",
    "    if os.path.exists(path+\"/\"+extension):\n",
    "    # print(path+\"/\"+extension)\n",
    "        shutil.move(path+\"/\"+file,path+\"/\"+extension+\"/\"+file)\n",
    "    else:\n",
    "        os.makedirs(path+\"/\"+extension)\n",
    "        shutil.move(path+\"/\"+file,path+\"/\"+extension+\"/\"+file)\n",
    "        "
   ]
  },
  {
   "cell_type": "code",
   "execution_count": null,
   "metadata": {},
   "outputs": [],
   "source": []
  }
 ],
 "metadata": {
  "kernelspec": {
   "display_name": "base",
   "language": "python",
   "name": "python3"
  },
  "language_info": {
   "codemirror_mode": {
    "name": "ipython",
    "version": 3
   },
   "file_extension": ".py",
   "mimetype": "text/x-python",
   "name": "python",
   "nbconvert_exporter": "python",
   "pygments_lexer": "ipython3",
   "version": "3.12.4"
  }
 },
 "nbformat": 4,
 "nbformat_minor": 2
}
