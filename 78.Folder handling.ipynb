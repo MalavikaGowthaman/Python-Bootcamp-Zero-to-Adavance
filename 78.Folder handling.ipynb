{
 "cells": [
  {
   "cell_type": "code",
   "execution_count": 2,
   "metadata": {},
   "outputs": [
    {
     "name": "stdout",
     "output_type": "stream",
     "text": [
      "['big.txt', 'download.png', 'download_copy.png', 'function.pkl', 'sample.txt', 'sample1.txt', 'test.json']\n"
     ]
    }
   ],
   "source": [
    "import os\n",
    "import shutil\n",
    "\n",
    "path = input(\"Enter the path: \")\n",
    "\n",
    "files = os.listdir(path)\n",
    "print(files)"
   ]
  },
  {
   "cell_type": "code",
   "execution_count": 5,
   "metadata": {},
   "outputs": [
    {
     "name": "stdout",
     "output_type": "stream",
     "text": [
      ".txt\n",
      ".png\n",
      ".png\n",
      ".pkl\n",
      ".txt\n",
      ".txt\n",
      ".json\n"
     ]
    }
   ],
   "source": [
    "import os\n",
    "import shutil\n",
    "\n",
    "path = input(\"Enter the path: \")\n",
    "\n",
    "files = os.listdir(path)\n",
    "# print(files)\n",
    "\n",
    "\n",
    "for file in files:\n",
    "    filename, extension = os.path.splitext(file)\n",
    "    # print(filename)\n",
    "    print(extension)    "
   ]
  },
  {
   "cell_type": "code",
   "execution_count": 7,
   "metadata": {},
   "outputs": [
    {
     "name": "stdout",
     "output_type": "stream",
     "text": [
      "txt\n",
      "png\n",
      "png\n",
      "pkl\n",
      "txt\n",
      "txt\n",
      "json\n"
     ]
    }
   ],
   "source": [
    "import os\n",
    "import shutil\n",
    "\n",
    "path = input(\"Enter the path: \")\n",
    "\n",
    "files = os.listdir(path)\n",
    "# print(files)\n",
    "\n",
    "\n",
    "for file in files:\n",
    "    filename, extension = os.path.splitext(file)\n",
    "    # print(filename)\n",
    "    print(extension[1:])   "
   ]
  },
  {
   "cell_type": "code",
   "execution_count": 10,
   "metadata": {},
   "outputs": [
    {
     "name": "stdout",
     "output_type": "stream",
     "text": [
      "D:\\HOPE\\Python\\Python-Zero-to-Advance\\files/txt\n",
      "D:\\HOPE\\Python\\Python-Zero-to-Advance\\files/png\n",
      "D:\\HOPE\\Python\\Python-Zero-to-Advance\\files/png\n",
      "D:\\HOPE\\Python\\Python-Zero-to-Advance\\files/pkl\n",
      "D:\\HOPE\\Python\\Python-Zero-to-Advance\\files/txt\n",
      "D:\\HOPE\\Python\\Python-Zero-to-Advance\\files/txt\n",
      "D:\\HOPE\\Python\\Python-Zero-to-Advance\\files/json\n"
     ]
    }
   ],
   "source": [
    "import os\n",
    "import shutil\n",
    "\n",
    "path = input(\"Enter the path: \")\n",
    "\n",
    "files = os.listdir(path)\n",
    "# print(files)\n",
    "\n",
    "\n",
    "for file in files:\n",
    "    filename, extension = os.path.splitext(file)\n",
    "    # print(filename)\n",
    "    # print(extension[1:])   \n",
    "    \n",
    "    extension = extension[1:]\n",
    "    # if os.path.exists(path+\"/\"+extension):\n",
    "    print(path+\"/\"+extension)"
   ]
  },
  {
   "cell_type": "code",
   "execution_count": 13,
   "metadata": {},
   "outputs": [
    {
     "ename": "TypeError",
     "evalue": "'str' object cannot be interpreted as an integer",
     "output_type": "error",
     "traceback": [
      "\u001b[1;31m---------------------------------------------------------------------------\u001b[0m",
      "\u001b[1;31mTypeError\u001b[0m                                 Traceback (most recent call last)",
      "Cell \u001b[1;32mIn[13], line 20\u001b[0m\n\u001b[0;32m     18\u001b[0m     shutil\u001b[38;5;241m.\u001b[39mmove(path\u001b[38;5;241m+\u001b[39m\u001b[38;5;124m\"\u001b[39m\u001b[38;5;124m/\u001b[39m\u001b[38;5;124m\"\u001b[39m\u001b[38;5;241m+\u001b[39mfile,path\u001b[38;5;241m+\u001b[39m\u001b[38;5;124m\"\u001b[39m\u001b[38;5;124m/\u001b[39m\u001b[38;5;124m\"\u001b[39m\u001b[38;5;241m+\u001b[39mextension\u001b[38;5;241m+\u001b[39m\u001b[38;5;124m\"\u001b[39m\u001b[38;5;124m/\u001b[39m\u001b[38;5;124m\"\u001b[39m\u001b[38;5;241m+\u001b[39mfile)\n\u001b[0;32m     19\u001b[0m \u001b[38;5;28;01melse\u001b[39;00m:\n\u001b[1;32m---> 20\u001b[0m     os\u001b[38;5;241m.\u001b[39mmakedirs(path\u001b[38;5;241m+\u001b[39m\u001b[38;5;124m\"\u001b[39m\u001b[38;5;124m/\u001b[39m\u001b[38;5;124m\"\u001b[39m\u001b[38;5;241m+\u001b[39mfile,path\u001b[38;5;241m+\u001b[39m\u001b[38;5;124m\"\u001b[39m\u001b[38;5;124m/\u001b[39m\u001b[38;5;124m\"\u001b[39m\u001b[38;5;241m+\u001b[39mextension\u001b[38;5;241m+\u001b[39m\u001b[38;5;124m\"\u001b[39m\u001b[38;5;124m/\u001b[39m\u001b[38;5;124m\"\u001b[39m\u001b[38;5;241m+\u001b[39mfile)\n\u001b[0;32m     21\u001b[0m     shutil\u001b[38;5;241m.\u001b[39mmove(path\u001b[38;5;241m+\u001b[39m\u001b[38;5;124m\"\u001b[39m\u001b[38;5;124m/\u001b[39m\u001b[38;5;124m\"\u001b[39m\u001b[38;5;241m+\u001b[39mfile,path\u001b[38;5;241m+\u001b[39m\u001b[38;5;124m\"\u001b[39m\u001b[38;5;124m/\u001b[39m\u001b[38;5;124m\"\u001b[39m\u001b[38;5;241m+\u001b[39mextension\u001b[38;5;241m+\u001b[39m\u001b[38;5;124m\"\u001b[39m\u001b[38;5;124m/\u001b[39m\u001b[38;5;124m\"\u001b[39m\u001b[38;5;241m+\u001b[39mfile)\n",
      "File \u001b[1;32m<frozen os>:225\u001b[0m, in \u001b[0;36mmakedirs\u001b[1;34m(name, mode, exist_ok)\u001b[0m\n",
      "\u001b[1;31mTypeError\u001b[0m: 'str' object cannot be interpreted as an integer"
     ]
    }
   ],
   "source": [
    "import os\n",
    "import shutil\n",
    "\n",
    "path = input(\"Enter the path: \")\n",
    "\n",
    "files = os.listdir(path)\n",
    "# print(files)\n",
    "\n",
    "\n",
    "for file in files:\n",
    "    filename, extension = os.path.splitext(file)\n",
    "    # print(filename)\n",
    "    # print(extension[1:])   \n",
    "    \n",
    "    extension = extension[1:]\n",
    "    if os.path.exists(path+\"/\"+extension):\n",
    "    # print(path+\"/\"+extension)\n",
    "        shutil.move(path+\"/\"+file,path+\"/\"+extension+\"/\"+file)\n",
    "    else:\n",
    "        os.makedirs(path+\"/\"+extension)\n",
    "        shutil.move(path+\"/\"+file,path+\"/\"+extension+\"/\"+file)\n",
    "        "
   ]
  },
  {
   "cell_type": "code",
   "execution_count": null,
   "metadata": {},
   "outputs": [],
   "source": []
  }
 ],
 "metadata": {
  "kernelspec": {
   "display_name": "base",
   "language": "python",
   "name": "python3"
  },
  "language_info": {
   "codemirror_mode": {
    "name": "ipython",
    "version": 3
   },
   "file_extension": ".py",
   "mimetype": "text/x-python",
   "name": "python",
   "nbconvert_exporter": "python",
   "pygments_lexer": "ipython3",
   "version": "3.12.4"
  }
 },
 "nbformat": 4,
 "nbformat_minor": 2
}
