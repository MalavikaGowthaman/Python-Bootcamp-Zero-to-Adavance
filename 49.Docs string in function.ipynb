{
 "cells": [
  {
   "cell_type": "code",
   "execution_count": 8,
   "metadata": {},
   "outputs": [],
   "source": [
    "### to give some details about the function\n",
    "\n",
    "def odd_even(num):\n",
    "    \n",
    "    \"\"\" This function will help to get an odd or even number.\n",
    "    Input : Enter an input as number / integer\n",
    "    Output : Odd number/Even number\n",
    "    Created by - Malavika \"\"\"\n",
    "    \n",
    "    if type(num) == int:\n",
    "        if num %2 ==0:\n",
    "            print(f\"The Entered number is {num} and it is an Even number\")\n",
    "        else:\n",
    "            print(f\"The Entered number is {num} and it is an Odd number\")\n",
    "    else:\n",
    "        print('Wrong input')\n"
   ]
  },
  {
   "cell_type": "code",
   "execution_count": 9,
   "metadata": {},
   "outputs": [
    {
     "name": "stdout",
     "output_type": "stream",
     "text": [
      "The Entered number is 90 and it is an Even number\n"
     ]
    }
   ],
   "source": [
    "odd_even(90)"
   ]
  },
  {
   "cell_type": "code",
   "execution_count": 10,
   "metadata": {},
   "outputs": [
    {
     "name": "stdout",
     "output_type": "stream",
     "text": [
      "The Entered number is 67 and it is an Odd number\n"
     ]
    }
   ],
   "source": [
    "odd_even(67)"
   ]
  },
  {
   "cell_type": "code",
   "execution_count": 11,
   "metadata": {},
   "outputs": [
    {
     "name": "stdout",
     "output_type": "stream",
     "text": [
      "Wrong input\n"
     ]
    }
   ],
   "source": [
    "odd_even('Hello')"
   ]
  },
  {
   "cell_type": "code",
   "execution_count": null,
   "metadata": {},
   "outputs": [],
   "source": []
  }
 ],
 "metadata": {
  "kernelspec": {
   "display_name": "base",
   "language": "python",
   "name": "python3"
  },
  "language_info": {
   "codemirror_mode": {
    "name": "ipython",
    "version": 3
   },
   "file_extension": ".py",
   "mimetype": "text/x-python",
   "name": "python",
   "nbconvert_exporter": "python",
   "pygments_lexer": "ipython3",
   "version": "3.12.4"
  }
 },
 "nbformat": 4,
 "nbformat_minor": 2
}
