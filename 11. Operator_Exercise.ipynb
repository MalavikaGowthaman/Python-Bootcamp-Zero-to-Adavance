{
  "nbformat": 4,
  "nbformat_minor": 0,
  "metadata": {
    "colab": {
      "provenance": []
    },
    "kernelspec": {
      "name": "python3",
      "display_name": "Python 3"
    },
    "language_info": {
      "name": "python"
    }
  },
  "cells": [
    {
      "cell_type": "markdown",
      "source": [
        "# **1. Operator Exercise to add three numbers**\n",
        "\n",
        "Steps:\n",
        "\n",
        "1. collect input from user in a single input\n",
        "2. perform using floor and mod operator\n",
        "3. print the result\n",
        "\n",
        "\n"
      ],
      "metadata": {
        "id": "ISXZ47WE3t3V"
      }
    },
    {
      "cell_type": "code",
      "execution_count": 1,
      "metadata": {
        "colab": {
          "base_uri": "https://localhost:8080/"
        },
        "id": "YcfFw8533jKW",
        "outputId": "48e3197c-477d-4959-c7c8-f0249a0b7afe"
      },
      "outputs": [
        {
          "output_type": "stream",
          "name": "stdout",
          "text": [
            "Enter the numbers to add: 789\n",
            "24\n"
          ]
        }
      ],
      "source": [
        "number = int(input(\"Enter the numbers to add: \"))\n",
        "\n",
        "a = number//100 #floor division will return the first number,\n",
        "#the floor division // rounds the result down to the nearest whole number\n",
        "\n",
        "b = number%10 # mod will return the reminder that is last number\n",
        "x = number//10\n",
        "c = x%10\n",
        "print(a+b+c)"
      ]
    },
    {
      "cell_type": "markdown",
      "source": [
        "# **2. Operator Exercise to sub three numbers**\n",
        "\n",
        "Steps:\n",
        "\n",
        "1. collect input from user in a single input\n",
        "2. perform using floor and mod operator\n",
        "3. print the result\n",
        "\n",
        "\n"
      ],
      "metadata": {
        "id": "Ub1d28aR35_B"
      }
    },
    {
      "cell_type": "code",
      "source": [
        "number = int(input('Enter the number: '))\n",
        "\n",
        "a = number//100\n",
        "b = number%10\n",
        "x = number//10\n",
        "c = x%10\n",
        "print(a-b-c)"
      ],
      "metadata": {
        "colab": {
          "base_uri": "https://localhost:8080/"
        },
        "id": "Gqmf2ogL3za6",
        "outputId": "f5c18d16-2bdb-4d0e-93b5-e6588068faa1"
      },
      "execution_count": 8,
      "outputs": [
        {
          "output_type": "stream",
          "name": "stdout",
          "text": [
            "Enter the number: 456\n",
            "-7\n"
          ]
        }
      ]
    },
    {
      "cell_type": "code",
      "source": [
        "a = number//100\n",
        "a"
      ],
      "metadata": {
        "colab": {
          "base_uri": "https://localhost:8080/"
        },
        "id": "40wwqKaK4EwM",
        "outputId": "98c41cee-58f3-439e-ac08-93edce2c031b"
      },
      "execution_count": 4,
      "outputs": [
        {
          "output_type": "execute_result",
          "data": {
            "text/plain": [
              "5"
            ]
          },
          "metadata": {},
          "execution_count": 4
        }
      ]
    },
    {
      "cell_type": "code",
      "source": [
        "b =number%10\n",
        "b"
      ],
      "metadata": {
        "colab": {
          "base_uri": "https://localhost:8080/"
        },
        "id": "O3vXEa7C4K_Q",
        "outputId": "0dd017f3-445a-4e8e-8e05-a3235f67b1c3"
      },
      "execution_count": 5,
      "outputs": [
        {
          "output_type": "execute_result",
          "data": {
            "text/plain": [
              "7"
            ]
          },
          "metadata": {},
          "execution_count": 5
        }
      ]
    },
    {
      "cell_type": "code",
      "source": [
        "x = number//10\n",
        "x"
      ],
      "metadata": {
        "colab": {
          "base_uri": "https://localhost:8080/"
        },
        "id": "fERhnDXN4NkE",
        "outputId": "9ff23119-c2c3-4946-d36f-d7d34d6c060c"
      },
      "execution_count": 6,
      "outputs": [
        {
          "output_type": "execute_result",
          "data": {
            "text/plain": [
              "56"
            ]
          },
          "metadata": {},
          "execution_count": 6
        }
      ]
    },
    {
      "cell_type": "code",
      "source": [
        "c = x%10\n",
        "c"
      ],
      "metadata": {
        "colab": {
          "base_uri": "https://localhost:8080/"
        },
        "id": "nbyNZK0H4QI5",
        "outputId": "b7ad4a37-155a-4667-9d07-c1425d6725e8"
      },
      "execution_count": 7,
      "outputs": [
        {
          "output_type": "execute_result",
          "data": {
            "text/plain": [
              "6"
            ]
          },
          "metadata": {},
          "execution_count": 7
        }
      ]
    },
    {
      "cell_type": "markdown",
      "source": [
        "# **3. Operator Exercise to mul three numbers**\n",
        "\n",
        "Steps:\n",
        "\n",
        "1. collect input from user in a single input\n",
        "2. perform using floor and mod operator\n",
        "3. print the result\n",
        "\n",
        "\n"
      ],
      "metadata": {
        "id": "mdnzNvJM4ejq"
      }
    },
    {
      "cell_type": "code",
      "source": [
        "number = int(input('Enter the number: '))\n",
        "\n",
        "a = number//100\n",
        "b = number%10\n",
        "x = number//10\n",
        "c = x%10\n",
        "print(a*b*c)"
      ],
      "metadata": {
        "colab": {
          "base_uri": "https://localhost:8080/"
        },
        "id": "TYE7mNhw4SrB",
        "outputId": "cb218e3a-4657-49b2-fe71-f7c9aa3ba423"
      },
      "execution_count": 10,
      "outputs": [
        {
          "output_type": "stream",
          "name": "stdout",
          "text": [
            "Enter the number: 234\n",
            "24\n"
          ]
        }
      ]
    },
    {
      "cell_type": "markdown",
      "source": [
        "# **4. Operator Exercise to div three numbers**\n",
        "\n",
        "Steps:\n",
        "\n",
        "1. collect input from user in a single input\n",
        "2. perform using floor and mod operator\n",
        "3. print the result\n",
        "\n",
        "\n"
      ],
      "metadata": {
        "id": "XrenMzUh4sy2"
      }
    },
    {
      "cell_type": "code",
      "source": [
        "number = int(input('Enter the number: '))\n",
        "\n",
        "a = number//100\n",
        "b = number %10\n",
        "x = number//10\n",
        "c = x%10\n",
        "print(a/b/c)"
      ],
      "metadata": {
        "colab": {
          "base_uri": "https://localhost:8080/"
        },
        "id": "t32Gt60q4lSD",
        "outputId": "81f4b728-5a27-4075-fb5d-42bf113373c0"
      },
      "execution_count": 11,
      "outputs": [
        {
          "output_type": "stream",
          "name": "stdout",
          "text": [
            "Enter the number: 334\n",
            "0.25\n"
          ]
        }
      ]
    },
    {
      "cell_type": "code",
      "source": [],
      "metadata": {
        "id": "jnxUWh2s48b2"
      },
      "execution_count": null,
      "outputs": []
    }
  ]
}