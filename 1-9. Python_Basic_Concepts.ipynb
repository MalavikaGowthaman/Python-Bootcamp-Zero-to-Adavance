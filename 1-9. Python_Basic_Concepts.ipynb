{
  "nbformat": 4,
  "nbformat_minor": 0,
  "metadata": {
    "colab": {
      "provenance": []
    },
    "kernelspec": {
      "name": "python3",
      "display_name": "Python 3"
    },
    "language_info": {
      "name": "python"
    }
  },
  "cells": [
    {
      "cell_type": "markdown",
      "source": [
        "### **Topics Covered in this notebook**\n",
        "---\n",
        "#### 1. Print Function\n",
        "#### 2. Data Types\n",
        "#### 3. Variables\n",
        "#### 4. Identifier\n",
        "#### 5. Keywords\n",
        "#### 6. Input\n",
        "#### 7. Simple Python Calculation using Input\n",
        "#### 8. Type Conversion\n",
        "#### 9. Literals"
      ],
      "metadata": {
        "id": "0LrcTDdoX0hp"
      }
    },
    {
      "cell_type": "markdown",
      "source": [
        "# **1 .Print function**"
      ],
      "metadata": {
        "id": "8K5BCrYUShAg"
      }
    },
    {
      "cell_type": "code",
      "execution_count": 1,
      "metadata": {
        "colab": {
          "base_uri": "https://localhost:8080/"
        },
        "id": "3ewbL90LPmnk",
        "outputId": "a62f7ec2-1456-4e80-a3ef-75f10a96464b"
      },
      "outputs": [
        {
          "output_type": "stream",
          "name": "stdout",
          "text": [
            "Hello World\n"
          ]
        }
      ],
      "source": [
        "print('Hello World')"
      ]
    },
    {
      "cell_type": "code",
      "source": [
        "print(\"Hello World\")"
      ],
      "metadata": {
        "colab": {
          "base_uri": "https://localhost:8080/"
        },
        "id": "tZT8ygouQUWN",
        "outputId": "6509fc88-bddc-4e36-87e2-e77c991bc569"
      },
      "execution_count": 2,
      "outputs": [
        {
          "output_type": "stream",
          "name": "stdout",
          "text": [
            "Hello World\n"
          ]
        }
      ]
    },
    {
      "cell_type": "code",
      "source": [
        "print(\"Hello World\")"
      ],
      "metadata": {
        "colab": {
          "base_uri": "https://localhost:8080/"
        },
        "id": "NLz59J26QXqg",
        "outputId": "04b830cd-68be-4075-efd1-f203aa371622"
      },
      "execution_count": 3,
      "outputs": [
        {
          "output_type": "stream",
          "name": "stdout",
          "text": [
            "Hello World\n"
          ]
        }
      ]
    },
    {
      "cell_type": "code",
      "source": [
        "print(True)"
      ],
      "metadata": {
        "colab": {
          "base_uri": "https://localhost:8080/"
        },
        "id": "JNrAxXLUQoU7",
        "outputId": "93c6c8ee-13e9-4403-f136-4ffffb4e38ac"
      },
      "execution_count": 5,
      "outputs": [
        {
          "output_type": "stream",
          "name": "stdout",
          "text": [
            "True\n"
          ]
        }
      ]
    },
    {
      "cell_type": "code",
      "source": [
        "print(\"Hello\",1,2,3,True)"
      ],
      "metadata": {
        "colab": {
          "base_uri": "https://localhost:8080/"
        },
        "id": "J1UlKlU9Rc7B",
        "outputId": "e2f00731-cb14-4454-c9f8-f720a1930a14"
      },
      "execution_count": 6,
      "outputs": [
        {
          "output_type": "stream",
          "name": "stdout",
          "text": [
            "Hello 1 2 3 True\n"
          ]
        }
      ]
    },
    {
      "cell_type": "code",
      "source": [
        "print(\"Hello\", 1, 2, 3, True,sep ='-')"
      ],
      "metadata": {
        "colab": {
          "base_uri": "https://localhost:8080/"
        },
        "id": "YrfJmSVlRgOr",
        "outputId": "0bb5fff2-56ae-48e0-e50d-e482d77f27df"
      },
      "execution_count": 10,
      "outputs": [
        {
          "output_type": "stream",
          "name": "stdout",
          "text": [
            "Hello-1-2-3-True\n"
          ]
        }
      ]
    },
    {
      "cell_type": "code",
      "source": [
        "print(\"Hello\", 1, 2, 3, True,sep ='*')"
      ],
      "metadata": {
        "colab": {
          "base_uri": "https://localhost:8080/"
        },
        "id": "5rUEsRcFRnVS",
        "outputId": "b41edece-50f5-4656-cc7d-c1f95716644b"
      },
      "execution_count": 11,
      "outputs": [
        {
          "output_type": "stream",
          "name": "stdout",
          "text": [
            "Hello*1*2*3*True\n"
          ]
        }
      ]
    },
    {
      "cell_type": "code",
      "source": [
        "print(\"Malavika\")\n",
        "print(\"Gowthaman\")"
      ],
      "metadata": {
        "colab": {
          "base_uri": "https://localhost:8080/"
        },
        "id": "oOpOvJ8sR4bu",
        "outputId": "1fad1211-9080-4985-a93b-0f9704f155f1"
      },
      "execution_count": 12,
      "outputs": [
        {
          "output_type": "stream",
          "name": "stdout",
          "text": [
            "Malavika\n",
            "Gowthaman\n"
          ]
        }
      ]
    },
    {
      "cell_type": "code",
      "source": [
        "print(\"Malavika\", end = '')\n",
        "print(\"Gowthaman\")"
      ],
      "metadata": {
        "colab": {
          "base_uri": "https://localhost:8080/"
        },
        "id": "FTRD9CPESRiQ",
        "outputId": "70b1b331-8f5c-4487-ce66-409631d230c3"
      },
      "execution_count": 14,
      "outputs": [
        {
          "output_type": "stream",
          "name": "stdout",
          "text": [
            "MalavikaGowthaman\n"
          ]
        }
      ]
    },
    {
      "cell_type": "code",
      "source": [
        "print(\"Malavika\", end = ' ')\n",
        "print(\"Gowthaman\")"
      ],
      "metadata": {
        "colab": {
          "base_uri": "https://localhost:8080/"
        },
        "id": "vyLEAlmHSBYg",
        "outputId": "47e14bed-49aa-4bee-c323-98f1984af70a"
      },
      "execution_count": 13,
      "outputs": [
        {
          "output_type": "stream",
          "name": "stdout",
          "text": [
            "Malavika Gowthaman\n"
          ]
        }
      ]
    },
    {
      "cell_type": "markdown",
      "source": [
        "# **2. DataTypes**\n",
        "\n",
        "1. Integer\n",
        "2. Float (decimal)\n",
        "3. Boolean (True/False)\n",
        "4. String (Text)\n",
        "5. Complex\n",
        "6. List\n",
        "7. Tuple\n",
        "8. Sets\n",
        "9. Dictionary\n",
        "\n"
      ],
      "metadata": {
        "id": "1f6ynY_3S1bc"
      }
    },
    {
      "cell_type": "code",
      "source": [
        "# 1. Integer\n",
        "print(7)\n",
        "type(7)"
      ],
      "metadata": {
        "colab": {
          "base_uri": "https://localhost:8080/"
        },
        "id": "rXOJxMwXTdxt",
        "outputId": "91def638-8faf-4939-f055-f23adfdd83ef"
      },
      "execution_count": 16,
      "outputs": [
        {
          "output_type": "stream",
          "name": "stdout",
          "text": [
            "7\n"
          ]
        },
        {
          "output_type": "execute_result",
          "data": {
            "text/plain": [
              "int"
            ]
          },
          "metadata": {},
          "execution_count": 16
        }
      ]
    },
    {
      "cell_type": "code",
      "source": [
        "# 2. Float\n",
        "print(5.6)\n",
        "type(5.6)"
      ],
      "metadata": {
        "colab": {
          "base_uri": "https://localhost:8080/"
        },
        "id": "El0H55G2WvqE",
        "outputId": "bd70fdac-f312-45d9-8eb4-68d7ba7a0e02"
      },
      "execution_count": 18,
      "outputs": [
        {
          "output_type": "stream",
          "name": "stdout",
          "text": [
            "5.6\n"
          ]
        },
        {
          "output_type": "execute_result",
          "data": {
            "text/plain": [
              "float"
            ]
          },
          "metadata": {},
          "execution_count": 18
        }
      ]
    },
    {
      "cell_type": "code",
      "source": [
        "# 3. Boolean\n",
        "print(True)\n",
        "type(True)"
      ],
      "metadata": {
        "colab": {
          "base_uri": "https://localhost:8080/"
        },
        "id": "mED-Jq37W2tI",
        "outputId": "1cfd78a5-9e61-43f2-bbfc-dd783a3c1c75"
      },
      "execution_count": 19,
      "outputs": [
        {
          "output_type": "stream",
          "name": "stdout",
          "text": [
            "True\n"
          ]
        },
        {
          "output_type": "execute_result",
          "data": {
            "text/plain": [
              "bool"
            ]
          },
          "metadata": {},
          "execution_count": 19
        }
      ]
    },
    {
      "cell_type": "code",
      "source": [
        "# 4. String\n",
        "print(\"Hello World\")\n",
        "type(\"Hello World\")"
      ],
      "metadata": {
        "colab": {
          "base_uri": "https://localhost:8080/"
        },
        "id": "AIwjB2-CW_hv",
        "outputId": "48fad628-17ef-40db-d3e6-13b2a55b9121"
      },
      "execution_count": 20,
      "outputs": [
        {
          "output_type": "stream",
          "name": "stdout",
          "text": [
            "Hello World\n"
          ]
        },
        {
          "output_type": "execute_result",
          "data": {
            "text/plain": [
              "str"
            ]
          },
          "metadata": {},
          "execution_count": 20
        }
      ]
    },
    {
      "cell_type": "code",
      "source": [
        "# 5. Complex\n",
        "print(5+6j)\n",
        "type(5+6j)"
      ],
      "metadata": {
        "colab": {
          "base_uri": "https://localhost:8080/"
        },
        "id": "wxEYixy-XDO0",
        "outputId": "7aa43060-3f9a-4cf8-e22b-1cc0e70c9c1b"
      },
      "execution_count": 21,
      "outputs": [
        {
          "output_type": "stream",
          "name": "stdout",
          "text": [
            "(5+6j)\n"
          ]
        },
        {
          "output_type": "execute_result",
          "data": {
            "text/plain": [
              "complex"
            ]
          },
          "metadata": {},
          "execution_count": 21
        }
      ]
    },
    {
      "cell_type": "code",
      "source": [
        "# 6. List\n",
        "print([2,3,4,5])\n",
        "type([2,3,4,5])"
      ],
      "metadata": {
        "colab": {
          "base_uri": "https://localhost:8080/"
        },
        "id": "qKCdDGleXJFO",
        "outputId": "235a0d9a-abce-4ef7-a336-2f873f97f2df"
      },
      "execution_count": 23,
      "outputs": [
        {
          "output_type": "stream",
          "name": "stdout",
          "text": [
            "[2, 3, 4, 5]\n"
          ]
        },
        {
          "output_type": "execute_result",
          "data": {
            "text/plain": [
              "list"
            ]
          },
          "metadata": {},
          "execution_count": 23
        }
      ]
    },
    {
      "cell_type": "code",
      "source": [
        "# 7 . Tuple\n",
        "print((2,3,4,5))\n",
        "type((2,3,4,5))"
      ],
      "metadata": {
        "colab": {
          "base_uri": "https://localhost:8080/"
        },
        "id": "5S5Q6wj6XPvj",
        "outputId": "7f1ba9a5-d81a-4f87-df0f-ab882028bce6"
      },
      "execution_count": 24,
      "outputs": [
        {
          "output_type": "stream",
          "name": "stdout",
          "text": [
            "(2, 3, 4, 5)\n"
          ]
        },
        {
          "output_type": "execute_result",
          "data": {
            "text/plain": [
              "tuple"
            ]
          },
          "metadata": {},
          "execution_count": 24
        }
      ]
    },
    {
      "cell_type": "code",
      "source": [
        "# 8.Sets\n",
        "print({2,3,4,5})\n",
        "type({2,3,4,5})"
      ],
      "metadata": {
        "colab": {
          "base_uri": "https://localhost:8080/"
        },
        "id": "0f5CyM5DXVp6",
        "outputId": "1e85767d-0811-424b-8102-936f9b3a460e"
      },
      "execution_count": 25,
      "outputs": [
        {
          "output_type": "stream",
          "name": "stdout",
          "text": [
            "{2, 3, 4, 5}\n"
          ]
        },
        {
          "output_type": "execute_result",
          "data": {
            "text/plain": [
              "set"
            ]
          },
          "metadata": {},
          "execution_count": 25
        }
      ]
    },
    {
      "cell_type": "code",
      "source": [
        "# 9.Dictionary\n",
        "print({'a':'apple','b':'ball'})\n",
        "type({'a':'apple','b':'ball'})"
      ],
      "metadata": {
        "colab": {
          "base_uri": "https://localhost:8080/"
        },
        "id": "H9rXqRRdXape",
        "outputId": "108ed772-8a1a-45f4-cc3b-ae56aaa53bf6"
      },
      "execution_count": 27,
      "outputs": [
        {
          "output_type": "stream",
          "name": "stdout",
          "text": [
            "{'a': 'apple', 'b': 'ball'}\n"
          ]
        },
        {
          "output_type": "execute_result",
          "data": {
            "text/plain": [
              "dict"
            ]
          },
          "metadata": {},
          "execution_count": 27
        }
      ]
    },
    {
      "cell_type": "markdown",
      "source": [
        "# **3. Variable**\n",
        "*  is a container to store the value\n",
        "\n",
        "* two important things under variable\n",
        "\n",
        "-- Dynamic Binding and Static Binding\n",
        "*   python (Dynamic Binding)\n",
        "*   Other programming language like c,c++,Java (Static Binding)\n",
        "\n",
        "-- Dynamic Typing and Static Typing\n",
        "*   Python (Dynamic Typing) a = 5 no need to mention datatype\n",
        "*   Other programming language like c,c++,Java (Static Typing) int a = 6 need to mention datatype\n"
      ],
      "metadata": {
        "id": "-iwg17i5eRaO"
      }
    },
    {
      "cell_type": "code",
      "source": [
        "a = 100\n",
        "a"
      ],
      "metadata": {
        "colab": {
          "base_uri": "https://localhost:8080/"
        },
        "id": "_gjC2WN8XeR7",
        "outputId": "2f4a7511-7fb6-4437-db91-474cf16ec0ba"
      },
      "execution_count": 29,
      "outputs": [
        {
          "output_type": "execute_result",
          "data": {
            "text/plain": [
              "100"
            ]
          },
          "metadata": {},
          "execution_count": 29
        }
      ]
    },
    {
      "cell_type": "code",
      "source": [
        "a = 10\n",
        "b = 20\n",
        "(print(a))"
      ],
      "metadata": {
        "colab": {
          "base_uri": "https://localhost:8080/"
        },
        "id": "HgytmgYVemtp",
        "outputId": "099a3030-5e7f-4a04-abf6-04c8e0f4b312"
      },
      "execution_count": 30,
      "outputs": [
        {
          "output_type": "stream",
          "name": "stdout",
          "text": [
            "10\n"
          ]
        }
      ]
    },
    {
      "cell_type": "code",
      "source": [
        "a,b,c=1,2,3\n",
        "print(a,b,c)"
      ],
      "metadata": {
        "colab": {
          "base_uri": "https://localhost:8080/"
        },
        "id": "dJwQ0Pl1esjo",
        "outputId": "22ef2071-ede6-445e-face-b5e1c8aae0ae"
      },
      "execution_count": 38,
      "outputs": [
        {
          "output_type": "stream",
          "name": "stdout",
          "text": [
            "1 2 3\n"
          ]
        }
      ]
    },
    {
      "cell_type": "code",
      "source": [
        "# dynamic binding\n",
        "a = 5\n",
        "print(a)\n",
        "a = 'Malu'\n",
        "print(a)\n"
      ],
      "metadata": {
        "colab": {
          "base_uri": "https://localhost:8080/"
        },
        "id": "y_qOrHq4exQ3",
        "outputId": "b4f7b3dd-fe13-408e-9ddd-163e62b6ee7f"
      },
      "execution_count": 40,
      "outputs": [
        {
          "output_type": "stream",
          "name": "stdout",
          "text": [
            "5\n",
            "Malu\n"
          ]
        }
      ]
    },
    {
      "cell_type": "code",
      "source": [
        "# dynamic typing\n",
        "a = 5\n",
        "a\n"
      ],
      "metadata": {
        "colab": {
          "base_uri": "https://localhost:8080/"
        },
        "id": "Xs4lgP1pf8ei",
        "outputId": "3835c4b5-65dc-42f6-f5dd-574b559e2462"
      },
      "execution_count": 46,
      "outputs": [
        {
          "output_type": "execute_result",
          "data": {
            "text/plain": [
              "5"
            ]
          },
          "metadata": {},
          "execution_count": 46
        }
      ]
    },
    {
      "cell_type": "markdown",
      "source": [
        "# **4. Identifiers**\n",
        "\n",
        "-- is a given name to entities\n",
        "\n",
        "-- Have rules in assigning names\n",
        "\n",
        "-- Allowed - a-z,A-z,0-9,_\n",
        "\n",
        "-- Not Allowed - start with number and special character expect _"
      ],
      "metadata": {
        "id": "BvL0C-3XgmBS"
      }
    },
    {
      "cell_type": "code",
      "source": [
        "a = 34\n",
        "name2 = 'Aari'\n",
        "_name = 'Hari'\n",
        "print(a,name2,_name)"
      ],
      "metadata": {
        "colab": {
          "base_uri": "https://localhost:8080/"
        },
        "id": "t98o6tV4gZu5",
        "outputId": "8221910c-bcba-48eb-b45f-b836cf9abb7f"
      },
      "execution_count": 51,
      "outputs": [
        {
          "output_type": "stream",
          "name": "stdout",
          "text": [
            "34 Aari Hari\n"
          ]
        }
      ]
    },
    {
      "cell_type": "code",
      "source": [
        "#Legal variable names:\n",
        "myvar = \"John\"\n",
        "my_var = \"John\"\n",
        "_my_var = \"John\"\n",
        "myVar = \"John\"\n",
        "MYVAR = \"John\"\n",
        "myvar2 = \"John\"\n",
        "\n",
        "# #Illegal variable names:\n",
        "# 2myvar = \"John\"\n",
        "# my-var = \"John\"\n",
        "# my var = \"John\""
      ],
      "metadata": {
        "id": "dq1O3WWHhZo4"
      },
      "execution_count": 53,
      "outputs": []
    },
    {
      "cell_type": "markdown",
      "source": [
        "# **5. Keywords**\n",
        "\n",
        "-- is a reserved words in python\n",
        "-- pre- defined words\n",
        "\n",
        "![resvered.png](data:image/png;base64,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)"
      ],
      "metadata": {
        "id": "rktq0BSpC2Rm"
      }
    },
    {
      "cell_type": "markdown",
      "source": [
        "# **6. Input**\n",
        "\n",
        "-- to get an input from user\n",
        "\n",
        "-- it will consider input as an string, need to convert it to needed datatype as in needed scenario."
      ],
      "metadata": {
        "id": "P2uKRgmiICs7"
      }
    },
    {
      "cell_type": "code",
      "source": [
        "# input\n",
        "name = input()"
      ],
      "metadata": {
        "colab": {
          "base_uri": "https://localhost:8080/"
        },
        "id": "3UV6uD2kikpT",
        "outputId": "533eb838-f61d-4ec9-fd1d-6bf5a8a9c69e"
      },
      "execution_count": 1,
      "outputs": [
        {
          "name": "stdout",
          "output_type": "stream",
          "text": [
            "hari\n"
          ]
        }
      ]
    },
    {
      "cell_type": "code",
      "source": [
        "name = input(\"Enter the name:\")"
      ],
      "metadata": {
        "colab": {
          "base_uri": "https://localhost:8080/"
        },
        "id": "-FfkqPJoIQzy",
        "outputId": "9775bc73-0839-47e2-8a2d-50bbd87c82fa"
      },
      "execution_count": 2,
      "outputs": [
        {
          "name": "stdout",
          "output_type": "stream",
          "text": [
            "Enter the name:Hari\n"
          ]
        }
      ]
    },
    {
      "cell_type": "code",
      "source": [
        "type(name)"
      ],
      "metadata": {
        "colab": {
          "base_uri": "https://localhost:8080/"
        },
        "id": "wxUrK6tsIXA_",
        "outputId": "d4b19c3b-b354-4023-8280-d74e98df2a38"
      },
      "execution_count": 3,
      "outputs": [
        {
          "output_type": "execute_result",
          "data": {
            "text/plain": [
              "str"
            ]
          },
          "metadata": {},
          "execution_count": 3
        }
      ]
    },
    {
      "cell_type": "code",
      "source": [
        "number = input()"
      ],
      "metadata": {
        "colab": {
          "base_uri": "https://localhost:8080/"
        },
        "id": "LEP3InHvIaXF",
        "outputId": "ef53ed2b-ca87-4e4c-fbb0-8f517a693585"
      },
      "execution_count": 5,
      "outputs": [
        {
          "name": "stdout",
          "output_type": "stream",
          "text": [
            "78\n"
          ]
        }
      ]
    },
    {
      "cell_type": "code",
      "source": [
        "type(number)\n",
        "# here type of number is string input will take input as an string"
      ],
      "metadata": {
        "colab": {
          "base_uri": "https://localhost:8080/"
        },
        "id": "5QWva3RBIdek",
        "outputId": "a2f8583e-51aa-4b9d-fe6e-9ff3385a5d38"
      },
      "execution_count": 6,
      "outputs": [
        {
          "output_type": "execute_result",
          "data": {
            "text/plain": [
              "str"
            ]
          },
          "metadata": {},
          "execution_count": 6
        }
      ]
    },
    {
      "cell_type": "code",
      "source": [
        "number = int(input())\n",
        "number2 = float(input())"
      ],
      "metadata": {
        "colab": {
          "base_uri": "https://localhost:8080/"
        },
        "id": "K9-LMQJ6IiH_",
        "outputId": "a44ce780-5bbd-4b26-99bf-0d9ee3000d68"
      },
      "execution_count": 9,
      "outputs": [
        {
          "name": "stdout",
          "output_type": "stream",
          "text": [
            "34\n",
            "45\n"
          ]
        }
      ]
    },
    {
      "cell_type": "code",
      "source": [
        "print('number',type(number))\n",
        "print('number2',type(number2))"
      ],
      "metadata": {
        "colab": {
          "base_uri": "https://localhost:8080/"
        },
        "id": "OfbWvtbiI4XQ",
        "outputId": "71428d6c-eac0-4878-a9b5-4568f7d413dc"
      },
      "execution_count": 11,
      "outputs": [
        {
          "output_type": "stream",
          "name": "stdout",
          "text": [
            "number <class 'int'>\n",
            "number2 <class 'float'>\n"
          ]
        }
      ]
    },
    {
      "cell_type": "markdown",
      "source": [
        "# **7. Simple Python calculator for addition**\n",
        "\n",
        "Steps\n",
        "1. Need to get input from user\n",
        "2. Perform addition for two numbers\n",
        "3. Print the result"
      ],
      "metadata": {
        "id": "L8Os7i-9JPKT"
      }
    },
    {
      "cell_type": "code",
      "source": [
        "# getting input from user\n",
        "num1 = int(input(\"Enter the first number:\"))\n",
        "num2 = int(input(\"Enter the second number\"))\n",
        "\n",
        "# performing addition operation\n",
        "result = num1+num2\n",
        "\n",
        "# printing the result\n",
        "print(\"The Result is here: \", result)"
      ],
      "metadata": {
        "colab": {
          "base_uri": "https://localhost:8080/"
        },
        "id": "5Tbgcf1dI6If",
        "outputId": "28d13d25-e655-4333-b5f4-137f9aab7f71"
      },
      "execution_count": 12,
      "outputs": [
        {
          "output_type": "stream",
          "name": "stdout",
          "text": [
            "Enter the first number:100\n",
            "Enter the second number3\n",
            "The Result is here:  103\n"
          ]
        }
      ]
    },
    {
      "cell_type": "markdown",
      "source": [
        "# **8. Type Conversion**\n",
        "\n",
        "-- usefull to convert the data\n",
        "\n",
        "Two types of Type Conversion\n",
        "\n",
        "1. Explicit -- user need to convert\n",
        "2. Implicit -- python interpretor itself will convert the data\n",
        "\n"
      ],
      "metadata": {
        "id": "7Icffq1NMoXR"
      }
    },
    {
      "cell_type": "code",
      "source": [
        "# Explicit\n",
        "# datatype(data needs to change)\n",
        "\n",
        "number1 = 100\n",
        "number2 = '300'\n",
        "\n",
        "print(number1+number2) # not able to perform number 2 is an string need to convert that to int or float"
      ],
      "metadata": {
        "colab": {
          "base_uri": "https://localhost:8080/",
          "height": 176
        },
        "id": "87zLlmveJ270",
        "outputId": "5db465a2-714f-4565-e4a8-c7a31fc5c8ea"
      },
      "execution_count": 13,
      "outputs": [
        {
          "output_type": "error",
          "ename": "TypeError",
          "evalue": "unsupported operand type(s) for +: 'int' and 'str'",
          "traceback": [
            "\u001b[0;31m---------------------------------------------------------------------------\u001b[0m",
            "\u001b[0;31mTypeError\u001b[0m                                 Traceback (most recent call last)",
            "\u001b[0;32m<ipython-input-13-6b0e715dc0ec>\u001b[0m in \u001b[0;36m<cell line: 7>\u001b[0;34m()\u001b[0m\n\u001b[1;32m      5\u001b[0m \u001b[0mnumber2\u001b[0m \u001b[0;34m=\u001b[0m \u001b[0;34m'300'\u001b[0m\u001b[0;34m\u001b[0m\u001b[0;34m\u001b[0m\u001b[0m\n\u001b[1;32m      6\u001b[0m \u001b[0;34m\u001b[0m\u001b[0m\n\u001b[0;32m----> 7\u001b[0;31m \u001b[0mprint\u001b[0m\u001b[0;34m(\u001b[0m\u001b[0mnumber1\u001b[0m\u001b[0;34m+\u001b[0m\u001b[0mnumber2\u001b[0m\u001b[0;34m)\u001b[0m\u001b[0;34m\u001b[0m\u001b[0;34m\u001b[0m\u001b[0m\n\u001b[0m",
            "\u001b[0;31mTypeError\u001b[0m: unsupported operand type(s) for +: 'int' and 'str'"
          ]
        }
      ]
    },
    {
      "cell_type": "code",
      "source": [
        "number1 = 100\n",
        "number2 = '300'\n",
        "\n",
        "print(number1+int(number2))"
      ],
      "metadata": {
        "colab": {
          "base_uri": "https://localhost:8080/"
        },
        "id": "_GOQVLpHNXeN",
        "outputId": "7da094f5-8b27-49bc-e3b1-94e7bc5d1d60"
      },
      "execution_count": 15,
      "outputs": [
        {
          "output_type": "stream",
          "name": "stdout",
          "text": [
            "400\n"
          ]
        }
      ]
    },
    {
      "cell_type": "code",
      "source": [
        "# implicit\n",
        "\n",
        "a = 100\n",
        "b = 6.7\n",
        "print(a+b) # implicitly the output will get converted to float, as a user we didn't mention anything here."
      ],
      "metadata": {
        "colab": {
          "base_uri": "https://localhost:8080/"
        },
        "id": "G-pcwXEJNhbS",
        "outputId": "99884571-7dec-487c-80fe-ab65b460aefc"
      },
      "execution_count": 16,
      "outputs": [
        {
          "output_type": "stream",
          "name": "stdout",
          "text": [
            "106.7\n"
          ]
        }
      ]
    },
    {
      "cell_type": "markdown",
      "source": [
        "# **9. Literals**\n",
        "\n",
        "-- is a value get store in variable\n",
        "\n",
        "eg-\n",
        "\n",
        "a = 45\n",
        "\n",
        "a -> var\n",
        "\n",
        "= -> operator\n",
        "\n",
        "45-> literals\n",
        "\n",
        "Literals\n",
        "1. Binary literal\n",
        "2. Decimal Literal\n",
        "3. Octal Literal\n",
        "4. Hexadecimal Literal\n",
        "5. Float Literal\n",
        "6. Complex literal\n",
        "7. string literal\n",
        "8. Character literal\n",
        "9. Multiline String literal\n",
        "10. Unicode literal\n",
        "11. Raw_string literal\n",
        "12. Boolean Literal\n",
        "13. None Literal"
      ],
      "metadata": {
        "id": "o73kFzv2ROhZ"
      }
    },
    {
      "cell_type": "code",
      "source": [
        "# 1. Binary literal\n",
        "a = 0b110 #Binary Literals\n",
        "a"
      ],
      "metadata": {
        "colab": {
          "base_uri": "https://localhost:8080/"
        },
        "id": "v0cirOBrNqjQ",
        "outputId": "c9393eb6-68e3-48db-f1e6-d7a09a5058c4"
      },
      "execution_count": 21,
      "outputs": [
        {
          "output_type": "execute_result",
          "data": {
            "text/plain": [
              "6"
            ]
          },
          "metadata": {},
          "execution_count": 21
        }
      ]
    },
    {
      "cell_type": "code",
      "source": [
        "# 2. Decimal Literal\n",
        "b = 100 #Decimal Literal\n",
        "b"
      ],
      "metadata": {
        "colab": {
          "base_uri": "https://localhost:8080/"
        },
        "id": "P6u05elbSoTH",
        "outputId": "30b27e5a-429f-4dd9-89ac-ac4d4f74a48d"
      },
      "execution_count": 22,
      "outputs": [
        {
          "output_type": "execute_result",
          "data": {
            "text/plain": [
              "100"
            ]
          },
          "metadata": {},
          "execution_count": 22
        }
      ]
    },
    {
      "cell_type": "code",
      "source": [
        "# 3. Octal Literal\n",
        "c = 0o710 #Octal Literal\n",
        "c"
      ],
      "metadata": {
        "colab": {
          "base_uri": "https://localhost:8080/"
        },
        "id": "aaGn9BKRS1Yb",
        "outputId": "e7d0c0b8-f495-4d86-80db-33c573a31be1"
      },
      "execution_count": 25,
      "outputs": [
        {
          "output_type": "execute_result",
          "data": {
            "text/plain": [
              "456"
            ]
          },
          "metadata": {},
          "execution_count": 25
        }
      ]
    },
    {
      "cell_type": "code",
      "source": [
        "# 4. Hexadecimal Literal\n",
        "d = 0x12c #Hexadecimal Literal\n",
        "d"
      ],
      "metadata": {
        "colab": {
          "base_uri": "https://localhost:8080/"
        },
        "id": "D1sqVPwDS5iX",
        "outputId": "0ba93b4d-fd78-4a79-b384-bc52d4958f78"
      },
      "execution_count": 27,
      "outputs": [
        {
          "output_type": "execute_result",
          "data": {
            "text/plain": [
              "300"
            ]
          },
          "metadata": {},
          "execution_count": 27
        }
      ]
    },
    {
      "cell_type": "code",
      "source": [
        "# 5. Float Literal\n",
        "e = 10.5 #Float Literal\n",
        "print(e)\n",
        "\n",
        "f = 2.5e2 # 2.5*10^2\n",
        "print(f)\n",
        "\n",
        "g = 2.5e-2 # 2.5*10^-2\n",
        "print(g)\n",
        "\n",
        "h = 2.5e-4 # 2.5* 10^5\n",
        "print(h)\n"
      ],
      "metadata": {
        "colab": {
          "base_uri": "https://localhost:8080/"
        },
        "id": "8tkpYIP2TEsO",
        "outputId": "3a1564ec-c279-4538-d9fd-1c5c09836315"
      },
      "execution_count": 33,
      "outputs": [
        {
          "output_type": "stream",
          "name": "stdout",
          "text": [
            "10.5\n",
            "250.0\n",
            "0.025\n",
            "0.00025\n"
          ]
        }
      ]
    },
    {
      "cell_type": "code",
      "source": [
        "# 6. Complex literal\n",
        "\n",
        "complex_num = 10+5j\n",
        "print(complex_num)\n",
        "\n",
        "print(\"Real=\", complex_num.real)\n",
        "print(\"Imaginary=\", complex_num.imag)"
      ],
      "metadata": {
        "colab": {
          "base_uri": "https://localhost:8080/"
        },
        "id": "bVcyhIJ6TROY",
        "outputId": "fa66d279-4cb9-46a2-857a-2e0094880385"
      },
      "execution_count": 40,
      "outputs": [
        {
          "output_type": "stream",
          "name": "stdout",
          "text": [
            "(10+5j)\n",
            "Real= 10.0\n",
            "Imaginary= 5.0\n"
          ]
        }
      ]
    },
    {
      "cell_type": "code",
      "source": [
        "# 7. string Literals\n",
        "string = 'This is python notebook'\n",
        "print(\"Single quotation:\",string)\n",
        "\n",
        "string2 = \"This is Python Notebook\"\n",
        "print(\"Double Quotation:\", string2)"
      ],
      "metadata": {
        "colab": {
          "base_uri": "https://localhost:8080/"
        },
        "id": "sDV0vZ08UdUH",
        "outputId": "835174e2-f937-4dc8-8d30-42a0b39bc2cb"
      },
      "execution_count": 44,
      "outputs": [
        {
          "output_type": "stream",
          "name": "stdout",
          "text": [
            "Single quotation: This is python notebook\n",
            "Double Quotation: This is Python Notebook\n"
          ]
        }
      ]
    },
    {
      "cell_type": "code",
      "source": [
        "# 8. Character Literals\n",
        "\n",
        "char ='A'\n",
        "print(char)"
      ],
      "metadata": {
        "colab": {
          "base_uri": "https://localhost:8080/"
        },
        "id": "hiAc-3SyU6Vm",
        "outputId": "42efb874-919a-4d0c-98f5-3052cf41ce26"
      },
      "execution_count": 45,
      "outputs": [
        {
          "output_type": "stream",
          "name": "stdout",
          "text": [
            "A\n"
          ]
        }
      ]
    },
    {
      "cell_type": "code",
      "source": [
        "# 9. Multiline String Literal\n",
        "\n",
        "information = \"\"\"Hi, I am Malavika Gowthaman.\n",
        "I have 5 years of experience in AI and Machine Learning.\n",
        "I am a AI engineer.\n",
        "Working in HCL\"\"\"\n",
        "print(information)"
      ],
      "metadata": {
        "colab": {
          "base_uri": "https://localhost:8080/"
        },
        "id": "rtAmSAxBU_oY",
        "outputId": "e6e2f863-8c39-4eda-bd3b-a93b90e3b31e"
      },
      "execution_count": 48,
      "outputs": [
        {
          "output_type": "stream",
          "name": "stdout",
          "text": [
            "Hi, I am Malavika Gowthaman.\n",
            "I have 5 years of experience in AI and Machine Learning.\n",
            "I am a AI engineer.\n",
            "Working in HCL\n"
          ]
        }
      ]
    },
    {
      "cell_type": "code",
      "source": [
        "# 10. Unicode Literals\n",
        "\n",
        "emoji = u'\\U0001F606\\U0001F917'\n",
        "print(emoji)"
      ],
      "metadata": {
        "colab": {
          "base_uri": "https://localhost:8080/"
        },
        "id": "t-c0oFmyVcHm",
        "outputId": "a5b1f1fc-e5c4-44bd-eaae-7365c42790c4"
      },
      "execution_count": 53,
      "outputs": [
        {
          "output_type": "stream",
          "name": "stdout",
          "text": [
            "😆🤗\n"
          ]
        }
      ]
    },
    {
      "cell_type": "code",
      "source": [
        "# 11. Raw String Literals\n",
        "raw_text = \"Hi \\n Hello \\n How are you\"\n",
        "print(raw_text)\n"
      ],
      "metadata": {
        "colab": {
          "base_uri": "https://localhost:8080/"
        },
        "id": "liKolwg8WJAV",
        "outputId": "ae96c488-3294-49e2-d313-00a96d2c2ae8"
      },
      "execution_count": 55,
      "outputs": [
        {
          "output_type": "stream",
          "name": "stdout",
          "text": [
            "Hi \n",
            " Hello \n",
            " How are you\n"
          ]
        }
      ]
    },
    {
      "cell_type": "code",
      "source": [
        "# 12. Boolean Literals\n",
        "\n",
        "# in python True =1, False = 0\n",
        "\n",
        "add = (True+7)\n",
        "print(\"ADD=\",add)\n",
        "\n",
        "add2 = (False+7)\n",
        "print(\"ADD2=\",add2)"
      ],
      "metadata": {
        "colab": {
          "base_uri": "https://localhost:8080/"
        },
        "id": "Jj0Zu05jWnPh",
        "outputId": "25116628-fe82-48c0-be50-19ac4f383df8"
      },
      "execution_count": 60,
      "outputs": [
        {
          "output_type": "stream",
          "name": "stdout",
          "text": [
            "ADD= 8\n",
            "ADD2= 7\n"
          ]
        }
      ]
    },
    {
      "cell_type": "code",
      "source": [
        "#  13. None Literals\n",
        "\n",
        "a = None\n",
        "print(a)\n"
      ],
      "metadata": {
        "colab": {
          "base_uri": "https://localhost:8080/"
        },
        "id": "p3_05HpvW1Mw",
        "outputId": "b66d3b00-7fcc-46bb-a53a-caac9f5c648c"
      },
      "execution_count": 62,
      "outputs": [
        {
          "output_type": "stream",
          "name": "stdout",
          "text": [
            "None\n"
          ]
        }
      ]
    },
    {
      "cell_type": "code",
      "source": [
        "x =\n",
        "y = 100\n",
        "z = 800\n",
        "print(x,y,z)"
      ],
      "metadata": {
        "colab": {
          "base_uri": "https://localhost:8080/",
          "height": 106
        },
        "id": "lfPpvzV6XHc6",
        "outputId": "e3f56bc5-dab8-4725-8bb7-ddcbc11b4e55"
      },
      "execution_count": 63,
      "outputs": [
        {
          "output_type": "error",
          "ename": "SyntaxError",
          "evalue": "invalid syntax (<ipython-input-63-ef6d2857519e>, line 1)",
          "traceback": [
            "\u001b[0;36m  File \u001b[0;32m\"<ipython-input-63-ef6d2857519e>\"\u001b[0;36m, line \u001b[0;32m1\u001b[0m\n\u001b[0;31m    x =\u001b[0m\n\u001b[0m       ^\u001b[0m\n\u001b[0;31mSyntaxError\u001b[0m\u001b[0;31m:\u001b[0m invalid syntax\n"
          ]
        }
      ]
    },
    {
      "cell_type": "code",
      "source": [
        "x = None\n",
        "y = 100\n",
        "z = 800\n",
        "print(x,y,z)"
      ],
      "metadata": {
        "colab": {
          "base_uri": "https://localhost:8080/"
        },
        "id": "7ApF9rIYXP8y",
        "outputId": "af9c8a76-e6b0-447c-bf9f-d9d9b290136e"
      },
      "execution_count": 64,
      "outputs": [
        {
          "output_type": "stream",
          "name": "stdout",
          "text": [
            "None 100 800\n"
          ]
        }
      ]
    },
    {
      "cell_type": "code",
      "source": [
        "2 ** 3 * 3 + 4"
      ],
      "metadata": {
        "colab": {
          "base_uri": "https://localhost:8080/"
        },
        "id": "bhm6leu0XSbg",
        "outputId": "3c6dd7fc-ddef-40da-d702-cede9a05e1c7"
      },
      "execution_count": 65,
      "outputs": [
        {
          "output_type": "execute_result",
          "data": {
            "text/plain": [
              "28"
            ]
          },
          "metadata": {},
          "execution_count": 65
        }
      ]
    },
    {
      "cell_type": "code",
      "source": [
        "2**3"
      ],
      "metadata": {
        "colab": {
          "base_uri": "https://localhost:8080/"
        },
        "id": "vwPRTba_h7vt",
        "outputId": "d2b7717c-d479-47a1-98ff-23e9928decdd"
      },
      "execution_count": 66,
      "outputs": [
        {
          "output_type": "execute_result",
          "data": {
            "text/plain": [
              "8"
            ]
          },
          "metadata": {},
          "execution_count": 66
        }
      ]
    },
    {
      "cell_type": "code",
      "source": [
        "8*3"
      ],
      "metadata": {
        "colab": {
          "base_uri": "https://localhost:8080/"
        },
        "id": "wAE8oVXGh-KQ",
        "outputId": "43870896-62e9-4944-fe01-b330851dc93a"
      },
      "execution_count": 67,
      "outputs": [
        {
          "output_type": "execute_result",
          "data": {
            "text/plain": [
              "24"
            ]
          },
          "metadata": {},
          "execution_count": 67
        }
      ]
    },
    {
      "cell_type": "code",
      "source": [],
      "metadata": {
        "id": "YcI6lhnkiB0y"
      },
      "execution_count": null,
      "outputs": []
    }
  ]
}