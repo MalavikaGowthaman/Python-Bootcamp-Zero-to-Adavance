{
 "cells": [
  {
   "cell_type": "markdown",
   "metadata": {},
   "source": [
    "### enumerate function in python\n",
    "\n",
    "- to get a index number"
   ]
  },
  {
   "cell_type": "code",
   "execution_count": 1,
   "metadata": {},
   "outputs": [
    {
     "name": "stdout",
     "output_type": "stream",
     "text": [
      "apple\n",
      "orange\n",
      "grapes\n",
      "Pomo\n",
      "Berry\n"
     ]
    }
   ],
   "source": [
    "L = [\"apple\",\"orange\",\"grapes\",\"Pomo\",\"Berry\"]\n",
    "\n",
    "for i in L:\n",
    "    print(i) # it just return the value not with index so to get index number can use enumerate"
   ]
  },
  {
   "cell_type": "code",
   "execution_count": 2,
   "metadata": {},
   "outputs": [
    {
     "name": "stdout",
     "output_type": "stream",
     "text": [
      "(0, 'apple')\n",
      "(1, 'orange')\n",
      "(2, 'grapes')\n",
      "(3, 'Pomo')\n",
      "(4, 'Berry')\n"
     ]
    }
   ],
   "source": [
    "L = [\"apple\",\"orange\",\"grapes\",\"Pomo\",\"Berry\"]\n",
    "\n",
    "for i in enumerate(L):\n",
    "    print(i) "
   ]
  },
  {
   "cell_type": "code",
   "execution_count": 3,
   "metadata": {},
   "outputs": [
    {
     "name": "stdout",
     "output_type": "stream",
     "text": [
      "(1, 'apple')\n",
      "(2, 'orange')\n",
      "(3, 'grapes')\n",
      "(4, 'Pomo')\n",
      "(5, 'Berry')\n"
     ]
    }
   ],
   "source": [
    "L = [\"apple\",\"orange\",\"grapes\",\"Pomo\",\"Berry\"]\n",
    "\n",
    "for i in enumerate(L, start= 1):\n",
    "    print(i) "
   ]
  },
  {
   "cell_type": "code",
   "execution_count": 6,
   "metadata": {},
   "outputs": [
    {
     "name": "stdout",
     "output_type": "stream",
     "text": [
      "1 apple\n",
      "2 orange\n",
      "3 grapes\n",
      "4 Pomo\n",
      "5 Berry\n"
     ]
    }
   ],
   "source": [
    "L = [\"apple\",\"orange\",\"grapes\",\"Pomo\",\"Berry\"]\n",
    "\n",
    "for index,i in enumerate(L, start= 1):\n",
    "    print(index,i) "
   ]
  },
  {
   "cell_type": "code",
   "execution_count": null,
   "metadata": {},
   "outputs": [],
   "source": []
  }
 ],
 "metadata": {
  "kernelspec": {
   "display_name": "base",
   "language": "python",
   "name": "python3"
  },
  "language_info": {
   "codemirror_mode": {
    "name": "ipython",
    "version": 3
   },
   "file_extension": ".py",
   "mimetype": "text/x-python",
   "name": "python",
   "nbconvert_exporter": "python",
   "pygments_lexer": "ipython3",
   "version": "3.12.4"
  }
 },
 "nbformat": 4,
 "nbformat_minor": 2
}
